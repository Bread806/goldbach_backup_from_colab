{
  "nbformat": 4,
  "nbformat_minor": 0,
  "metadata": {
    "colab": {
      "provenance": [],
      "authorship_tag": "ABX9TyPX4z5AJhaBQYg6wmZKCZKq",
      "include_colab_link": true
    },
    "kernelspec": {
      "name": "python3",
      "display_name": "Python 3"
    },
    "language_info": {
      "name": "python"
    }
  },
  "cells": [
    {
      "cell_type": "markdown",
      "metadata": {
        "id": "view-in-github",
        "colab_type": "text"
      },
      "source": [
        "<a href=\"https://colab.research.google.com/github/Bread806/goldbach_backup_from_colab/blob/main/goldbach_0325_test_MutiLNEuler_5layer.ipynb\" target=\"_parent\"><img src=\"https://colab.research.google.com/assets/colab-badge.svg\" alt=\"Open In Colab\"/></a>"
      ]
    },
    {
      "cell_type": "markdown",
      "source": [
        "# Euler 實驗結果測試\n",
        "<a href=\"https://drive.google.com/file/d/1RzHAFqRE0sV5uXkwbzjXXo0uOHL8SFRo/view?usp=sharing\">請見paper</a><br>\n",
        "把每一層都做LN<br>\n",
        "要對 G4 做正規化"
      ],
      "metadata": {
        "id": "O-1Ma6ex2-KZ"
      }
    },
    {
      "cell_type": "code",
      "source": [
        "from google.colab import drive\n",
        "drive.mount(\"/content/Drive\")"
      ],
      "metadata": {
        "colab": {
          "base_uri": "https://localhost:8080/"
        },
        "id": "wNYcmX52zpq7",
        "outputId": "be80aced-6ebc-4073-b4b4-9d4f7aeb2cb7"
      },
      "execution_count": null,
      "outputs": [
        {
          "output_type": "stream",
          "name": "stdout",
          "text": [
            "Mounted at /content/Drive\n"
          ]
        }
      ]
    },
    {
      "cell_type": "code",
      "source": [
        "# from tensorflow.keras.layers.experimental.preprocessing import TextVectorization\n",
        "from tensorflow.keras.layers import Embedding, Dense, Flatten, LayerNormalization, Input,Activation, concatenate, Lambda\n",
        "from tensorflow.keras.optimizers import Adam\n",
        "from tensorflow.keras.callbacks import EarlyStopping\n",
        "from tensorflow.keras import backend as K\n",
        "from sklearn.model_selection import train_test_split\n",
        "from tensorflow.keras.utils import to_categorical\n",
        "from tensorflow.keras.models import Sequential, Model\n",
        "import pandas as pd\n",
        "import numpy as np\n",
        "import tensorflow as tf\n",
        "from sklearn.preprocessing import StandardScaler\n",
        "from random import choice, sample\n",
        "import math\n",
        "\n",
        "\n",
        "def is_prime(num):\n",
        "    \"\"\"檢查一個數字是否為質數\"\"\"\n",
        "    if num <= 1:\n",
        "        return False\n",
        "    sqr_num = int(num ** 0.5)\n",
        "    # for i in range(2, sqr_num+ 1):\n",
        "    for i in range(2, sqr_num+ 1):\n",
        "        if num % i == 0:\n",
        "            return False\n",
        "    return True\n",
        "\n",
        "\n",
        "def prime_table(x):\n",
        "    \"\"\"建立小於x的質數表\"\"\"\n",
        "    primes = [num for num in range(2, x) if is_prime(num)]\n",
        "    return primes\n",
        "\n",
        "\n",
        "def convert_base_into_list(number, base, width=10):\n",
        "    result = []  # init list\n",
        "\n",
        "    for i in range(width):\n",
        "        result.append(number % base)\n",
        "        number = number // base\n",
        "    result = result[::-1]\n",
        "    return result\n",
        "\n",
        "\n",
        "def prime_to_index(primeSize, primes, number):\n",
        "    for index in range(primeSize):\n",
        "        if number == primes[index]:\n",
        "            return index\n",
        "    return -1\n",
        "\n",
        "def add_prime(primeTable, limit, addSize=5):\n",
        "    halfList = [num for num in primeTable if num <= int(limit//2)]\n",
        "    if len(halfList) < 5:\n",
        "      halfList += [0] * (5 - len(halfList))\n",
        "    return sample(halfList, addSize)\n",
        "\n",
        "def add_mod(primeTable25, num):\n",
        "  return [num%index for index in primeTable25]\n",
        "\n",
        "def gcd(a, b):\n",
        "    while b != 0:\n",
        "        a, b = b, a % b\n",
        "    return a\n",
        "\n",
        "\n",
        "def compute_coprimes(n): ## 獲得質因數 zero padding 到40\n",
        "    coprimes = []\n",
        "    lenth = 50\n",
        "    for num in range(1,n):\n",
        "        if gcd(num , n) == 1:\n",
        "            coprimes.append(num)\n",
        "        if len(coprimes) >= lenth:\n",
        "            return coprimes\n",
        "    coprimes = coprimes + [0] * (lenth - len(coprimes))\n",
        "    return coprimes\n"
      ],
      "metadata": {
        "id": "Veno4zyPzi57"
      },
      "execution_count": null,
      "outputs": []
    },
    {
      "cell_type": "code",
      "execution_count": null,
      "metadata": {
        "colab": {
          "base_uri": "https://localhost:8080/"
        },
        "id": "TdPvfso6zdJ2",
        "outputId": "879aa3bc-4317-46d9-db22-5a66cd2c9ba0"
      },
      "outputs": [
        {
          "output_type": "stream",
          "name": "stdout",
          "text": [
            "---loading data---\n",
            "---loading data done.---\n"
          ]
        }
      ],
      "source": [
        "# shuffle\n",
        "\n",
        "print(\"---loading data---\")\n",
        "# load data\n",
        "trainData = pd.read_csv('/content/Drive/MyDrive/實驗/goldbach/csv/traindata_min_size_G4_5000.csv')\n",
        "trainDataNumbers = trainData['Number'].values\n",
        "trainDataLabel = trainData['Factors'].values\n",
        "print(\"---loading data done.---\")\n",
        "\n",
        "# shuffle training data\n",
        "shuffleIndices = np.random.permutation(len(trainDataNumbers))\n",
        "shuffledNumbers = trainDataNumbers[shuffleIndices]\n",
        "shuffledLabel = trainDataLabel[shuffleIndices]"
      ]
    },
    {
      "cell_type": "code",
      "source": [
        "print (len(trainDataNumbers))"
      ],
      "metadata": {
        "colab": {
          "base_uri": "https://localhost:8080/"
        },
        "id": "T0VWLQPK6F7a",
        "outputId": "688c6e0c-8d5c-4f40-ebec-2925a9cd5804"
      },
      "execution_count": null,
      "outputs": [
        {
          "output_type": "stream",
          "name": "stdout",
          "text": [
            "5000\n"
          ]
        }
      ]
    },
    {
      "cell_type": "code",
      "source": [
        "# loadding prime table\n",
        "primeTable = pd.read_csv(\"/content/Drive/MyDrive/實驗/goldbach/csv/prime_table_5000000.csv\")\n",
        "primeTableNumber = primeTable[\"primes\"].values\n",
        "print (\"---loading primes table---\")"
      ],
      "metadata": {
        "colab": {
          "base_uri": "https://localhost:8080/"
        },
        "id": "k5qpkhdJ0ZlU",
        "outputId": "acfbfe4b-a74c-4145-eed2-bd3a261429ab"
      },
      "execution_count": null,
      "outputs": [
        {
          "output_type": "stream",
          "name": "stdout",
          "text": [
            "---loading primes table---\n"
          ]
        }
      ]
    },
    {
      "cell_type": "markdown",
      "source": [],
      "metadata": {
        "id": "XjDFb9Z-GlrU"
      }
    },
    {
      "cell_type": "code",
      "source": [
        "# generate 25 prime table\n",
        "primeTable25 = primeTableNumber[:25]\n",
        "print (primeTable25)"
      ],
      "metadata": {
        "colab": {
          "base_uri": "https://localhost:8080/"
        },
        "id": "JkqY4sWrMaNh",
        "outputId": "c9da13dd-3b23-4645-bfcc-f3a305d6ce72"
      },
      "execution_count": null,
      "outputs": [
        {
          "output_type": "stream",
          "name": "stdout",
          "text": [
            "[ 2  3  5  7 11 13 17 19 23 29 31 37 41 43 47 53 59 61 67 71 73 79 83 89\n",
            " 97]\n"
          ]
        }
      ]
    },
    {
      "cell_type": "code",
      "source": [
        "# collect data\n",
        "# prepare training set\n",
        "mergedTrainNumber = []\n",
        "mergedTrainLabel = []\n",
        "\n",
        "for num in shuffledNumbers:\n",
        "\n",
        "    # Euler's Totient Function Partitions fist 50\n",
        "    feature = []\n",
        "    feature = compute_coprimes(num)\n",
        "    mergedTrainNumber.append(feature)\n",
        "\n",
        "for num in shuffledLabel:\n",
        "    mergedTrainLabel.append(num)\n",
        "\n",
        "    print(\"merge number \", num, \" done.\")\n",
        "\n",
        "#print (mergedTrainNumber)"
      ],
      "metadata": {
        "id": "3MZY96_M0KIu"
      },
      "execution_count": null,
      "outputs": []
    },
    {
      "cell_type": "code",
      "source": [
        "mergedArray = np.array(mergedTrainNumber)\n",
        "mergedLabel = np.array(mergedTrainLabel)"
      ],
      "metadata": {
        "id": "R4v5443kK8Lq"
      },
      "execution_count": null,
      "outputs": []
    },
    {
      "cell_type": "code",
      "source": [
        "X_train, X_val, y_train, y_val = train_test_split(mergedArray, mergedLabel, test_size=0.2, random_state=42)\n",
        "print (\"X Train [0] value : \\n\",X_train[0])\n",
        "print (\"X Train [0] label : \",y_train[0])\n",
        "print (\"=======\")\n",
        "print (\"X shpae : \" , X_train[0].shape)"
      ],
      "metadata": {
        "id": "jyTwBG1jzoK8",
        "colab": {
          "base_uri": "https://localhost:8080/"
        },
        "outputId": "becf20d2-e737-43f1-f2ef-f54257b9c2d9"
      },
      "execution_count": null,
      "outputs": [
        {
          "output_type": "stream",
          "name": "stdout",
          "text": [
            "X Train [0] value : \n",
            " [  1   3   5   7   9  11  13  15  17  19  21  23  25  27  29  31  33  35\n",
            "  37  39  41  43  45  47  49  51  53  55  57  61  63  65  67  69  71  73\n",
            "  75  77  79  81  83  85  87  89  91  93  95  97  99 101]\n",
            "X Train [0] label :  2622.509707\n",
            "=======\n",
            "X shpae :  (50,)\n"
          ]
        }
      ]
    },
    {
      "cell_type": "code",
      "source": [],
      "metadata": {
        "id": "TtSW_xrT7LAr"
      },
      "execution_count": null,
      "outputs": []
    },
    {
      "cell_type": "code",
      "source": [
        "# start training\n",
        "# 清空所有\n",
        "K.clear_session()\n",
        "\n",
        "################################################################\n",
        "\n",
        "def LN_Layer(x,u1,u2):\n",
        "  # two group\n",
        "  group1 = x\n",
        "  group2 = Activation('relu')(x)\n",
        "  group2 = Lambda(lambda x: K.log(x + 1))(group2)  # 使用 natural logarithm\n",
        "\n",
        "  # G1 -> next\n",
        "  group1 = Dense(units=u1, activation='relu')(group1)\n",
        "\n",
        "  # G2 -> exp -> next\n",
        "  group2 = Dense(units=u2, activation='linear')(group2)\n",
        "  group2 = Activation('exponential')(group2)\n",
        "\n",
        "  # concate\n",
        "  merged = concatenate([group1, group2], axis=-1)\n",
        "\n",
        "  return merged\n",
        "\n",
        "\n",
        "# require gpu\n",
        "device = \"/device:GPU:0\"\n",
        "with tf.device(device):\n",
        "    print(f\"--- gpu {device} is loaded. ---\")\n",
        "    inputLayer = Input(shape=X_train[0].shape)\n",
        "\n",
        "    # LN_input\n",
        "    LN_1 = LN_Layer(inputLayer,50,200)\n",
        "\n",
        "    # LN_2\n",
        "    LN_2 = LN_Layer(LN_1,120,80)\n",
        "\n",
        "    # LN_3\n",
        "    LN_3 = LN_Layer(LN_2,120,80)\n",
        "\n",
        "    # LN_4\n",
        "    LN_4 = LN_Layer(LN_3,60,140)\n",
        "\n",
        "    # LN_5\n",
        "    LN_5 = LN_Layer(LN_4,60,140)\n",
        "\n",
        "\n",
        "    #Output\n",
        "    outputLayer = Dense(units=1, activation='linear')(LN_5)\n",
        "    model = Model(inputs=inputLayer , outputs=outputLayer)\n",
        "\n",
        "\n",
        "    print(model.summary())\n",
        "\n",
        "    custom_adam_optimizer = Adam(learning_rate=0.001)\n",
        "    model.compile(loss='MSE', optimizer=custom_adam_optimizer,\n",
        "                  metrics=['accuracy'])    # train version 2\n",
        "\n",
        "    # train model\n",
        "    print(\"---starting training---\")\n",
        "    trainHistory = model.fit(X_train, y_train, epochs=1000,batch_size=2048, validation_data=(X_val, y_val))\n",
        "    print(\"--------------------------------------------------------\")\n",
        "\n",
        "    # save model\n",
        "    model.save('./model/goldbach_model_0325_.h5')\n",
        "print(\"model saved.\")\n"
      ],
      "metadata": {
        "id": "ge8BVKMTznDr"
      },
      "execution_count": null,
      "outputs": []
    },
    {
      "cell_type": "markdown",
      "source": [
        "# predict"
      ],
      "metadata": {
        "id": "hQJtQBsxISQa"
      }
    },
    {
      "cell_type": "code",
      "source": [
        "from google.colab import drive\n",
        "drive.mount(\"/content/Drive\")"
      ],
      "metadata": {
        "colab": {
          "base_uri": "https://localhost:8080/"
        },
        "id": "_nbn4CLgI-I-",
        "outputId": "7092db27-30a9-471b-9849-cc4c824c902d"
      },
      "execution_count": null,
      "outputs": [
        {
          "output_type": "stream",
          "name": "stdout",
          "text": [
            "Mounted at /content/Drive\n"
          ]
        }
      ]
    },
    {
      "cell_type": "code",
      "source": [
        "# loadding prime table\n",
        "primeTable = pd.read_csv(\"/content/Drive/MyDrive/實驗/goldbach/csv/prime_table_5000000.csv\")\n",
        "primeTableNumber = primeTable[\"primes\"].values\n",
        "print (\"---loading primes table---\")\n",
        "\n",
        "\n",
        "# generate 25 prime table\n",
        "primeTable25 = primeTableNumber[:25]\n",
        "print (primeTable25)"
      ],
      "metadata": {
        "colab": {
          "base_uri": "https://localhost:8080/"
        },
        "id": "0c8mDF4dJ9YC",
        "outputId": "b5b6d7f2-d138-43bc-c557-d8b12ceca25d"
      },
      "execution_count": null,
      "outputs": [
        {
          "output_type": "stream",
          "name": "stdout",
          "text": [
            "---loading primes table---\n",
            "[ 2  3  5  7 11 13 17 19 23 29 31 37 41 43 47 53 59 61 67 71 73 79 83 89\n",
            " 97]\n"
          ]
        }
      ]
    },
    {
      "cell_type": "code",
      "source": [
        "## load data\n",
        "from tensorflow.keras.models import load_model\n",
        "import csv\n",
        "import pandas as pd\n",
        "import numpy as np\n",
        "\n",
        "# 指定 HDF5 模型文件的路徑\n",
        "modelPath = '/content/Drive/MyDrive/實驗/model_save/goldbach_model_0325_mltiEuler_4layer_2.h5'\n",
        "\n",
        "# 使用 load_model\n",
        "model = load_model(modelPath)\n",
        "\n",
        "# load test_set and prime data\n",
        "testDataPath = '/content/Drive/MyDrive/實驗/goldbach/csv/test_set_G4_7M.csv'\n",
        "testData = pd.read_csv(testDataPath)\n",
        "testDataNumbers = testData['Number'].values\n",
        "testDataLabel = testData['Factors'].values\n",
        "testDataG4 = testData['G4'].values\n",
        "testDataPartition = testData['Partition'].values\n",
        "\n",
        "print(\"---loading test data done.---\")\n"
      ],
      "metadata": {
        "colab": {
          "base_uri": "https://localhost:8080/"
        },
        "id": "LHHJ3UKUI4Kd",
        "outputId": "e781e7ee-1c4a-4a96-d345-ac735dac9a29"
      },
      "execution_count": null,
      "outputs": [
        {
          "output_type": "stream",
          "name": "stdout",
          "text": [
            "---loading test data done.---\n"
          ]
        }
      ]
    },
    {
      "cell_type": "code",
      "source": [
        "testDataNumbers = [100000, 10000, 1000, 1579746]\n",
        "testDataPartition = [810, 127, 28, 14932]"
      ],
      "metadata": {
        "id": "GrSqjAH90krK"
      },
      "execution_count": null,
      "outputs": []
    },
    {
      "cell_type": "code",
      "source": [
        "# collect data\n",
        "# prepare training set\n",
        "mergedTestNumber = []\n",
        "mergedTestLabel = []\n",
        "\n",
        "for num in testDataNumbers:\n",
        "    #Euler's Totient Function Partitions fist 50\n",
        "    feature = []\n",
        "    feature = compute_coprimes(num)\n",
        "    mergedTestNumber.append(feature)\n",
        "\n",
        "for num in testDataPartition:\n",
        "    mergedTestLabel.append(num)"
      ],
      "metadata": {
        "id": "w0gtoY8mStjm"
      },
      "execution_count": null,
      "outputs": []
    },
    {
      "cell_type": "code",
      "source": [
        "mergedArray = np.array(mergedTestNumber)\n",
        "mergedLabel = np.array(mergedTestLabel)"
      ],
      "metadata": {
        "id": "NqG32lBzKND0"
      },
      "execution_count": null,
      "outputs": []
    },
    {
      "cell_type": "code",
      "source": [
        "evaluation = model.evaluate(mergedArray, mergedLabel)\n",
        "print (\"Loss:\", evaluation[0])\n",
        "print (\"Accuracy:\", evaluation[1])\n",
        "print (\"##########################\")\n",
        "predictions = model.predict(mergedArray)\n",
        "\n"
      ],
      "metadata": {
        "id": "Jn3qRRzIKwVH",
        "colab": {
          "base_uri": "https://localhost:8080/"
        },
        "outputId": "f00a8e46-764f-4619-99b4-4420eb4101a6"
      },
      "execution_count": null,
      "outputs": [
        {
          "output_type": "stream",
          "name": "stdout",
          "text": [
            "2/2 [==============================] - 1s 45ms/step - loss: 1433156480.0000 - accuracy: 0.0000e+00\n",
            "Loss: 1433156480.0\n",
            "Accuracy: 0.0\n",
            "##########################\n",
            "2/2 [==============================] - 0s 9ms/step\n"
          ]
        }
      ]
    },
    {
      "cell_type": "code",
      "source": [
        "\"\"\"\n",
        "順便計算了G4\n",
        "本模型的訓練目的是建立原始分區與 G4 之間的關係，\n",
        "因此標籤資料需要除以 G4。下方的測試資料中，數值 7984914 的正確答案是 58853，而模型預測值為 1.721389。\n",
        "\n",
        "實際上，正確答案應該是 1.721389 乘以 G4，這樣才能得到模型的最終正確答案。\n",
        "\"\"\"\n",
        "# cal G4\n",
        "def G4(n) -> int:\n",
        "  return int((n / np.log((n/2))**2)+0.5)\n",
        "\n",
        "testDataG4 = [G4(i) for i in testDataNumbers]\n",
        "\n",
        "\n",
        "print (f\"測試五十筆資料\")\n",
        "roundPredictions = np.round(predictions)\n",
        "for index, number in enumerate(testDataNumbers):\n",
        "  print (f\"第{index}筆資料為數字:\\t{number}\\t|正確答案為:{testDataPartition[index]}\\t模型預估為{predictions[index]}, 四捨五入到{roundPredictions[index]}\")"
      ],
      "metadata": {
        "id": "aBJHTke7LvXm",
        "colab": {
          "base_uri": "https://localhost:8080/"
        },
        "outputId": "d0f2b0cf-7261-462d-db5a-1d27757427f6"
      },
      "execution_count": null,
      "outputs": [
        {
          "output_type": "stream",
          "name": "stdout",
          "text": [
            "測試五十筆資料\n",
            "第0筆資料為數字:\t7984914\t|正確答案為:58853\t模型預估為[1.721389], 四捨五入到[2.]\n",
            "第1筆資料為數字:\t7050792\t|正確答案為:51667\t模型預估為[1.6746786], 四捨五入到[2.]\n",
            "第2筆資料為數字:\t7852768\t|正確答案為:31367\t模型預估為[0.9302076], 四捨五入到[1.]\n",
            "第3筆資料為數字:\t7807448\t|正確答案為:26161\t模型預估為[0.7781038], 四捨五入到[1.]\n",
            "第4筆資料為數字:\t7695230\t|正確答案為:31001\t模型預估為[0.9379368], 四捨五入到[1.]\n",
            "第5筆資料為數字:\t7109000\t|正確答案為:28859\t模型預估為[0.9379368], 四捨五入到[1.]\n",
            "第6筆資料為數字:\t7268430\t|正確答案為:64326\t模型預估為[2.0327833], 四捨五入到[2.]\n",
            "第7筆資料為數字:\t7147384\t|正確答案為:22306\t模型預估為[0.71668863], 四捨五入到[1.]\n",
            "第8筆資料為數字:\t7555772\t|正確答案為:27371\t模型預估為[0.8386079], 四捨五入到[1.]\n",
            "第9筆資料為數字:\t7066874\t|正確答案為:21654\t模型預估為[0.7017362], 四捨五入到[1.]\n",
            "第10筆資料為數字:\t7632520\t|正確答案為:36879\t模型預估為[1.1266344], 四捨五入到[1.]\n",
            "第11筆資料為數字:\t7039812\t|正確答案為:46596\t模型預估為[1.5313977], 四捨五入到[2.]\n",
            "第12筆資料為數字:\t7670862\t|正確答案為:46176\t模型預估為[1.4010736], 四捨五入到[1.]\n",
            "第13筆資料為數字:\t7402232\t|正確答案為:22333\t模型預估為[0.7017362], 四捨五入到[1.]\n",
            "第14筆資料為數字:\t7432508\t|正確答案為:22866\t模型預估為[0.7137461], 四捨五入到[1.]\n",
            "第15筆資料為數字:\t7230862\t|正確答案為:22140\t模型預估為[0.7017362], 四捨五入到[1.]\n",
            "第16筆資料為數字:\t7305346\t|正確答案為:22305\t模型預估為[0.7017362], 四捨五入到[1.]\n",
            "第17筆資料為數字:\t7349124\t|正確答案為:47254\t模型預估為[1.4913088], 四捨五入到[1.]\n",
            "第18筆資料為數字:\t7134356\t|正確答案為:22965\t模型預估為[0.7489966], 四捨五入到[1.]\n",
            "第19筆資料為數字:\t7990454\t|正確答案為:23942\t模型預估為[0.7017362], 四捨五入到[1.]\n",
            "第20筆資料為數字:\t7024954\t|正確答案為:22002\t模型預估為[0.70951164], 四捨五入到[1.]\n",
            "第21筆資料為數字:\t7715734\t|正確答案為:25511\t模型預估為[0.76932776], 四捨五入到[1.]\n",
            "第22筆資料為數字:\t7389732\t|正確答案為:53823\t模型預估為[1.6746786], 四捨五入到[2.]\n",
            "第23筆資料為數字:\t7399392\t|正確答案為:65325\t模型預估為[2.0360467], 四捨五入到[2.]\n",
            "第24筆資料為數字:\t7733444\t|正確答案為:23978\t模型預估為[0.7204008], 四捨五入到[1.]\n",
            "第25筆資料為數字:\t7472958\t|正確答案為:45171\t模型預估為[1.4010736], 四捨五入到[1.]\n",
            "第26筆資料為數字:\t7229336\t|正確答案為:22227\t模型預估為[0.70689404], 四捨五入到[1.]\n",
            "第27筆資料為數字:\t7642944\t|正確答案為:46283\t模型預估為[1.4010736], 四捨五入到[1.]\n",
            "第28筆資料為數字:\t7259704\t|正確答案為:23166\t模型預估為[0.7310159], 四捨五入到[1.]\n",
            "第29筆資料為數字:\t7121414\t|正確答案為:22558\t模型預估為[0.73034346], 四捨五入到[1.]\n",
            "第30筆資料為數字:\t7784406\t|正確答案為:56207\t模型預估為[1.6746787], 四捨五入到[2.]\n",
            "第31筆資料為數字:\t7049660\t|正確答案為:28538\t模型預估為[0.93793595], 四捨五入到[1.]\n",
            "第32筆資料為數字:\t7502200\t|正確答案為:30025\t模型預估為[0.9379368], 四捨五入到[1.]\n",
            "第33筆資料為數字:\t7166374\t|正確答案為:21786\t模型預估為[0.7017362], 四捨五入到[1.]\n",
            "第34筆資料為數字:\t7733050\t|正確答案為:33860\t模型預估為[1.0254095], 四捨五入到[1.]\n",
            "第35筆資料為數字:\t7576878\t|正確答案為:46031\t模型預估為[1.4010736], 四捨五入到[1.]\n",
            "第36筆資料為數字:\t7685390\t|正確答案為:32376\t模型預估為[0.96794677], 四捨五入到[1.]\n",
            "第37筆資料為數字:\t7883096\t|正確答案為:25863\t模型預估為[0.76932776], 四捨五入到[1.]\n",
            "第38筆資料為數字:\t7177008\t|正確答案為:43561\t模型預估為[1.4010736], 四捨五入到[1.]\n",
            "第39筆資料為數字:\t7037344\t|正確答案為:21553\t模型預估為[0.7017362], 四捨五入到[1.]\n",
            "第40筆資料為數字:\t7000034\t|正確答案為:21393\t模型預估為[0.7017362], 四捨五入到[1.]\n",
            "第41筆資料為數字:\t7243074\t|正確答案為:44362\t模型預估為[1.4082118], 四捨五入到[1.]\n",
            "第42筆資料為數字:\t7097916\t|正確答案為:51956\t模型預估為[1.6746786], 四捨五入到[2.]\n",
            "第43筆資料為數字:\t7829402\t|正確答案為:28162\t模型預估為[0.8386079], 四捨五入到[1.]\n",
            "第44筆資料為數字:\t7852972\t|正確答案為:23621\t模型預估為[0.7017362], 四捨五入到[1.]\n",
            "第45筆資料為數字:\t7648320\t|正確答案為:63924\t模型預估為[1.9367294], 四捨五入到[2.]\n",
            "第46筆資料為數字:\t7236930\t|正確答案為:59226\t模型預估為[1.8760891], 四捨五入到[2.]\n",
            "第47筆資料為數字:\t7606482\t|正確答案為:50630\t模型預估為[1.5437981], 四捨五入到[2.]\n",
            "第48筆資料為數字:\t7268224\t|正確答案為:22013\t模型預估為[0.7017362], 四捨五入到[1.]\n",
            "第49筆資料為數字:\t7757512\t|正確答案為:28258\t模型預估為[0.8434409], 四捨五入到[1.]\n",
            "[34561, 31024, 34064, 33893, 33470, 31246, 31853, 31392, 32943, 31085, 33233, 30982, 33378, 32361, 32476, 31710, 31993, 32159, 31342, 34582, 30925, 33547, 32314, 32350, 33614, 32629, 31704, 33272, 31820, 31293, 33806, 31019, 32740, 31464, 33613, 33023, 33433, 34178, 31505, 30972, 30830, 31756, 31204, 33976, 34065, 33293, 31733, 33134, 31852, 33705]\n"
          ]
        }
      ]
    },
    {
      "cell_type": "code",
      "source": [],
      "metadata": {
        "id": "8-jD-hIW2SAk"
      },
      "execution_count": null,
      "outputs": []
    },
    {
      "cell_type": "markdown",
      "source": [
        "# +N 才要執行正規"
      ],
      "metadata": {
        "id": "HSrRRRUCxEBi"
      }
    },
    {
      "cell_type": "code",
      "source": [
        "\"\"\"\n",
        "+n 調整\n",
        "+n 代表對原本的partition進行一些修改。\n",
        "在這裡，+n 是將partition針對 G4 進行正規化，也就是將標籤 (label) 除以 G4。因此，我們需要在這一段將標籤正規化回來。\n",
        "\n",
        "這就是為什麼在計算中包含了乘以 testDataG4 的部分。\n",
        "\"\"\"\n",
        "print (f\"將50筆測資正規化回G4\")\n",
        "normalizedTest = []\n",
        "normalizedPred = []\n",
        "for index in range(len(testDataLabel)):\n",
        "  normalizedTest.append(testDataLabel[index]*testDataG4[index]) # normalize ground truth\n",
        "  normalizedPred.append(predictions[index]*testDataG4[index])  # normalize predition\n",
        "\n"
      ],
      "metadata": {
        "id": "kpj8x56en-uY",
        "colab": {
          "base_uri": "https://localhost:8080/"
        },
        "outputId": "31c783e1-20ce-4c1a-fd24-06382cd5704f"
      },
      "execution_count": null,
      "outputs": [
        {
          "output_type": "stream",
          "name": "stdout",
          "text": [
            "將50筆測資正規化回G4\n"
          ]
        }
      ]
    },
    {
      "cell_type": "code",
      "source": [
        "\"\"\"\n",
        "正規化後的測試\n",
        "\"\"\"\n",
        "print (f\"將50筆測資正規化回G4\")\n",
        "for index, number in enumerate(testDataNumbers):\n",
        "  print (f\"第{index}筆資料為數字:\\t{number}\\t|正確答案 = {testDataPartition[index]:05d}\\t模型預估 = {int(normalizedPred[index])}\")"
      ],
      "metadata": {
        "id": "oNLdiKSHmozC",
        "colab": {
          "base_uri": "https://localhost:8080/"
        },
        "outputId": "3a172193-82fa-47d4-ce12-a0c2770d6a5e"
      },
      "execution_count": null,
      "outputs": [
        {
          "output_type": "stream",
          "name": "stdout",
          "text": [
            "將50筆測資正規化回G4\n",
            "第0筆資料為數字:\t7984914\t|正確答案 = 58853\t模型預估 = 59492\n",
            "第1筆資料為數字:\t7050792\t|正確答案 = 51667\t模型預估 = 51955\n",
            "第2筆資料為數字:\t7852768\t|正確答案 = 31367\t模型預估 = 31686\n",
            "第3筆資料為數字:\t7807448\t|正確答案 = 26161\t模型預估 = 26372\n",
            "第4筆資料為數字:\t7695230\t|正確答案 = 31001\t模型預估 = 31392\n",
            "第5筆資料為數字:\t7109000\t|正確答案 = 28859\t模型預估 = 29306\n",
            "第6筆資料為數字:\t7268430\t|正確答案 = 64326\t模型預估 = 64750\n",
            "第7筆資料為數字:\t7147384\t|正確答案 = 22306\t模型預估 = 22498\n",
            "第8筆資料為數字:\t7555772\t|正確答案 = 27371\t模型預估 = 27626\n",
            "第9筆資料為數字:\t7066874\t|正確答案 = 21654\t模型預估 = 21813\n",
            "第10筆資料為數字:\t7632520\t|正確答案 = 36879\t模型預估 = 37441\n",
            "第11筆資料為數字:\t7039812\t|正確答案 = 46596\t模型預估 = 47445\n",
            "第12筆資料為數字:\t7670862\t|正確答案 = 46176\t模型預估 = 46765\n",
            "第13筆資料為數字:\t7402232\t|正確答案 = 22333\t模型預估 = 22708\n",
            "第14筆資料為數字:\t7432508\t|正確答案 = 22866\t模型預估 = 23179\n",
            "第15筆資料為數字:\t7230862\t|正確答案 = 22140\t模型預估 = 22252\n",
            "第16筆資料為數字:\t7305346\t|正確答案 = 22305\t模型預估 = 22450\n",
            "第17筆資料為數字:\t7349124\t|正確答案 = 47254\t模型預估 = 47959\n",
            "第18筆資料為數字:\t7134356\t|正確答案 = 22965\t模型預估 = 23475\n",
            "第19筆資料為數字:\t7990454\t|正確答案 = 23942\t模型預估 = 24267\n",
            "第20筆資料為數字:\t7024954\t|正確答案 = 22002\t模型預估 = 21941\n",
            "第21筆資料為數字:\t7715734\t|正確答案 = 25511\t模型預估 = 25808\n",
            "第22筆資料為數字:\t7389732\t|正確答案 = 53823\t模型預估 = 54115\n",
            "第23筆資料為數字:\t7399392\t|正確答案 = 65325\t模型預估 = 65866\n",
            "第24筆資料為數字:\t7733444\t|正確答案 = 23978\t模型預估 = 24215\n",
            "第25筆資料為數字:\t7472958\t|正確答案 = 45171\t模型預估 = 45715\n",
            "第26筆資料為數字:\t7229336\t|正確答案 = 22227\t模型預估 = 22411\n",
            "第27筆資料為數字:\t7642944\t|正確答案 = 46283\t模型預估 = 46616\n",
            "第28筆資料為數字:\t7259704\t|正確答案 = 23166\t模型預估 = 23260\n",
            "第29筆資料為數字:\t7121414\t|正確答案 = 22558\t模型預估 = 22854\n",
            "第30筆資料為數字:\t7784406\t|正確答案 = 56207\t模型預估 = 56614\n",
            "第31筆資料為數字:\t7049660\t|正確答案 = 28538\t模型預估 = 29093\n",
            "第32筆資料為數字:\t7502200\t|正確答案 = 30025\t模型預估 = 30708\n",
            "第33筆資料為數字:\t7166374\t|正確答案 = 21786\t模型預估 = 22079\n",
            "第34筆資料為數字:\t7733050\t|正確答案 = 33860\t模型預估 = 34467\n",
            "第35筆資料為數字:\t7576878\t|正確答案 = 46031\t模型預估 = 46267\n",
            "第36筆資料為數字:\t7685390\t|正確答案 = 32376\t模型預估 = 32361\n",
            "第37筆資料為數字:\t7883096\t|正確答案 = 25863\t模型預估 = 26294\n",
            "第38筆資料為數字:\t7177008\t|正確答案 = 43561\t模型預估 = 44140\n",
            "第39筆資料為數字:\t7037344\t|正確答案 = 21553\t模型預估 = 21734\n",
            "第40筆資料為數字:\t7000034\t|正確答案 = 21393\t模型預估 = 21634\n",
            "第41筆資料為數字:\t7243074\t|正確答案 = 44362\t模型預估 = 44719\n",
            "第42筆資料為數字:\t7097916\t|正確答案 = 51956\t模型預估 = 52256\n",
            "第43筆資料為數字:\t7829402\t|正確答案 = 28162\t模型預估 = 28492\n",
            "第44筆資料為數字:\t7852972\t|正確答案 = 23621\t模型預估 = 23904\n",
            "第45筆資料為數字:\t7648320\t|正確答案 = 63924\t模型預估 = 64479\n",
            "第46筆資料為數字:\t7236930\t|正確答案 = 59226\t模型預估 = 59533\n",
            "第47筆資料為數字:\t7606482\t|正確答案 = 50630\t模型預估 = 51152\n",
            "第48筆資料為數字:\t7268224\t|正確答案 = 22013\t模型預估 = 22351\n",
            "第49筆資料為數字:\t7757512\t|正確答案 = 28258\t模型預估 = 28428\n"
          ]
        },
        {
          "output_type": "stream",
          "name": "stderr",
          "text": [
            "<ipython-input-14-7ef344336dce>:6: DeprecationWarning: Conversion of an array with ndim > 0 to a scalar is deprecated, and will error in future. Ensure you extract a single element from your array before performing this operation. (Deprecated NumPy 1.25.)\n",
            "  print (f\"第{index}筆資料為數字:\\t{number}\\t|正確答案 = {testDataPartition[index]:05d}\\t模型預估 = {int(normalizedPred[index])}\")\n"
          ]
        }
      ]
    },
    {
      "cell_type": "code",
      "source": [
        "\"\"\"\n",
        "顯示尚未正規化前的資料\n",
        "\"\"\"\n",
        "print (\"\\t正確答案  \"  , \"\\t/\" ,\"  \\t模型預測\")\n",
        "for index, number in enumerate(testDataNumbers):\n",
        "  print (f\"{index}\\t{testDataLabel[index]}  \\t\\t/  \\t{roundPredictions[index]} = {testDataLabel[index]/roundPredictions[index]} \")\n",
        "print (\"###########################################################################\")\n",
        "\n",
        "print (\"\\t正確答案  \"  , \"\\t-\" ,\"  \\t模型預測\")\n",
        "for index, number in enumerate(testDataNumbers):\n",
        "  print (f\"{index}\\t{testDataLabel[index]}  \\t\\t-  \\t{roundPredictions[index]} = {testDataLabel[index]-roundPredictions[index]} \")"
      ],
      "metadata": {
        "id": "U88QnsT5L0ol",
        "colab": {
          "base_uri": "https://localhost:8080/"
        },
        "outputId": "f9ae2c96-06b6-433b-e177-ddc7417d8db2"
      },
      "execution_count": null,
      "outputs": [
        {
          "output_type": "stream",
          "name": "stdout",
          "text": [
            "\t正確答案   \t/   \t模型預測\n",
            "0\t1.702867347  \t\t/  \t[2.] = [0.8514337] \n",
            "1\t1.665401625  \t\t/  \t[2.] = [0.8327008] \n",
            "2\t0.920828024  \t\t/  \t[1.] = [0.92082804] \n",
            "3\t0.771866828  \t\t/  \t[1.] = [0.7718668] \n",
            "4\t0.926237389  \t\t/  \t[1.] = [0.9262374] \n",
            "5\t0.923612865  \t\t/  \t[1.] = [0.9236129] \n",
            "6\t2.019479073  \t\t/  \t[2.] = [1.0097395] \n",
            "7\t0.71056174  \t\t/  \t[1.] = [0.71056175] \n",
            "8\t0.830867449  \t\t/  \t[1.] = [0.83086747] \n",
            "9\t0.696603547  \t\t/  \t[1.] = [0.69660354] \n",
            "10\t1.109712659  \t\t/  \t[1.] = [1.1097126] \n",
            "11\t1.503977776  \t\t/  \t[2.] = [0.7519889] \n",
            "12\t1.383434641  \t\t/  \t[1.] = [1.3834347] \n",
            "13\t0.690122259  \t\t/  \t[1.] = [0.69012225] \n",
            "14\t0.704094356  \t\t/  \t[1.] = [0.70409435] \n",
            "15\t0.698204988  \t\t/  \t[1.] = [0.698205] \n",
            "16\t0.697181913  \t\t/  \t[1.] = [0.69718194] \n",
            "17\t1.469369561  \t\t/  \t[1.] = [1.4693695] \n",
            "18\t0.732712976  \t\t/  \t[1.] = [0.732713] \n",
            "19\t0.692326664  \t\t/  \t[1.] = [0.69232666] \n",
            "20\t0.711460457  \t\t/  \t[1.] = [0.7114605] \n",
            "21\t0.760450346  \t\t/  \t[1.] = [0.76045036] \n",
            "22\t1.665650216  \t\t/  \t[2.] = [0.8328251] \n",
            "23\t2.019310047  \t\t/  \t[2.] = [1.009655] \n",
            "24\t0.713332377  \t\t/  \t[1.] = [0.71333236] \n",
            "25\t1.384378293  \t\t/  \t[1.] = [1.3843783] \n",
            "26\t0.701076973  \t\t/  \t[1.] = [0.701077] \n",
            "27\t1.391036093  \t\t/  \t[1.] = [1.391036] \n",
            "28\t0.728042088  \t\t/  \t[1.] = [0.72804207] \n",
            "29\t0.720861831  \t\t/  \t[1.] = [0.72086185] \n",
            "30\t1.662619611  \t\t/  \t[2.] = [0.8313098] \n",
            "31\t0.920004079  \t\t/  \t[1.] = [0.92000407] \n",
            "32\t0.917077663  \t\t/  \t[1.] = [0.91707766] \n",
            "33\t0.692401489  \t\t/  \t[1.] = [0.69240147] \n",
            "34\t1.007361025  \t\t/  \t[1.] = [1.007361] \n",
            "35\t1.393926931  \t\t/  \t[1.] = [1.393927] \n",
            "36\t0.968394225  \t\t/  \t[1.] = [0.9683942] \n",
            "37\t0.756712451  \t\t/  \t[1.] = [0.75671244] \n",
            "38\t1.382673723  \t\t/  \t[1.] = [1.3826737] \n",
            "39\t0.695877168  \t\t/  \t[1.] = [0.6958772] \n",
            "40\t0.693903075  \t\t/  \t[1.] = [0.6939031] \n",
            "41\t1.396949334  \t\t/  \t[1.] = [1.3969493] \n",
            "42\t1.665068884  \t\t/  \t[2.] = [0.83253443] \n",
            "43\t0.828882025  \t\t/  \t[1.] = [0.82888204] \n",
            "44\t0.69341627  \t\t/  \t[1.] = [0.6934163] \n",
            "45\t1.920064257  \t\t/  \t[2.] = [0.9600321] \n",
            "46\t1.866386919  \t\t/  \t[2.] = [0.93319345] \n",
            "47\t1.528014791  \t\t/  \t[2.] = [0.7640074] \n",
            "48\t0.691102913  \t\t/  \t[1.] = [0.6911029] \n",
            "49\t0.838395262  \t\t/  \t[1.] = [0.83839524] \n",
            "###########################################################################\n",
            "\t正確答案   \t-   \t模型預測\n",
            "0\t1.702867347  \t\t-  \t[2.] = [-0.2971326] \n",
            "1\t1.665401625  \t\t-  \t[2.] = [-0.33459842] \n",
            "2\t0.920828024  \t\t-  \t[1.] = [-0.07917196] \n",
            "3\t0.771866828  \t\t-  \t[1.] = [-0.2281332] \n",
            "4\t0.926237389  \t\t-  \t[1.] = [-0.0737626] \n",
            "5\t0.923612865  \t\t-  \t[1.] = [-0.07638711] \n",
            "6\t2.019479073  \t\t-  \t[2.] = [0.01947904] \n",
            "7\t0.71056174  \t\t-  \t[1.] = [-0.28943825] \n",
            "8\t0.830867449  \t\t-  \t[1.] = [-0.16913253] \n",
            "9\t0.696603547  \t\t-  \t[1.] = [-0.30339646] \n",
            "10\t1.109712659  \t\t-  \t[1.] = [0.1097126] \n",
            "11\t1.503977776  \t\t-  \t[2.] = [-0.49602222] \n",
            "12\t1.383434641  \t\t-  \t[1.] = [0.38343465] \n",
            "13\t0.690122259  \t\t-  \t[1.] = [-0.30987775] \n",
            "14\t0.704094356  \t\t-  \t[1.] = [-0.29590565] \n",
            "15\t0.698204988  \t\t-  \t[1.] = [-0.301795] \n",
            "16\t0.697181913  \t\t-  \t[1.] = [-0.30281806] \n",
            "17\t1.469369561  \t\t-  \t[1.] = [0.46936953] \n",
            "18\t0.732712976  \t\t-  \t[1.] = [-0.26728702] \n",
            "19\t0.692326664  \t\t-  \t[1.] = [-0.30767334] \n",
            "20\t0.711460457  \t\t-  \t[1.] = [-0.28853953] \n",
            "21\t0.760450346  \t\t-  \t[1.] = [-0.23954964] \n",
            "22\t1.665650216  \t\t-  \t[2.] = [-0.33434975] \n",
            "23\t2.019310047  \t\t-  \t[2.] = [0.01931] \n",
            "24\t0.713332377  \t\t-  \t[1.] = [-0.28666764] \n",
            "25\t1.384378293  \t\t-  \t[1.] = [0.3843783] \n",
            "26\t0.701076973  \t\t-  \t[1.] = [-0.29892302] \n",
            "27\t1.391036093  \t\t-  \t[1.] = [0.39103603] \n",
            "28\t0.728042088  \t\t-  \t[1.] = [-0.27195793] \n",
            "29\t0.720861831  \t\t-  \t[1.] = [-0.27913815] \n",
            "30\t1.662619611  \t\t-  \t[2.] = [-0.3373804] \n",
            "31\t0.920004079  \t\t-  \t[1.] = [-0.07999593] \n",
            "32\t0.917077663  \t\t-  \t[1.] = [-0.08292234] \n",
            "33\t0.692401489  \t\t-  \t[1.] = [-0.30759853] \n",
            "34\t1.007361025  \t\t-  \t[1.] = [0.00736105] \n",
            "35\t1.393926931  \t\t-  \t[1.] = [0.39392698] \n",
            "36\t0.968394225  \t\t-  \t[1.] = [-0.03160578] \n",
            "37\t0.756712451  \t\t-  \t[1.] = [-0.24328756] \n",
            "38\t1.382673723  \t\t-  \t[1.] = [0.38267374] \n",
            "39\t0.695877168  \t\t-  \t[1.] = [-0.3041228] \n",
            "40\t0.693903075  \t\t-  \t[1.] = [-0.3060969] \n",
            "41\t1.396949334  \t\t-  \t[1.] = [0.3969493] \n",
            "42\t1.665068884  \t\t-  \t[2.] = [-0.33493114] \n",
            "43\t0.828882025  \t\t-  \t[1.] = [-0.17111796] \n",
            "44\t0.69341627  \t\t-  \t[1.] = [-0.3065837] \n",
            "45\t1.920064257  \t\t-  \t[2.] = [-0.07993579] \n",
            "46\t1.866386919  \t\t-  \t[2.] = [-0.13361311] \n",
            "47\t1.528014791  \t\t-  \t[2.] = [-0.47198522] \n",
            "48\t0.691102913  \t\t-  \t[1.] = [-0.30889708] \n",
            "49\t0.838395262  \t\t-  \t[1.] = [-0.16160476] \n"
          ]
        }
      ]
    },
    {
      "cell_type": "code",
      "source": [
        "\"\"\"\n",
        "顯示正確答案與預測答案的差距量\n",
        "\"\"\"\n",
        "D = []\n",
        "for index in range (len(testDataPartition)):\n",
        "  D.append(testDataPartition[index] - int(normalizedPred[index]))\n",
        "\n",
        "\n",
        "print (\"\\t正確答案  \"  , \"\\t-\" ,\"  \\t模型預測\\t\\t差距量\")\n",
        "for index, number in enumerate(testDataNumbers):\n",
        "  print (f\"{index}\\t{testDataPartition[index]}\\t\\t\\t{int(normalizedPred[index])}\\t=\\t{abs(D[index])}\")"
      ],
      "metadata": {
        "id": "48aQwcS1L_Di",
        "colab": {
          "base_uri": "https://localhost:8080/"
        },
        "outputId": "791c1fd7-4d59-4e9f-eb66-79c6c4d0904f"
      },
      "execution_count": null,
      "outputs": [
        {
          "output_type": "stream",
          "name": "stdout",
          "text": [
            "\t正確答案   \t-   \t模型預測\t\t差距量\n",
            "0\t58853\t\t\t59492\t=\t639\n",
            "1\t51667\t\t\t51955\t=\t288\n",
            "2\t31367\t\t\t31686\t=\t319\n",
            "3\t26161\t\t\t26372\t=\t211\n",
            "4\t31001\t\t\t31392\t=\t391\n",
            "5\t28859\t\t\t29306\t=\t447\n",
            "6\t64326\t\t\t64750\t=\t424\n",
            "7\t22306\t\t\t22498\t=\t192\n",
            "8\t27371\t\t\t27626\t=\t255\n",
            "9\t21654\t\t\t21813\t=\t159\n",
            "10\t36879\t\t\t37441\t=\t562\n",
            "11\t46596\t\t\t47445\t=\t849\n",
            "12\t46176\t\t\t46765\t=\t589\n",
            "13\t22333\t\t\t22708\t=\t375\n",
            "14\t22866\t\t\t23179\t=\t313\n",
            "15\t22140\t\t\t22252\t=\t112\n",
            "16\t22305\t\t\t22450\t=\t145\n",
            "17\t47254\t\t\t47959\t=\t705\n",
            "18\t22965\t\t\t23475\t=\t510\n",
            "19\t23942\t\t\t24267\t=\t325\n",
            "20\t22002\t\t\t21941\t=\t61\n",
            "21\t25511\t\t\t25808\t=\t297\n",
            "22\t53823\t\t\t54115\t=\t292\n",
            "23\t65325\t\t\t65866\t=\t541\n",
            "24\t23978\t\t\t24215\t=\t237\n",
            "25\t45171\t\t\t45715\t=\t544\n",
            "26\t22227\t\t\t22411\t=\t184\n",
            "27\t46283\t\t\t46616\t=\t333\n",
            "28\t23166\t\t\t23260\t=\t94\n",
            "29\t22558\t\t\t22854\t=\t296\n",
            "30\t56207\t\t\t56614\t=\t407\n",
            "31\t28538\t\t\t29093\t=\t555\n",
            "32\t30025\t\t\t30708\t=\t683\n",
            "33\t21786\t\t\t22079\t=\t293\n",
            "34\t33860\t\t\t34467\t=\t607\n",
            "35\t46031\t\t\t46267\t=\t236\n",
            "36\t32376\t\t\t32361\t=\t15\n",
            "37\t25863\t\t\t26294\t=\t431\n",
            "38\t43561\t\t\t44140\t=\t579\n",
            "39\t21553\t\t\t21734\t=\t181\n",
            "40\t21393\t\t\t21634\t=\t241\n",
            "41\t44362\t\t\t44719\t=\t357\n",
            "42\t51956\t\t\t52256\t=\t300\n",
            "43\t28162\t\t\t28492\t=\t330\n",
            "44\t23621\t\t\t23904\t=\t283\n",
            "45\t63924\t\t\t64479\t=\t555\n",
            "46\t59226\t\t\t59533\t=\t307\n",
            "47\t50630\t\t\t51152\t=\t522\n",
            "48\t22013\t\t\t22351\t=\t338\n",
            "49\t28258\t\t\t28428\t=\t170\n"
          ]
        },
        {
          "output_type": "stream",
          "name": "stderr",
          "text": [
            "<ipython-input-17-1021a7c2349b>:4: DeprecationWarning: Conversion of an array with ndim > 0 to a scalar is deprecated, and will error in future. Ensure you extract a single element from your array before performing this operation. (Deprecated NumPy 1.25.)\n",
            "  D.append(testDataPartition[index] - int(normalizedPred[index]))\n",
            "<ipython-input-17-1021a7c2349b>:9: DeprecationWarning: Conversion of an array with ndim > 0 to a scalar is deprecated, and will error in future. Ensure you extract a single element from your array before performing this operation. (Deprecated NumPy 1.25.)\n",
            "  print (f\"{index}\\t{testDataPartition[index]}\\t\\t\\t{int(normalizedPred[index])}\\t=\\t{abs(D[index])}\")\n"
          ]
        }
      ]
    },
    {
      "cell_type": "markdown",
      "source": [
        "## 把所有資料zip"
      ],
      "metadata": {
        "id": "ldXvDky03WQ8"
      }
    },
    {
      "cell_type": "code",
      "source": [
        "\"\"\"\n",
        "顯示正確答案與預測答案的差距量\n",
        "\"\"\"\n",
        "gap = [abs(int(partition - pred)) for partition, pred in zip(testDataPartition, normalizedPred)]\n",
        "\n",
        "\n",
        "normalizedPred_int = [int(arr) for arr in normalizedPred]\n",
        "combined_data = list(zip(testDataNumbers, testDataPartition, normalizedPred_int, gap))\n",
        "sort_data = sorted(combined_data, key = lambda x : x[0])\n",
        "\n",
        "\n",
        "print (f\"test on {testDataPath[39::]}\")\n",
        "print (f\"測試數字/正確答案/預測答案/差距量\\n\")\n",
        "for i in sort_data:\n",
        "  print (i)"
      ],
      "metadata": {
        "colab": {
          "base_uri": "https://localhost:8080/"
        },
        "id": "18LMvnpR3VVR",
        "outputId": "6c4cf0ba-bf0b-4fa8-abfb-371df05bc8d6"
      },
      "execution_count": null,
      "outputs": [
        {
          "output_type": "stream",
          "name": "stdout",
          "text": [
            "test on test_set_G4_7M.csv\n",
            "測試數字/正確答案/預測答案/差距量\n",
            "\n",
            "(7000034, 21393, 21634, 241)\n",
            "(7024954, 22002, 21941, 60)\n",
            "(7037344, 21553, 21734, 181)\n",
            "(7039812, 46596, 47445, 849)\n",
            "(7049660, 28538, 29093, 555)\n",
            "(7050792, 51667, 51955, 288)\n",
            "(7066874, 21654, 21813, 159)\n",
            "(7097916, 51956, 52256, 300)\n",
            "(7109000, 28859, 29306, 447)\n",
            "(7121414, 22558, 22854, 296)\n",
            "(7134356, 22965, 23475, 510)\n",
            "(7147384, 22306, 22498, 192)\n",
            "(7166374, 21786, 22079, 293)\n",
            "(7177008, 43561, 44140, 579)\n",
            "(7229336, 22227, 22411, 184)\n",
            "(7230862, 22140, 22252, 112)\n",
            "(7236930, 59226, 59533, 307)\n",
            "(7243074, 44362, 44719, 357)\n",
            "(7259704, 23166, 23260, 94)\n",
            "(7268224, 22013, 22351, 338)\n",
            "(7268430, 64326, 64750, 424)\n",
            "(7305346, 22305, 22450, 145)\n",
            "(7349124, 47254, 47959, 705)\n",
            "(7389732, 53823, 54115, 292)\n",
            "(7399392, 65325, 65866, 541)\n",
            "(7402232, 22333, 22708, 375)\n",
            "(7432508, 22866, 23179, 313)\n",
            "(7472958, 45171, 45715, 544)\n",
            "(7502200, 30025, 30708, 683)\n",
            "(7555772, 27371, 27626, 255)\n",
            "(7576878, 46031, 46267, 236)\n",
            "(7606482, 50630, 51152, 522)\n",
            "(7632520, 36879, 37441, 562)\n",
            "(7642944, 46283, 46616, 333)\n",
            "(7648320, 63924, 64479, 555)\n",
            "(7670862, 46176, 46765, 589)\n",
            "(7685390, 32376, 32361, 14)\n",
            "(7695230, 31001, 31392, 391)\n",
            "(7715734, 25511, 25808, 297)\n",
            "(7733050, 33860, 34467, 607)\n",
            "(7733444, 23978, 24215, 237)\n",
            "(7757512, 28258, 28428, 170)\n",
            "(7784406, 56207, 56614, 407)\n",
            "(7807448, 26161, 26372, 211)\n",
            "(7829402, 28162, 28492, 330)\n",
            "(7852768, 31367, 31686, 319)\n",
            "(7852972, 23621, 23904, 283)\n",
            "(7883096, 25863, 26294, 431)\n",
            "(7984914, 58853, 59492, 639)\n",
            "(7990454, 23942, 24267, 325)\n"
          ]
        },
        {
          "output_type": "stream",
          "name": "stderr",
          "text": [
            "<ipython-input-20-048f8f5163d8>:4: DeprecationWarning: Conversion of an array with ndim > 0 to a scalar is deprecated, and will error in future. Ensure you extract a single element from your array before performing this operation. (Deprecated NumPy 1.25.)\n",
            "  gap = [abs(int(partition - pred)) for partition, pred in zip(testDataPartition, normalizedPred)]\n",
            "<ipython-input-20-048f8f5163d8>:7: DeprecationWarning: Conversion of an array with ndim > 0 to a scalar is deprecated, and will error in future. Ensure you extract a single element from your array before performing this operation. (Deprecated NumPy 1.25.)\n",
            "  normalizedPred_int = [int(arr) for arr in normalizedPred]\n"
          ]
        }
      ]
    },
    {
      "cell_type": "markdown",
      "source": [
        "## RMSE and error rate"
      ],
      "metadata": {
        "id": "xdnoA-2U3Jy6"
      }
    },
    {
      "cell_type": "code",
      "source": [
        "\"\"\"\n",
        "計算三參數\n",
        "MSE RMSE 跟 error rate\n",
        "RMSE = sqrt(MSE)\n",
        "error = RMSE / mean of partition\n",
        "\"\"\"\n",
        "def calculate_mse(predictions, targets):\n",
        "    \"\"\"\n",
        "    計算均方誤差 (MSE)\n",
        "\n",
        "    參數:\n",
        "    predictions: 預測值的列表或陣列\n",
        "    targets: 實際值的列表或陣列，與預測值對應\n",
        "\n",
        "    返回值:\n",
        "    mse: 均方誤差\n",
        "    \"\"\"\n",
        "    # 確保預測值和實際值的長度相等\n",
        "    if len(predictions) != len(targets):\n",
        "        raise ValueError(\"預測值和實際值的長度不一致\")\n",
        "\n",
        "    # 計算平方誤差\n",
        "    squared_errors = [(p - t) ** 2 for p, t in zip(predictions, targets)]\n",
        "\n",
        "    # 計算均方誤差\n",
        "    mse = sum(squared_errors) / len(predictions)\n",
        "\n",
        "    return mse\n",
        "\n",
        "\n",
        "\n",
        "mean = testData['Partition'].mean()\n",
        "\n",
        "#LN MSE\n",
        "MSE = int(calculate_mse(normalizedPred, testDataPartition))\n",
        "\n",
        "#MLP MSE\n",
        "# MSE = int(calculate_mse(predictions, testDataPartition))\n",
        "\n",
        "RMSE= math.sqrt(MSE)\n",
        "errorRate = RMSE/mean\n",
        "\n",
        "print (f\"MSE : {MSE} / ({MSE/1000000})\\nRMSE : {RMSE}\\nError Rate : {errorRate}  ->  {round(errorRate,7)*100}%\")"
      ],
      "metadata": {
        "id": "INctEhXo3peo",
        "colab": {
          "base_uri": "https://localhost:8080/"
        },
        "outputId": "2677f056-1dfd-4b33-f265-eeea08003f4b"
      },
      "execution_count": null,
      "outputs": [
        {
          "output_type": "stream",
          "name": "stdout",
          "text": [
            "MSE : 163631 / (0.163631)\n",
            "RMSE : 404.5132877916373\n",
            "Error Rate : 0.01148917831049691  ->  1.14892%\n"
          ]
        },
        {
          "output_type": "stream",
          "name": "stderr",
          "text": [
            "<ipython-input-24-2d4cd73154ce>:29: DeprecationWarning: Conversion of an array with ndim > 0 to a scalar is deprecated, and will error in future. Ensure you extract a single element from your array before performing this operation. (Deprecated NumPy 1.25.)\n",
            "  MSE = int(calculate_mse(normalizedPred, testDataPartition))\n"
          ]
        }
      ]
    }
  ]
}