{
  "nbformat": 4,
  "nbformat_minor": 0,
  "metadata": {
    "colab": {
      "provenance": [],
      "authorship_tag": "ABX9TyMQB/xzaGAk9V2Fx3biyeU4",
      "include_colab_link": true
    },
    "kernelspec": {
      "name": "python3",
      "display_name": "Python 3"
    },
    "language_info": {
      "name": "python"
    }
  },
  "cells": [
    {
      "cell_type": "markdown",
      "metadata": {
        "id": "view-in-github",
        "colab_type": "text"
      },
      "source": [
        "<a href=\"https://colab.research.google.com/github/Bread806/goldbach_backup_from_colab/blob/main/goldbach_0306_MutiLN_mod25.ipynb\" target=\"_parent\"><img src=\"https://colab.research.google.com/assets/colab-badge.svg\" alt=\"Open In Colab\"/></a>"
      ]
    },
    {
      "cell_type": "markdown",
      "source": [
        "# mod 25 實驗結果測試\n",
        "<a href=\"https://drive.google.com/file/d/1RzHAFqRE0sV5uXkwbzjXXo0uOHL8SFRo/view?usp=sharing\">請見paper</a><br>\n",
        "把每一層都做LN<br>\n",
        "要對 G4 做正規化"
      ],
      "metadata": {
        "id": "O-1Ma6ex2-KZ"
      }
    },
    {
      "cell_type": "code",
      "source": [
        "from google.colab import drive\n",
        "drive.mount(\"/content/Drive\")"
      ],
      "metadata": {
        "colab": {
          "base_uri": "https://localhost:8080/"
        },
        "id": "wNYcmX52zpq7",
        "outputId": "4aa7ad56-3ec2-4c46-cc2b-34ef05ea0332"
      },
      "execution_count": null,
      "outputs": [
        {
          "output_type": "stream",
          "name": "stdout",
          "text": [
            "Drive already mounted at /content/Drive; to attempt to forcibly remount, call drive.mount(\"/content/Drive\", force_remount=True).\n"
          ]
        }
      ]
    },
    {
      "cell_type": "code",
      "source": [
        "# from tensorflow.keras.layers.experimental.preprocessing import TextVectorization\n",
        "from tensorflow.keras.layers import Embedding, Dense, Flatten, LayerNormalization, Input,Activation, concatenate, Lambda\n",
        "from tensorflow.keras.optimizers import Adam\n",
        "from tensorflow.keras.callbacks import EarlyStopping\n",
        "from tensorflow.keras import backend as K\n",
        "from sklearn.model_selection import train_test_split\n",
        "from tensorflow.keras.utils import to_categorical\n",
        "from tensorflow.keras.models import Sequential, Model\n",
        "import pandas as pd\n",
        "import numpy as np\n",
        "import tensorflow as tf\n",
        "from sklearn.preprocessing import StandardScaler\n",
        "from random import choice, sample\n",
        "import math\n",
        "\n",
        "\n",
        "def is_prime(num):\n",
        "    \"\"\"檢查一個數字是否為質數\"\"\"\n",
        "    if num <= 1:\n",
        "        return False\n",
        "    sqr_num = int(num ** 0.5)\n",
        "    # for i in range(2, sqr_num+ 1):\n",
        "    for i in range(2, sqr_num+ 1):\n",
        "        if num % i == 0:\n",
        "            return False\n",
        "    return True\n",
        "\n",
        "\n",
        "def prime_table(x):\n",
        "    \"\"\"建立小於x的質數表\"\"\"\n",
        "    primes = [num for num in range(2, x) if is_prime(num)]\n",
        "    return primes\n",
        "\n",
        "\n",
        "def convert_base_into_list(number, base, width=10):\n",
        "    result = []  # init list\n",
        "\n",
        "    for i in range(width):\n",
        "        result.append(number % base)\n",
        "        number = number // base\n",
        "    result = result[::-1]\n",
        "    return result\n",
        "\n",
        "\n",
        "def prime_to_index(primeSize, primes, number):\n",
        "    for index in range(primeSize):\n",
        "        if number == primes[index]:\n",
        "            return index\n",
        "    return -1\n",
        "\n",
        "def add_prime(primeTable, limit, addSize=5):\n",
        "    halfList = [num for num in primeTable if num <= int(limit//2)]\n",
        "    if len(halfList) < 5:\n",
        "      halfList += [0] * (5 - len(halfList))\n",
        "    return sample(halfList, addSize)\n",
        "\n",
        "def add_mod(primeTable25, num):\n",
        "  return [num%index for index in primeTable25]\n",
        "\n",
        "def gcd(a, b):\n",
        "    while b != 0:\n",
        "        a, b = b, a % b\n",
        "    return a\n",
        "\n",
        "\n",
        "def compute_coprimes(n): ## 獲得質因數 zero padding 到40\n",
        "    coprimes = []\n",
        "    lenth = 50\n",
        "    for num in range(1,n):\n",
        "        if gcd(num , n) == 1:\n",
        "            coprimes.append(num)\n",
        "        if len(coprimes) >= lenth:\n",
        "            return coprimes\n",
        "    coprimes = coprimes + [0] * (lenth - len(coprimes))\n",
        "    return coprimes\n"
      ],
      "metadata": {
        "id": "Veno4zyPzi57"
      },
      "execution_count": 3,
      "outputs": []
    },
    {
      "cell_type": "code",
      "execution_count": null,
      "metadata": {
        "colab": {
          "base_uri": "https://localhost:8080/"
        },
        "id": "TdPvfso6zdJ2",
        "outputId": "3ba18fb1-1532-4b54-af35-464e57f757b9"
      },
      "outputs": [
        {
          "output_type": "stream",
          "name": "stdout",
          "text": [
            "---loading data---\n",
            "---loading data done.---\n"
          ]
        }
      ],
      "source": [
        "# shuffle\n",
        "\n",
        "print(\"---loading data---\")\n",
        "# load data\n",
        "trainData = pd.read_csv('/content/Drive/MyDrive/實驗/goldbach/csv/traindata_min_size_G4_5000.csv')\n",
        "trainDataNumbers = trainData['Number'].values\n",
        "trainDataLabel = trainData['Factors'].values\n",
        "print(\"---loading data done.---\")\n",
        "\n",
        "# shuffle training data\n",
        "shuffleIndices = np.random.permutation(len(trainDataNumbers))\n",
        "shuffledNumbers = trainDataNumbers[shuffleIndices]\n",
        "shuffledLabel = trainDataLabel[shuffleIndices]"
      ]
    },
    {
      "cell_type": "code",
      "source": [
        "print (len(trainDataNumbers))"
      ],
      "metadata": {
        "colab": {
          "base_uri": "https://localhost:8080/"
        },
        "id": "T0VWLQPK6F7a",
        "outputId": "c065b91d-f34e-4f9b-a0e0-67d03b0c947a"
      },
      "execution_count": null,
      "outputs": [
        {
          "output_type": "stream",
          "name": "stdout",
          "text": [
            "5000\n"
          ]
        }
      ]
    },
    {
      "cell_type": "code",
      "source": [
        "# loadding prime table\n",
        "primeTable = pd.read_csv(\"/content/Drive/MyDrive/實驗/goldbach/csv/prime_table_5000000.csv\")\n",
        "primeTableNumber = primeTable[\"primes\"].values\n",
        "print (\"---loading primes table---\")"
      ],
      "metadata": {
        "colab": {
          "base_uri": "https://localhost:8080/"
        },
        "id": "k5qpkhdJ0ZlU",
        "outputId": "d264337f-c63d-411d-8f0d-ea30479d0d4b"
      },
      "execution_count": null,
      "outputs": [
        {
          "output_type": "stream",
          "name": "stdout",
          "text": [
            "---loading primes table---\n"
          ]
        }
      ]
    },
    {
      "cell_type": "markdown",
      "source": [],
      "metadata": {
        "id": "XjDFb9Z-GlrU"
      }
    },
    {
      "cell_type": "code",
      "source": [
        "# generate 25 prime table\n",
        "primeTable25 = primeTableNumber[:25]\n",
        "print (primeTable25)"
      ],
      "metadata": {
        "colab": {
          "base_uri": "https://localhost:8080/"
        },
        "id": "JkqY4sWrMaNh",
        "outputId": "5923ac96-4085-45fc-efb8-fb62ce9eaf67"
      },
      "execution_count": null,
      "outputs": [
        {
          "output_type": "stream",
          "name": "stdout",
          "text": [
            "[ 2  3  5  7 11 13 17 19 23 29 31 37 41 43 47 53 59 61 67 71 73 79 83 89\n",
            " 97]\n"
          ]
        }
      ]
    },
    {
      "cell_type": "code",
      "source": [
        "# collect data\n",
        "# prepare training set\n",
        "mergedTrainNumber = []\n",
        "mergedTrainLabel = []\n",
        "\n",
        "for num in shuffledNumbers:\n",
        "\n",
        "    #add 25 prefix prime\n",
        "    feature = []\n",
        "    feature = add_mod(primeTable25, num)\n",
        "    mergedTrainNumber.append(feature)\n",
        "\n",
        "for num in shuffledLabel:\n",
        "    mergedTrainLabel.append(num)\n",
        "\n",
        "    print(\"merge number \", num, \" done.\")\n",
        "\n",
        "#print (mergedTrainNumber)"
      ],
      "metadata": {
        "id": "3MZY96_M0KIu"
      },
      "execution_count": null,
      "outputs": []
    },
    {
      "cell_type": "code",
      "source": [
        "mergedArray = np.array(mergedTrainNumber)\n",
        "mergedLabel = np.array(mergedTrainLabel)"
      ],
      "metadata": {
        "id": "R4v5443kK8Lq"
      },
      "execution_count": null,
      "outputs": []
    },
    {
      "cell_type": "code",
      "source": [
        "X_train, X_val, y_train, y_val = train_test_split(mergedArray, mergedLabel, test_size=0.2, random_state=42)\n",
        "print (\"X Train [0] value : \\n\",X_train[0])\n",
        "print (\"X Train [0] label : \",y_train[0])\n",
        "print (\"=======\")\n",
        "print (\"X shpae : \" , X_train[0].shape)"
      ],
      "metadata": {
        "id": "jyTwBG1jzoK8",
        "colab": {
          "base_uri": "https://localhost:8080/"
        },
        "outputId": "941ede34-762b-4a4b-dce3-e45814dc4f3e"
      },
      "execution_count": null,
      "outputs": [
        {
          "output_type": "stream",
          "name": "stdout",
          "text": [
            "X Train [0] value : \n",
            " [ 0  0  4  1  0  4 16  0 15 18  4 18 18 23 30  1  2 40 41 49 71 56 54 75\n",
            " 60]\n",
            "X Train [0] label :  3387.672185\n",
            "=======\n",
            "X shpae :  (25,)\n"
          ]
        }
      ]
    },
    {
      "cell_type": "code",
      "source": [],
      "metadata": {
        "id": "TtSW_xrT7LAr"
      },
      "execution_count": null,
      "outputs": []
    },
    {
      "cell_type": "code",
      "source": [
        "# start training\n",
        "# 清空所有\n",
        "K.clear_session()\n",
        "\n",
        "################################################################\n",
        "\n",
        "def LN_Layer(x,u1,u2):\n",
        "  # two group\n",
        "  group1 = x\n",
        "  group2 = Activation('relu')(x)\n",
        "  group2 = Lambda(lambda x: K.log(x + 1))(group2)  # 使用 natural logarithm\n",
        "\n",
        "  # G1 -> next\n",
        "  group1 = Dense(units=u1, activation='relu')(group1)\n",
        "\n",
        "  # G2 -> exp -> next\n",
        "  group2 = Dense(units=u2, activation='linear')(group2)\n",
        "  group2 = Activation('exponential')(group2)\n",
        "\n",
        "  # concate\n",
        "  merged = concatenate([group1, group2], axis=-1)\n",
        "\n",
        "  return merged\n",
        "\n",
        "\n",
        "# require gpu\n",
        "device = \"/device:GPU:0\"\n",
        "with tf.device(device):\n",
        "    print(f\"--- gpu {device} is loaded. ---\")\n",
        "    inputLayer = Input(shape=X_train[0].shape)\n",
        "\n",
        "    # LN_1\n",
        "    LN_1 = LN_Layer(inputLayer,25,200)\n",
        "\n",
        "    # LN\n",
        "    LN_2 = LN_Layer(LN_1,120,80)\n",
        "\n",
        "    # 後加兩層\n",
        "    LN_3 = LN_Layer(LN_2,120,80)\n",
        "\n",
        "    #Output\n",
        "    outputLayer = Dense(units=1, activation='linear')(LN_3)\n",
        "    model = Model(inputs=inputLayer , outputs=outputLayer)\n",
        "\n",
        "\n",
        "    print(model.summary())\n",
        "\n",
        "    custom_adam_optimizer = Adam(learning_rate=0.001)\n",
        "    model.compile(loss='MSE', optimizer=custom_adam_optimizer,\n",
        "                  metrics=['accuracy'])    # train version 2\n",
        "\n",
        "    # train model\n",
        "    print(\"---starting training---\")\n",
        "    trainHistory = model.fit(X_train, y_train, epochs=200,batch_size=2048, validation_data=(X_val, y_val))\n",
        "    print(\"--------------------------------------------------------\")\n",
        "\n",
        "    # save model\n",
        "    #model.save('./csv/goldbach_model_1112_400w.h5')\n",
        "print(\"model saved.\")\n"
      ],
      "metadata": {
        "id": "ge8BVKMTznDr",
        "colab": {
          "base_uri": "https://localhost:8080/",
          "height": 1000
        },
        "outputId": "e51ae3e3-41f5-419a-c08f-15b96fb95d1b"
      },
      "execution_count": null,
      "outputs": [
        {
          "output_type": "stream",
          "name": "stdout",
          "text": [
            "--- gpu /device:GPU:0 is loaded. ---\n",
            "Model: \"model\"\n",
            "__________________________________________________________________________________________________\n",
            " Layer (type)                Output Shape                 Param #   Connected to                  \n",
            "==================================================================================================\n",
            " input_1 (InputLayer)        [(None, 25)]                 0         []                            \n",
            "                                                                                                  \n",
            " activation (Activation)     (None, 25)                   0         ['input_1[0][0]']             \n",
            "                                                                                                  \n",
            " lambda (Lambda)             (None, 25)                   0         ['activation[0][0]']          \n",
            "                                                                                                  \n",
            " dense_1 (Dense)             (None, 200)                  5200      ['lambda[0][0]']              \n",
            "                                                                                                  \n",
            " dense (Dense)               (None, 25)                   650       ['input_1[0][0]']             \n",
            "                                                                                                  \n",
            " activation_1 (Activation)   (None, 200)                  0         ['dense_1[0][0]']             \n",
            "                                                                                                  \n",
            " concatenate (Concatenate)   (None, 225)                  0         ['dense[0][0]',               \n",
            "                                                                     'activation_1[0][0]']        \n",
            "                                                                                                  \n",
            " activation_2 (Activation)   (None, 225)                  0         ['concatenate[0][0]']         \n",
            "                                                                                                  \n",
            " lambda_1 (Lambda)           (None, 225)                  0         ['activation_2[0][0]']        \n",
            "                                                                                                  \n",
            " dense_3 (Dense)             (None, 80)                   18080     ['lambda_1[0][0]']            \n",
            "                                                                                                  \n",
            " dense_2 (Dense)             (None, 120)                  27120     ['concatenate[0][0]']         \n",
            "                                                                                                  \n",
            " activation_3 (Activation)   (None, 80)                   0         ['dense_3[0][0]']             \n",
            "                                                                                                  \n",
            " concatenate_1 (Concatenate  (None, 200)                  0         ['dense_2[0][0]',             \n",
            " )                                                                   'activation_3[0][0]']        \n",
            "                                                                                                  \n",
            " activation_4 (Activation)   (None, 200)                  0         ['concatenate_1[0][0]']       \n",
            "                                                                                                  \n",
            " lambda_2 (Lambda)           (None, 200)                  0         ['activation_4[0][0]']        \n",
            "                                                                                                  \n",
            " dense_5 (Dense)             (None, 80)                   16080     ['lambda_2[0][0]']            \n",
            "                                                                                                  \n",
            " dense_4 (Dense)             (None, 120)                  24120     ['concatenate_1[0][0]']       \n",
            "                                                                                                  \n",
            " activation_5 (Activation)   (None, 80)                   0         ['dense_5[0][0]']             \n",
            "                                                                                                  \n",
            " concatenate_2 (Concatenate  (None, 200)                  0         ['dense_4[0][0]',             \n",
            " )                                                                   'activation_5[0][0]']        \n",
            "                                                                                                  \n",
            " dense_6 (Dense)             (None, 1)                    201       ['concatenate_2[0][0]']       \n",
            "                                                                                                  \n",
            "==================================================================================================\n",
            "Total params: 91451 (357.23 KB)\n",
            "Trainable params: 91451 (357.23 KB)\n",
            "Non-trainable params: 0 (0.00 Byte)\n",
            "__________________________________________________________________________________________________\n",
            "None\n",
            "---starting training---\n",
            "Epoch 1/200\n",
            "2/2 [==============================] - 2s 315ms/step - loss: 44042348.0000 - accuracy: 0.0000e+00 - val_loss: 42601004.0000 - val_accuracy: 0.0000e+00\n",
            "Epoch 2/200\n",
            "2/2 [==============================] - 0s 80ms/step - loss: 41635972.0000 - accuracy: 0.0000e+00 - val_loss: 35169460.0000 - val_accuracy: 0.0000e+00\n",
            "Epoch 3/200\n",
            "2/2 [==============================] - 0s 81ms/step - loss: 30018132.0000 - accuracy: 0.0000e+00 - val_loss: 29703756.0000 - val_accuracy: 0.0000e+00\n",
            "Epoch 4/200\n",
            "2/2 [==============================] - 0s 73ms/step - loss: 22819060.0000 - accuracy: 0.0000e+00 - val_loss: 18781900.0000 - val_accuracy: 0.0000e+00\n",
            "Epoch 5/200\n",
            "2/2 [==============================] - 0s 98ms/step - loss: 18348094.0000 - accuracy: 0.0000e+00 - val_loss: 17927798.0000 - val_accuracy: 0.0000e+00\n",
            "Epoch 6/200\n",
            "2/2 [==============================] - 0s 69ms/step - loss: 18362080.0000 - accuracy: 0.0000e+00 - val_loss: 17195596.0000 - val_accuracy: 0.0000e+00\n",
            "Epoch 7/200\n",
            "2/2 [==============================] - 0s 84ms/step - loss: 17154314.0000 - accuracy: 0.0000e+00 - val_loss: 17087210.0000 - val_accuracy: 0.0000e+00\n",
            "Epoch 8/200\n",
            "2/2 [==============================] - 0s 156ms/step - loss: 16335218.0000 - accuracy: 0.0000e+00 - val_loss: 14510191.0000 - val_accuracy: 0.0000e+00\n",
            "Epoch 9/200\n",
            "2/2 [==============================] - 0s 120ms/step - loss: 14906890.0000 - accuracy: 0.0000e+00 - val_loss: 13973133.0000 - val_accuracy: 0.0000e+00\n",
            "Epoch 10/200\n",
            "2/2 [==============================] - 0s 85ms/step - loss: 13788598.0000 - accuracy: 0.0000e+00 - val_loss: 13491276.0000 - val_accuracy: 0.0000e+00\n",
            "Epoch 11/200\n",
            "2/2 [==============================] - 0s 84ms/step - loss: 13535020.0000 - accuracy: 0.0000e+00 - val_loss: 12817459.0000 - val_accuracy: 0.0000e+00\n",
            "Epoch 12/200\n",
            "2/2 [==============================] - 0s 77ms/step - loss: 12925182.0000 - accuracy: 0.0000e+00 - val_loss: 13035088.0000 - val_accuracy: 0.0000e+00\n",
            "Epoch 13/200\n",
            "2/2 [==============================] - 0s 207ms/step - loss: 12744968.0000 - accuracy: 0.0000e+00 - val_loss: 12276766.0000 - val_accuracy: 0.0000e+00\n",
            "Epoch 14/200\n",
            "2/2 [==============================] - 0s 82ms/step - loss: 12204266.0000 - accuracy: 0.0000e+00 - val_loss: 12123384.0000 - val_accuracy: 0.0000e+00\n",
            "Epoch 15/200\n",
            "2/2 [==============================] - 0s 72ms/step - loss: 11885676.0000 - accuracy: 0.0000e+00 - val_loss: 11716471.0000 - val_accuracy: 0.0000e+00\n",
            "Epoch 16/200\n",
            "2/2 [==============================] - 0s 70ms/step - loss: 11544958.0000 - accuracy: 0.0000e+00 - val_loss: 11640599.0000 - val_accuracy: 0.0000e+00\n",
            "Epoch 17/200\n",
            "2/2 [==============================] - 0s 71ms/step - loss: 11237410.0000 - accuracy: 0.0000e+00 - val_loss: 11378968.0000 - val_accuracy: 0.0000e+00\n",
            "Epoch 18/200\n",
            "2/2 [==============================] - 0s 86ms/step - loss: 11095373.0000 - accuracy: 0.0000e+00 - val_loss: 11203601.0000 - val_accuracy: 0.0000e+00\n",
            "Epoch 19/200\n",
            "2/2 [==============================] - 0s 141ms/step - loss: 10835104.0000 - accuracy: 0.0000e+00 - val_loss: 11100097.0000 - val_accuracy: 0.0000e+00\n",
            "Epoch 20/200\n",
            "2/2 [==============================] - 0s 93ms/step - loss: 10742485.0000 - accuracy: 0.0000e+00 - val_loss: 10844389.0000 - val_accuracy: 0.0000e+00\n",
            "Epoch 21/200\n",
            "2/2 [==============================] - 0s 85ms/step - loss: 10515399.0000 - accuracy: 0.0000e+00 - val_loss: 10715564.0000 - val_accuracy: 0.0000e+00\n",
            "Epoch 22/200\n",
            "2/2 [==============================] - 0s 85ms/step - loss: 10394071.0000 - accuracy: 0.0000e+00 - val_loss: 10566504.0000 - val_accuracy: 0.0000e+00\n",
            "Epoch 23/200\n",
            "2/2 [==============================] - 0s 94ms/step - loss: 10283078.0000 - accuracy: 0.0000e+00 - val_loss: 10433174.0000 - val_accuracy: 0.0000e+00\n",
            "Epoch 24/200\n",
            "2/2 [==============================] - 0s 131ms/step - loss: 10167454.0000 - accuracy: 0.0000e+00 - val_loss: 10340003.0000 - val_accuracy: 0.0000e+00\n",
            "Epoch 25/200\n",
            "2/2 [==============================] - 0s 130ms/step - loss: 10084440.0000 - accuracy: 0.0000e+00 - val_loss: 10265965.0000 - val_accuracy: 0.0000e+00\n",
            "Epoch 26/200\n",
            "2/2 [==============================] - 0s 129ms/step - loss: 10036582.0000 - accuracy: 0.0000e+00 - val_loss: 10160521.0000 - val_accuracy: 0.0000e+00\n",
            "Epoch 27/200\n",
            "2/2 [==============================] - 0s 121ms/step - loss: 9933007.0000 - accuracy: 0.0000e+00 - val_loss: 10108104.0000 - val_accuracy: 0.0000e+00\n",
            "Epoch 28/200\n",
            "2/2 [==============================] - 0s 119ms/step - loss: 9882026.0000 - accuracy: 0.0000e+00 - val_loss: 10069566.0000 - val_accuracy: 0.0000e+00\n",
            "Epoch 29/200\n",
            "2/2 [==============================] - 0s 120ms/step - loss: 9801613.0000 - accuracy: 0.0000e+00 - val_loss: 9983527.0000 - val_accuracy: 0.0000e+00\n",
            "Epoch 30/200\n",
            "2/2 [==============================] - 0s 121ms/step - loss: 9702748.0000 - accuracy: 0.0000e+00 - val_loss: 9959541.0000 - val_accuracy: 0.0000e+00\n",
            "Epoch 31/200\n",
            "2/2 [==============================] - 0s 120ms/step - loss: 9647659.0000 - accuracy: 0.0000e+00 - val_loss: 9911801.0000 - val_accuracy: 0.0000e+00\n",
            "Epoch 32/200\n",
            "2/2 [==============================] - 0s 127ms/step - loss: 9603295.0000 - accuracy: 0.0000e+00 - val_loss: 9885354.0000 - val_accuracy: 0.0000e+00\n",
            "Epoch 33/200\n",
            "2/2 [==============================] - 0s 136ms/step - loss: 9540213.0000 - accuracy: 0.0000e+00 - val_loss: 9886027.0000 - val_accuracy: 0.0000e+00\n",
            "Epoch 34/200\n",
            "2/2 [==============================] - 0s 136ms/step - loss: 9505397.0000 - accuracy: 0.0000e+00 - val_loss: 9828274.0000 - val_accuracy: 0.0000e+00\n",
            "Epoch 35/200\n",
            "2/2 [==============================] - 0s 130ms/step - loss: 9463026.0000 - accuracy: 0.0000e+00 - val_loss: 9803547.0000 - val_accuracy: 0.0000e+00\n",
            "Epoch 36/200\n",
            "2/2 [==============================] - 0s 135ms/step - loss: 9417241.0000 - accuracy: 0.0000e+00 - val_loss: 9764392.0000 - val_accuracy: 0.0000e+00\n",
            "Epoch 37/200\n",
            "2/2 [==============================] - 0s 117ms/step - loss: 9393302.0000 - accuracy: 0.0000e+00 - val_loss: 9727619.0000 - val_accuracy: 0.0000e+00\n",
            "Epoch 38/200\n",
            "2/2 [==============================] - 0s 130ms/step - loss: 9359933.0000 - accuracy: 0.0000e+00 - val_loss: 9698417.0000 - val_accuracy: 0.0000e+00\n",
            "Epoch 39/200\n",
            "2/2 [==============================] - 0s 121ms/step - loss: 9321244.0000 - accuracy: 0.0000e+00 - val_loss: 9681650.0000 - val_accuracy: 0.0000e+00\n",
            "Epoch 40/200\n",
            "2/2 [==============================] - 0s 134ms/step - loss: 9269951.0000 - accuracy: 0.0000e+00 - val_loss: 9647999.0000 - val_accuracy: 0.0000e+00\n",
            "Epoch 41/200\n",
            "2/2 [==============================] - 0s 137ms/step - loss: 9240440.0000 - accuracy: 0.0000e+00 - val_loss: 9671723.0000 - val_accuracy: 0.0000e+00\n",
            "Epoch 42/200\n",
            "2/2 [==============================] - 0s 129ms/step - loss: 9227442.0000 - accuracy: 0.0000e+00 - val_loss: 9603572.0000 - val_accuracy: 0.0000e+00\n",
            "Epoch 43/200\n",
            "2/2 [==============================] - 0s 120ms/step - loss: 9222955.0000 - accuracy: 0.0000e+00 - val_loss: 9583435.0000 - val_accuracy: 0.0000e+00\n",
            "Epoch 44/200\n",
            "2/2 [==============================] - 0s 132ms/step - loss: 9237963.0000 - accuracy: 0.0000e+00 - val_loss: 9550299.0000 - val_accuracy: 0.0000e+00\n",
            "Epoch 45/200\n",
            "2/2 [==============================] - 0s 131ms/step - loss: 9167176.0000 - accuracy: 0.0000e+00 - val_loss: 9552114.0000 - val_accuracy: 0.0000e+00\n",
            "Epoch 46/200\n",
            "2/2 [==============================] - 0s 122ms/step - loss: 9089188.0000 - accuracy: 0.0000e+00 - val_loss: 9694390.0000 - val_accuracy: 0.0000e+00\n",
            "Epoch 47/200\n",
            "2/2 [==============================] - 0s 76ms/step - loss: 9127211.0000 - accuracy: 0.0000e+00 - val_loss: 9577266.0000 - val_accuracy: 0.0000e+00\n",
            "Epoch 48/200\n",
            "2/2 [==============================] - 0s 88ms/step - loss: 9135165.0000 - accuracy: 0.0000e+00 - val_loss: 9532113.0000 - val_accuracy: 0.0000e+00\n",
            "Epoch 49/200\n",
            "2/2 [==============================] - 0s 88ms/step - loss: 9056506.0000 - accuracy: 0.0000e+00 - val_loss: 9521262.0000 - val_accuracy: 0.0000e+00\n",
            "Epoch 50/200\n",
            "2/2 [==============================] - 0s 85ms/step - loss: 9111000.0000 - accuracy: 0.0000e+00 - val_loss: 9498565.0000 - val_accuracy: 0.0000e+00\n",
            "Epoch 51/200\n",
            "2/2 [==============================] - 0s 77ms/step - loss: 9040105.0000 - accuracy: 0.0000e+00 - val_loss: 9564335.0000 - val_accuracy: 0.0000e+00\n",
            "Epoch 52/200\n",
            "2/2 [==============================] - 0s 75ms/step - loss: 8985405.0000 - accuracy: 0.0000e+00 - val_loss: 9517218.0000 - val_accuracy: 0.0000e+00\n",
            "Epoch 53/200\n",
            "2/2 [==============================] - 0s 75ms/step - loss: 8980568.0000 - accuracy: 0.0000e+00 - val_loss: 9558984.0000 - val_accuracy: 0.0000e+00\n",
            "Epoch 54/200\n",
            "2/2 [==============================] - 0s 84ms/step - loss: 8966138.0000 - accuracy: 0.0000e+00 - val_loss: 9463574.0000 - val_accuracy: 0.0000e+00\n",
            "Epoch 55/200\n",
            "2/2 [==============================] - 0s 81ms/step - loss: 8959662.0000 - accuracy: 0.0000e+00 - val_loss: 9455528.0000 - val_accuracy: 0.0000e+00\n",
            "Epoch 56/200\n",
            "2/2 [==============================] - 0s 77ms/step - loss: 8916419.0000 - accuracy: 0.0000e+00 - val_loss: 9489738.0000 - val_accuracy: 0.0000e+00\n",
            "Epoch 57/200\n",
            "2/2 [==============================] - 0s 77ms/step - loss: 8889291.0000 - accuracy: 0.0000e+00 - val_loss: 9456285.0000 - val_accuracy: 0.0000e+00\n",
            "Epoch 58/200\n",
            "2/2 [==============================] - 0s 85ms/step - loss: 8880651.0000 - accuracy: 0.0000e+00 - val_loss: 9506716.0000 - val_accuracy: 0.0000e+00\n",
            "Epoch 59/200\n",
            "2/2 [==============================] - 0s 85ms/step - loss: 8866829.0000 - accuracy: 0.0000e+00 - val_loss: 9426895.0000 - val_accuracy: 0.0000e+00\n",
            "Epoch 60/200\n"
          ]
        },
        {
          "output_type": "error",
          "ename": "KeyboardInterrupt",
          "evalue": "",
          "traceback": [
            "\u001b[0;31m---------------------------------------------------------------------------\u001b[0m",
            "\u001b[0;31mKeyboardInterrupt\u001b[0m                         Traceback (most recent call last)",
            "\u001b[0;32m<ipython-input-28-ff0fedb4c64b>\u001b[0m in \u001b[0;36m<cell line: 28>\u001b[0;34m()\u001b[0m\n\u001b[1;32m     56\u001b[0m     \u001b[0;31m# train model\u001b[0m\u001b[0;34m\u001b[0m\u001b[0;34m\u001b[0m\u001b[0m\n\u001b[1;32m     57\u001b[0m     \u001b[0mprint\u001b[0m\u001b[0;34m(\u001b[0m\u001b[0;34m\"---starting training---\"\u001b[0m\u001b[0;34m)\u001b[0m\u001b[0;34m\u001b[0m\u001b[0;34m\u001b[0m\u001b[0m\n\u001b[0;32m---> 58\u001b[0;31m     \u001b[0mtrainHistory\u001b[0m \u001b[0;34m=\u001b[0m \u001b[0mmodel\u001b[0m\u001b[0;34m.\u001b[0m\u001b[0mfit\u001b[0m\u001b[0;34m(\u001b[0m\u001b[0mX_train\u001b[0m\u001b[0;34m,\u001b[0m \u001b[0my_train\u001b[0m\u001b[0;34m,\u001b[0m \u001b[0mepochs\u001b[0m\u001b[0;34m=\u001b[0m\u001b[0;36m200\u001b[0m\u001b[0;34m,\u001b[0m\u001b[0mbatch_size\u001b[0m\u001b[0;34m=\u001b[0m\u001b[0;36m2048\u001b[0m\u001b[0;34m,\u001b[0m \u001b[0mvalidation_data\u001b[0m\u001b[0;34m=\u001b[0m\u001b[0;34m(\u001b[0m\u001b[0mX_val\u001b[0m\u001b[0;34m,\u001b[0m \u001b[0my_val\u001b[0m\u001b[0;34m)\u001b[0m\u001b[0;34m)\u001b[0m\u001b[0;34m\u001b[0m\u001b[0;34m\u001b[0m\u001b[0m\n\u001b[0m\u001b[1;32m     59\u001b[0m     \u001b[0mprint\u001b[0m\u001b[0;34m(\u001b[0m\u001b[0;34m\"--------------------------------------------------------\"\u001b[0m\u001b[0;34m)\u001b[0m\u001b[0;34m\u001b[0m\u001b[0;34m\u001b[0m\u001b[0m\n\u001b[1;32m     60\u001b[0m \u001b[0;34m\u001b[0m\u001b[0m\n",
            "\u001b[0;32m/usr/local/lib/python3.10/dist-packages/keras/src/utils/traceback_utils.py\u001b[0m in \u001b[0;36merror_handler\u001b[0;34m(*args, **kwargs)\u001b[0m\n\u001b[1;32m     63\u001b[0m         \u001b[0mfiltered_tb\u001b[0m \u001b[0;34m=\u001b[0m \u001b[0;32mNone\u001b[0m\u001b[0;34m\u001b[0m\u001b[0;34m\u001b[0m\u001b[0m\n\u001b[1;32m     64\u001b[0m         \u001b[0;32mtry\u001b[0m\u001b[0;34m:\u001b[0m\u001b[0;34m\u001b[0m\u001b[0;34m\u001b[0m\u001b[0m\n\u001b[0;32m---> 65\u001b[0;31m             \u001b[0;32mreturn\u001b[0m \u001b[0mfn\u001b[0m\u001b[0;34m(\u001b[0m\u001b[0;34m*\u001b[0m\u001b[0margs\u001b[0m\u001b[0;34m,\u001b[0m \u001b[0;34m**\u001b[0m\u001b[0mkwargs\u001b[0m\u001b[0;34m)\u001b[0m\u001b[0;34m\u001b[0m\u001b[0;34m\u001b[0m\u001b[0m\n\u001b[0m\u001b[1;32m     66\u001b[0m         \u001b[0;32mexcept\u001b[0m \u001b[0mException\u001b[0m \u001b[0;32mas\u001b[0m \u001b[0me\u001b[0m\u001b[0;34m:\u001b[0m\u001b[0;34m\u001b[0m\u001b[0;34m\u001b[0m\u001b[0m\n\u001b[1;32m     67\u001b[0m             \u001b[0mfiltered_tb\u001b[0m \u001b[0;34m=\u001b[0m \u001b[0m_process_traceback_frames\u001b[0m\u001b[0;34m(\u001b[0m\u001b[0me\u001b[0m\u001b[0;34m.\u001b[0m\u001b[0m__traceback__\u001b[0m\u001b[0;34m)\u001b[0m\u001b[0;34m\u001b[0m\u001b[0;34m\u001b[0m\u001b[0m\n",
            "\u001b[0;32m/usr/local/lib/python3.10/dist-packages/keras/src/engine/training.py\u001b[0m in \u001b[0;36mfit\u001b[0;34m(self, x, y, batch_size, epochs, verbose, callbacks, validation_split, validation_data, shuffle, class_weight, sample_weight, initial_epoch, steps_per_epoch, validation_steps, validation_batch_size, validation_freq, max_queue_size, workers, use_multiprocessing)\u001b[0m\n\u001b[1;32m   1805\u001b[0m                         ):\n\u001b[1;32m   1806\u001b[0m                             \u001b[0mcallbacks\u001b[0m\u001b[0;34m.\u001b[0m\u001b[0mon_train_batch_begin\u001b[0m\u001b[0;34m(\u001b[0m\u001b[0mstep\u001b[0m\u001b[0;34m)\u001b[0m\u001b[0;34m\u001b[0m\u001b[0;34m\u001b[0m\u001b[0m\n\u001b[0;32m-> 1807\u001b[0;31m                             \u001b[0mtmp_logs\u001b[0m \u001b[0;34m=\u001b[0m \u001b[0mself\u001b[0m\u001b[0;34m.\u001b[0m\u001b[0mtrain_function\u001b[0m\u001b[0;34m(\u001b[0m\u001b[0miterator\u001b[0m\u001b[0;34m)\u001b[0m\u001b[0;34m\u001b[0m\u001b[0;34m\u001b[0m\u001b[0m\n\u001b[0m\u001b[1;32m   1808\u001b[0m                             \u001b[0;32mif\u001b[0m \u001b[0mdata_handler\u001b[0m\u001b[0;34m.\u001b[0m\u001b[0mshould_sync\u001b[0m\u001b[0;34m:\u001b[0m\u001b[0;34m\u001b[0m\u001b[0;34m\u001b[0m\u001b[0m\n\u001b[1;32m   1809\u001b[0m                                 \u001b[0mcontext\u001b[0m\u001b[0;34m.\u001b[0m\u001b[0masync_wait\u001b[0m\u001b[0;34m(\u001b[0m\u001b[0;34m)\u001b[0m\u001b[0;34m\u001b[0m\u001b[0;34m\u001b[0m\u001b[0m\n",
            "\u001b[0;32m/usr/local/lib/python3.10/dist-packages/tensorflow/python/util/traceback_utils.py\u001b[0m in \u001b[0;36merror_handler\u001b[0;34m(*args, **kwargs)\u001b[0m\n\u001b[1;32m    148\u001b[0m     \u001b[0mfiltered_tb\u001b[0m \u001b[0;34m=\u001b[0m \u001b[0;32mNone\u001b[0m\u001b[0;34m\u001b[0m\u001b[0;34m\u001b[0m\u001b[0m\n\u001b[1;32m    149\u001b[0m     \u001b[0;32mtry\u001b[0m\u001b[0;34m:\u001b[0m\u001b[0;34m\u001b[0m\u001b[0;34m\u001b[0m\u001b[0m\n\u001b[0;32m--> 150\u001b[0;31m       \u001b[0;32mreturn\u001b[0m \u001b[0mfn\u001b[0m\u001b[0;34m(\u001b[0m\u001b[0;34m*\u001b[0m\u001b[0margs\u001b[0m\u001b[0;34m,\u001b[0m \u001b[0;34m**\u001b[0m\u001b[0mkwargs\u001b[0m\u001b[0;34m)\u001b[0m\u001b[0;34m\u001b[0m\u001b[0;34m\u001b[0m\u001b[0m\n\u001b[0m\u001b[1;32m    151\u001b[0m     \u001b[0;32mexcept\u001b[0m \u001b[0mException\u001b[0m \u001b[0;32mas\u001b[0m \u001b[0me\u001b[0m\u001b[0;34m:\u001b[0m\u001b[0;34m\u001b[0m\u001b[0;34m\u001b[0m\u001b[0m\n\u001b[1;32m    152\u001b[0m       \u001b[0mfiltered_tb\u001b[0m \u001b[0;34m=\u001b[0m \u001b[0m_process_traceback_frames\u001b[0m\u001b[0;34m(\u001b[0m\u001b[0me\u001b[0m\u001b[0;34m.\u001b[0m\u001b[0m__traceback__\u001b[0m\u001b[0;34m)\u001b[0m\u001b[0;34m\u001b[0m\u001b[0;34m\u001b[0m\u001b[0m\n",
            "\u001b[0;32m/usr/local/lib/python3.10/dist-packages/tensorflow/python/eager/polymorphic_function/polymorphic_function.py\u001b[0m in \u001b[0;36m__call__\u001b[0;34m(self, *args, **kwds)\u001b[0m\n\u001b[1;32m    830\u001b[0m \u001b[0;34m\u001b[0m\u001b[0m\n\u001b[1;32m    831\u001b[0m       \u001b[0;32mwith\u001b[0m \u001b[0mOptionalXlaContext\u001b[0m\u001b[0;34m(\u001b[0m\u001b[0mself\u001b[0m\u001b[0;34m.\u001b[0m\u001b[0m_jit_compile\u001b[0m\u001b[0;34m)\u001b[0m\u001b[0;34m:\u001b[0m\u001b[0;34m\u001b[0m\u001b[0;34m\u001b[0m\u001b[0m\n\u001b[0;32m--> 832\u001b[0;31m         \u001b[0mresult\u001b[0m \u001b[0;34m=\u001b[0m \u001b[0mself\u001b[0m\u001b[0;34m.\u001b[0m\u001b[0m_call\u001b[0m\u001b[0;34m(\u001b[0m\u001b[0;34m*\u001b[0m\u001b[0margs\u001b[0m\u001b[0;34m,\u001b[0m \u001b[0;34m**\u001b[0m\u001b[0mkwds\u001b[0m\u001b[0;34m)\u001b[0m\u001b[0;34m\u001b[0m\u001b[0;34m\u001b[0m\u001b[0m\n\u001b[0m\u001b[1;32m    833\u001b[0m \u001b[0;34m\u001b[0m\u001b[0m\n\u001b[1;32m    834\u001b[0m       \u001b[0mnew_tracing_count\u001b[0m \u001b[0;34m=\u001b[0m \u001b[0mself\u001b[0m\u001b[0;34m.\u001b[0m\u001b[0mexperimental_get_tracing_count\u001b[0m\u001b[0;34m(\u001b[0m\u001b[0;34m)\u001b[0m\u001b[0;34m\u001b[0m\u001b[0;34m\u001b[0m\u001b[0m\n",
            "\u001b[0;32m/usr/local/lib/python3.10/dist-packages/tensorflow/python/eager/polymorphic_function/polymorphic_function.py\u001b[0m in \u001b[0;36m_call\u001b[0;34m(self, *args, **kwds)\u001b[0m\n\u001b[1;32m    866\u001b[0m       \u001b[0;31m# In this case we have created variables on the first call, so we run the\u001b[0m\u001b[0;34m\u001b[0m\u001b[0;34m\u001b[0m\u001b[0m\n\u001b[1;32m    867\u001b[0m       \u001b[0;31m# defunned version which is guaranteed to never create variables.\u001b[0m\u001b[0;34m\u001b[0m\u001b[0;34m\u001b[0m\u001b[0m\n\u001b[0;32m--> 868\u001b[0;31m       return tracing_compilation.call_function(\n\u001b[0m\u001b[1;32m    869\u001b[0m           \u001b[0margs\u001b[0m\u001b[0;34m,\u001b[0m \u001b[0mkwds\u001b[0m\u001b[0;34m,\u001b[0m \u001b[0mself\u001b[0m\u001b[0;34m.\u001b[0m\u001b[0m_no_variable_creation_config\u001b[0m\u001b[0;34m\u001b[0m\u001b[0;34m\u001b[0m\u001b[0m\n\u001b[1;32m    870\u001b[0m       )\n",
            "\u001b[0;32m/usr/local/lib/python3.10/dist-packages/tensorflow/python/eager/polymorphic_function/tracing_compilation.py\u001b[0m in \u001b[0;36mcall_function\u001b[0;34m(args, kwargs, tracing_options)\u001b[0m\n\u001b[1;32m    137\u001b[0m   \u001b[0mbound_args\u001b[0m \u001b[0;34m=\u001b[0m \u001b[0mfunction\u001b[0m\u001b[0;34m.\u001b[0m\u001b[0mfunction_type\u001b[0m\u001b[0;34m.\u001b[0m\u001b[0mbind\u001b[0m\u001b[0;34m(\u001b[0m\u001b[0;34m*\u001b[0m\u001b[0margs\u001b[0m\u001b[0;34m,\u001b[0m \u001b[0;34m**\u001b[0m\u001b[0mkwargs\u001b[0m\u001b[0;34m)\u001b[0m\u001b[0;34m\u001b[0m\u001b[0;34m\u001b[0m\u001b[0m\n\u001b[1;32m    138\u001b[0m   \u001b[0mflat_inputs\u001b[0m \u001b[0;34m=\u001b[0m \u001b[0mfunction\u001b[0m\u001b[0;34m.\u001b[0m\u001b[0mfunction_type\u001b[0m\u001b[0;34m.\u001b[0m\u001b[0munpack_inputs\u001b[0m\u001b[0;34m(\u001b[0m\u001b[0mbound_args\u001b[0m\u001b[0;34m)\u001b[0m\u001b[0;34m\u001b[0m\u001b[0;34m\u001b[0m\u001b[0m\n\u001b[0;32m--> 139\u001b[0;31m   return function._call_flat(  # pylint: disable=protected-access\n\u001b[0m\u001b[1;32m    140\u001b[0m       \u001b[0mflat_inputs\u001b[0m\u001b[0;34m,\u001b[0m \u001b[0mcaptured_inputs\u001b[0m\u001b[0;34m=\u001b[0m\u001b[0mfunction\u001b[0m\u001b[0;34m.\u001b[0m\u001b[0mcaptured_inputs\u001b[0m\u001b[0;34m\u001b[0m\u001b[0;34m\u001b[0m\u001b[0m\n\u001b[1;32m    141\u001b[0m   )\n",
            "\u001b[0;32m/usr/local/lib/python3.10/dist-packages/tensorflow/python/eager/polymorphic_function/concrete_function.py\u001b[0m in \u001b[0;36m_call_flat\u001b[0;34m(self, tensor_inputs, captured_inputs)\u001b[0m\n\u001b[1;32m   1321\u001b[0m         and executing_eagerly):\n\u001b[1;32m   1322\u001b[0m       \u001b[0;31m# No tape is watching; skip to running the function.\u001b[0m\u001b[0;34m\u001b[0m\u001b[0;34m\u001b[0m\u001b[0m\n\u001b[0;32m-> 1323\u001b[0;31m       \u001b[0;32mreturn\u001b[0m \u001b[0mself\u001b[0m\u001b[0;34m.\u001b[0m\u001b[0m_inference_function\u001b[0m\u001b[0;34m.\u001b[0m\u001b[0mcall_preflattened\u001b[0m\u001b[0;34m(\u001b[0m\u001b[0margs\u001b[0m\u001b[0;34m)\u001b[0m\u001b[0;34m\u001b[0m\u001b[0;34m\u001b[0m\u001b[0m\n\u001b[0m\u001b[1;32m   1324\u001b[0m     forward_backward = self._select_forward_and_backward_functions(\n\u001b[1;32m   1325\u001b[0m         \u001b[0margs\u001b[0m\u001b[0;34m,\u001b[0m\u001b[0;34m\u001b[0m\u001b[0;34m\u001b[0m\u001b[0m\n",
            "\u001b[0;32m/usr/local/lib/python3.10/dist-packages/tensorflow/python/eager/polymorphic_function/atomic_function.py\u001b[0m in \u001b[0;36mcall_preflattened\u001b[0;34m(self, args)\u001b[0m\n\u001b[1;32m    214\u001b[0m   \u001b[0;32mdef\u001b[0m \u001b[0mcall_preflattened\u001b[0m\u001b[0;34m(\u001b[0m\u001b[0mself\u001b[0m\u001b[0;34m,\u001b[0m \u001b[0margs\u001b[0m\u001b[0;34m:\u001b[0m \u001b[0mSequence\u001b[0m\u001b[0;34m[\u001b[0m\u001b[0mcore\u001b[0m\u001b[0;34m.\u001b[0m\u001b[0mTensor\u001b[0m\u001b[0;34m]\u001b[0m\u001b[0;34m)\u001b[0m \u001b[0;34m->\u001b[0m \u001b[0mAny\u001b[0m\u001b[0;34m:\u001b[0m\u001b[0;34m\u001b[0m\u001b[0;34m\u001b[0m\u001b[0m\n\u001b[1;32m    215\u001b[0m     \u001b[0;34m\"\"\"Calls with flattened tensor inputs and returns the structured output.\"\"\"\u001b[0m\u001b[0;34m\u001b[0m\u001b[0;34m\u001b[0m\u001b[0m\n\u001b[0;32m--> 216\u001b[0;31m     \u001b[0mflat_outputs\u001b[0m \u001b[0;34m=\u001b[0m \u001b[0mself\u001b[0m\u001b[0;34m.\u001b[0m\u001b[0mcall_flat\u001b[0m\u001b[0;34m(\u001b[0m\u001b[0;34m*\u001b[0m\u001b[0margs\u001b[0m\u001b[0;34m)\u001b[0m\u001b[0;34m\u001b[0m\u001b[0;34m\u001b[0m\u001b[0m\n\u001b[0m\u001b[1;32m    217\u001b[0m     \u001b[0;32mreturn\u001b[0m \u001b[0mself\u001b[0m\u001b[0;34m.\u001b[0m\u001b[0mfunction_type\u001b[0m\u001b[0;34m.\u001b[0m\u001b[0mpack_output\u001b[0m\u001b[0;34m(\u001b[0m\u001b[0mflat_outputs\u001b[0m\u001b[0;34m)\u001b[0m\u001b[0;34m\u001b[0m\u001b[0;34m\u001b[0m\u001b[0m\n\u001b[1;32m    218\u001b[0m \u001b[0;34m\u001b[0m\u001b[0m\n",
            "\u001b[0;32m/usr/local/lib/python3.10/dist-packages/tensorflow/python/eager/polymorphic_function/atomic_function.py\u001b[0m in \u001b[0;36mcall_flat\u001b[0;34m(self, *args)\u001b[0m\n\u001b[1;32m    249\u001b[0m         \u001b[0;32mwith\u001b[0m \u001b[0mrecord\u001b[0m\u001b[0;34m.\u001b[0m\u001b[0mstop_recording\u001b[0m\u001b[0;34m(\u001b[0m\u001b[0;34m)\u001b[0m\u001b[0;34m:\u001b[0m\u001b[0;34m\u001b[0m\u001b[0;34m\u001b[0m\u001b[0m\n\u001b[1;32m    250\u001b[0m           \u001b[0;32mif\u001b[0m \u001b[0mself\u001b[0m\u001b[0;34m.\u001b[0m\u001b[0m_bound_context\u001b[0m\u001b[0;34m.\u001b[0m\u001b[0mexecuting_eagerly\u001b[0m\u001b[0;34m(\u001b[0m\u001b[0;34m)\u001b[0m\u001b[0;34m:\u001b[0m\u001b[0;34m\u001b[0m\u001b[0;34m\u001b[0m\u001b[0m\n\u001b[0;32m--> 251\u001b[0;31m             outputs = self._bound_context.call_function(\n\u001b[0m\u001b[1;32m    252\u001b[0m                 \u001b[0mself\u001b[0m\u001b[0;34m.\u001b[0m\u001b[0mname\u001b[0m\u001b[0;34m,\u001b[0m\u001b[0;34m\u001b[0m\u001b[0;34m\u001b[0m\u001b[0m\n\u001b[1;32m    253\u001b[0m                 \u001b[0mlist\u001b[0m\u001b[0;34m(\u001b[0m\u001b[0margs\u001b[0m\u001b[0;34m)\u001b[0m\u001b[0;34m,\u001b[0m\u001b[0;34m\u001b[0m\u001b[0;34m\u001b[0m\u001b[0m\n",
            "\u001b[0;32m/usr/local/lib/python3.10/dist-packages/tensorflow/python/eager/context.py\u001b[0m in \u001b[0;36mcall_function\u001b[0;34m(self, name, tensor_inputs, num_outputs)\u001b[0m\n\u001b[1;32m   1484\u001b[0m     \u001b[0mcancellation_context\u001b[0m \u001b[0;34m=\u001b[0m \u001b[0mcancellation\u001b[0m\u001b[0;34m.\u001b[0m\u001b[0mcontext\u001b[0m\u001b[0;34m(\u001b[0m\u001b[0;34m)\u001b[0m\u001b[0;34m\u001b[0m\u001b[0;34m\u001b[0m\u001b[0m\n\u001b[1;32m   1485\u001b[0m     \u001b[0;32mif\u001b[0m \u001b[0mcancellation_context\u001b[0m \u001b[0;32mis\u001b[0m \u001b[0;32mNone\u001b[0m\u001b[0;34m:\u001b[0m\u001b[0;34m\u001b[0m\u001b[0;34m\u001b[0m\u001b[0m\n\u001b[0;32m-> 1486\u001b[0;31m       outputs = execute.execute(\n\u001b[0m\u001b[1;32m   1487\u001b[0m           \u001b[0mname\u001b[0m\u001b[0;34m.\u001b[0m\u001b[0mdecode\u001b[0m\u001b[0;34m(\u001b[0m\u001b[0;34m\"utf-8\"\u001b[0m\u001b[0;34m)\u001b[0m\u001b[0;34m,\u001b[0m\u001b[0;34m\u001b[0m\u001b[0;34m\u001b[0m\u001b[0m\n\u001b[1;32m   1488\u001b[0m           \u001b[0mnum_outputs\u001b[0m\u001b[0;34m=\u001b[0m\u001b[0mnum_outputs\u001b[0m\u001b[0;34m,\u001b[0m\u001b[0;34m\u001b[0m\u001b[0;34m\u001b[0m\u001b[0m\n",
            "\u001b[0;32m/usr/local/lib/python3.10/dist-packages/tensorflow/python/eager/execute.py\u001b[0m in \u001b[0;36mquick_execute\u001b[0;34m(op_name, num_outputs, inputs, attrs, ctx, name)\u001b[0m\n\u001b[1;32m     51\u001b[0m   \u001b[0;32mtry\u001b[0m\u001b[0;34m:\u001b[0m\u001b[0;34m\u001b[0m\u001b[0;34m\u001b[0m\u001b[0m\n\u001b[1;32m     52\u001b[0m     \u001b[0mctx\u001b[0m\u001b[0;34m.\u001b[0m\u001b[0mensure_initialized\u001b[0m\u001b[0;34m(\u001b[0m\u001b[0;34m)\u001b[0m\u001b[0;34m\u001b[0m\u001b[0;34m\u001b[0m\u001b[0m\n\u001b[0;32m---> 53\u001b[0;31m     tensors = pywrap_tfe.TFE_Py_Execute(ctx._handle, device_name, op_name,\n\u001b[0m\u001b[1;32m     54\u001b[0m                                         inputs, attrs, num_outputs)\n\u001b[1;32m     55\u001b[0m   \u001b[0;32mexcept\u001b[0m \u001b[0mcore\u001b[0m\u001b[0;34m.\u001b[0m\u001b[0m_NotOkStatusException\u001b[0m \u001b[0;32mas\u001b[0m \u001b[0me\u001b[0m\u001b[0;34m:\u001b[0m\u001b[0;34m\u001b[0m\u001b[0;34m\u001b[0m\u001b[0m\n",
            "\u001b[0;31mKeyboardInterrupt\u001b[0m: "
          ]
        }
      ]
    },
    {
      "cell_type": "markdown",
      "source": [
        "## predict"
      ],
      "metadata": {
        "id": "hQJtQBsxISQa"
      }
    },
    {
      "cell_type": "code",
      "source": [
        "from google.colab import drive\n",
        "drive.mount(\"/content/Drive\")"
      ],
      "metadata": {
        "colab": {
          "base_uri": "https://localhost:8080/"
        },
        "id": "_nbn4CLgI-I-",
        "outputId": "2976db30-2b9b-4d17-f156-eab6ff181e06"
      },
      "execution_count": 1,
      "outputs": [
        {
          "output_type": "stream",
          "name": "stdout",
          "text": [
            "Mounted at /content/Drive\n"
          ]
        }
      ]
    },
    {
      "cell_type": "code",
      "source": [
        "# loadding prime table\n",
        "primeTable = pd.read_csv(\"/content/Drive/MyDrive/實驗/goldbach/csv/prime_table_5000000.csv\")\n",
        "primeTableNumber = primeTable[\"primes\"].values\n",
        "print (\"---loading primes table---\")\n",
        "\n",
        "# generate 25 prime table\n",
        "primeTable25 = primeTableNumber[:25]\n",
        "print (primeTable25)"
      ],
      "metadata": {
        "colab": {
          "base_uri": "https://localhost:8080/"
        },
        "id": "0c8mDF4dJ9YC",
        "outputId": "e6846613-a98a-403a-b24d-4da44f1174ac"
      },
      "execution_count": 4,
      "outputs": [
        {
          "output_type": "stream",
          "name": "stdout",
          "text": [
            "---loading primes table---\n",
            "[ 2  3  5  7 11 13 17 19 23 29 31 37 41 43 47 53 59 61 67 71 73 79 83 89\n",
            " 97]\n"
          ]
        }
      ]
    },
    {
      "cell_type": "code",
      "source": [
        "## load data\n",
        "#predict\n",
        "\n",
        "from tensorflow.keras.models import load_model\n",
        "import csv\n",
        "import pandas as pd\n",
        "import numpy as np\n",
        "\n",
        "# 指定 HDF5 模型文件的路徑\n",
        "modelPath = '/content/Drive/MyDrive/實驗/model_save/goldbach_model_0306.h5'\n",
        "\n",
        "# 使用 load_model\n",
        "model = load_model(modelPath)\n",
        "\n",
        "# load test_set and prime data\n",
        "testDataPath = '/content/Drive/MyDrive/實驗/goldbach/csv/test_set_G4_7M.csv'\n",
        "testData = pd.read_csv(testDataPath)\n",
        "testDataNumbers = testData['Number'].values\n",
        "testDataLabel = testData['Factors'].values\n",
        "testDataG4 = testData['G4'].values\n",
        "testDataPartition = testData['Partition'].values\n",
        "\n",
        "print(\"---loading test data done.---\")\n"
      ],
      "metadata": {
        "colab": {
          "base_uri": "https://localhost:8080/"
        },
        "id": "LHHJ3UKUI4Kd",
        "outputId": "ff68693d-a2ce-49ec-ac7c-2beb02c6c862"
      },
      "execution_count": 5,
      "outputs": [
        {
          "output_type": "stream",
          "name": "stdout",
          "text": [
            "---loading test data done.---\n"
          ]
        }
      ]
    },
    {
      "cell_type": "code",
      "source": [
        "# collect data\n",
        "# prepare training set\n",
        "mergedTestNumber = []\n",
        "mergedTestLabel = []\n",
        "\n",
        "for num in testDataNumbers:\n",
        "\n",
        "    ### mod25\n",
        "    feature = []\n",
        "    feature = add_mod(primeTable25, num)\n",
        "    mergedTestNumber.append(feature)\n",
        "\n",
        "for num in testDataPartition:\n",
        "    mergedTestLabel.append(num)\n",
        "\n",
        "\n",
        "    #print(\"merge number \", num, \" is done.\")\n",
        "\n",
        "#print (mergedTrainNumber)"
      ],
      "metadata": {
        "id": "w0gtoY8mStjm"
      },
      "execution_count": 6,
      "outputs": []
    },
    {
      "cell_type": "code",
      "source": [
        "mergedArray = np.array(mergedTestNumber)\n",
        "mergedLabel = np.array(mergedTestLabel)"
      ],
      "metadata": {
        "id": "NqG32lBzKND0"
      },
      "execution_count": 7,
      "outputs": []
    },
    {
      "cell_type": "code",
      "source": [
        "print (mergedTestNumber[0])\n",
        "print (mergedLabel[0])"
      ],
      "metadata": {
        "colab": {
          "base_uri": "https://localhost:8080/"
        },
        "id": "k7RPyTUXJDfy",
        "outputId": "02537c21-9edd-4335-d979-daf038d10a3d"
      },
      "execution_count": 8,
      "outputs": [
        {
          "output_type": "stream",
          "name": "stdout",
          "text": [
            "[0, 0, 4, 0, 3, 2, 14, 12, 4, 25, 27, 18, 0, 29, 37, 40, 31, 14, 55, 41, 28, 68, 65, 12, 68]\n",
            "58853\n"
          ]
        }
      ]
    },
    {
      "cell_type": "code",
      "source": [
        "evaluation = model.evaluate(mergedArray, mergedLabel)\n",
        "#XNewData = testDataNumbers, testDataLabel\n",
        "print (\"Loss:\", evaluation[0])\n",
        "print (\"Accuracy:\", evaluation[1])\n",
        "print (\"##########################\")\n",
        "predictions = model.predict(mergedArray)\n",
        "\n"
      ],
      "metadata": {
        "id": "Jn3qRRzIKwVH",
        "colab": {
          "base_uri": "https://localhost:8080/"
        },
        "outputId": "13b06311-73ca-4ea9-e5b8-aa95f1846c34"
      },
      "execution_count": 9,
      "outputs": [
        {
          "output_type": "stream",
          "name": "stdout",
          "text": [
            "2/2 [==============================] - 0s 11ms/step - loss: 1433156864.0000 - accuracy: 0.0000e+00\n",
            "Loss: 1433156864.0\n",
            "Accuracy: 0.0\n",
            "##########################\n",
            "2/2 [==============================] - 0s 6ms/step\n"
          ]
        }
      ]
    },
    {
      "cell_type": "markdown",
      "source": [
        "# +N 才要執行正規"
      ],
      "metadata": {
        "id": "HSrRRRUCxEBi"
      }
    },
    {
      "cell_type": "code",
      "source": [
        "\n",
        "print (f\"將50筆測資正規化回G4\")\n",
        "normalizedTest = []\n",
        "normalizedPred = []\n",
        "for index in range(len(testDataLabel)):\n",
        "  normalizedTest.append(testDataLabel[index]*testDataG4[index]) # normalize ground truth\n",
        "  normalizedPred.append(predictions[index]*testDataG4[index])  # normalize predition\n"
      ],
      "metadata": {
        "id": "kpj8x56en-uY",
        "colab": {
          "base_uri": "https://localhost:8080/"
        },
        "outputId": "ace98a0e-1acb-450a-8b58-60d33dcb1842"
      },
      "execution_count": 10,
      "outputs": [
        {
          "output_type": "stream",
          "name": "stdout",
          "text": [
            "將50筆測資正規化回G4\n"
          ]
        }
      ]
    },
    {
      "cell_type": "code",
      "source": [
        "print (f\"將50筆測資正規化回G4\")\n",
        "for index, number in enumerate(testDataNumbers):\n",
        "  print (f\"第{index}筆資料為數字:\\t{number}\\t|正確答案 = {testDataPartition[index]:05d}\\t模型預估 = {int(normalizedPred[index])}\")"
      ],
      "metadata": {
        "id": "oNLdiKSHmozC",
        "colab": {
          "base_uri": "https://localhost:8080/"
        },
        "outputId": "a8142b66-bcf1-494d-bfe9-37641a6c6cf9"
      },
      "execution_count": 11,
      "outputs": [
        {
          "output_type": "stream",
          "name": "stdout",
          "text": [
            "將50筆測資正規化回G4\n",
            "第0筆資料為數字:\t7984914\t|正確答案 = 58853\t模型預估 = 59592\n",
            "第1筆資料為數字:\t7050792\t|正確答案 = 51667\t模型預估 = 51957\n",
            "第2筆資料為數字:\t7852768\t|正確答案 = 31367\t模型預估 = 31700\n",
            "第3筆資料為數字:\t7807448\t|正確答案 = 26161\t模型預估 = 26110\n",
            "第4筆資料為數字:\t7695230\t|正確答案 = 31001\t模型預估 = 31079\n",
            "第5筆資料為數字:\t7109000\t|正確答案 = 28859\t模型預估 = 29023\n",
            "第6筆資料為數字:\t7268430\t|正確答案 = 64326\t模型預估 = 64694\n",
            "第7筆資料為數字:\t7147384\t|正確答案 = 22306\t模型預估 = 22510\n",
            "第8筆資料為數字:\t7555772\t|正確答案 = 27371\t模型預估 = 27439\n",
            "第9筆資料為數字:\t7066874\t|正確答案 = 21654\t模型預估 = 21690\n",
            "第10筆資料為數字:\t7632520\t|正確答案 = 36879\t模型預估 = 37245\n",
            "第11筆資料為數字:\t7039812\t|正確答案 = 46596\t模型預估 = 47057\n",
            "第12筆資料為數字:\t7670862\t|正確答案 = 46176\t模型預估 = 46590\n",
            "第13筆資料為數字:\t7402232\t|正確答案 = 22333\t模型預估 = 22477\n",
            "第14筆資料為數字:\t7432508\t|正確答案 = 22866\t模型預估 = 23020\n",
            "第15筆資料為數字:\t7230862\t|正確答案 = 22140\t模型預估 = 22186\n",
            "第16筆資料為數字:\t7305346\t|正確答案 = 22305\t模型預估 = 22424\n",
            "第17筆資料為數字:\t7349124\t|正確答案 = 47254\t模型預估 = 47632\n",
            "第18筆資料為數字:\t7134356\t|正確答案 = 22965\t模型預估 = 23285\n",
            "第19筆資料為數字:\t7990454\t|正確答案 = 23942\t模型預估 = 24094\n",
            "第20筆資料為數字:\t7024954\t|正確答案 = 22002\t模型預估 = 21858\n",
            "第21筆資料為數字:\t7715734\t|正確答案 = 25511\t模型預估 = 25586\n",
            "第22筆資料為數字:\t7389732\t|正確答案 = 53823\t模型預估 = 54117\n",
            "第23筆資料為數字:\t7399392\t|正確答案 = 65325\t模型預估 = 65446\n",
            "第24筆資料為數字:\t7733444\t|正確答案 = 23978\t模型預估 = 24077\n",
            "第25筆資料為數字:\t7472958\t|正確答案 = 45171\t模型預估 = 45564\n",
            "第26筆資料為數字:\t7229336\t|正確答案 = 22227\t模型預估 = 22438\n",
            "第27筆資料為數字:\t7642944\t|正確答案 = 46283\t模型預估 = 46477\n",
            "第28筆資料為數字:\t7259704\t|正確答案 = 23166\t模型預估 = 23452\n",
            "第29筆資料為數字:\t7121414\t|正確答案 = 22558\t模型預估 = 22609\n",
            "第30筆資料為數字:\t7784406\t|正確答案 = 56207\t模型預估 = 56668\n",
            "第31筆資料為數字:\t7049660\t|正確答案 = 28538\t模型預估 = 28826\n",
            "第32筆資料為數字:\t7502200\t|正確答案 = 30025\t模型預估 = 30602\n",
            "第33筆資料為數字:\t7166374\t|正確答案 = 21786\t模型預估 = 22036\n",
            "第34筆資料為數字:\t7733050\t|正確答案 = 33860\t模型預估 = 34233\n",
            "第35筆資料為數字:\t7576878\t|正確答案 = 46031\t模型預估 = 46177\n",
            "第36筆資料為數字:\t7685390\t|正確答案 = 32376\t模型預估 = 32317\n",
            "第37筆資料為數字:\t7883096\t|正確答案 = 25863\t模型預估 = 25960\n",
            "第38筆資料為數字:\t7177008\t|正確答案 = 43561\t模型預估 = 43992\n",
            "第39筆資料為數字:\t7037344\t|正確答案 = 21553\t模型預估 = 21684\n",
            "第40筆資料為數字:\t7000034\t|正確答案 = 21393\t模型預估 = 21412\n",
            "第41筆資料為數字:\t7243074\t|正確答案 = 44362\t模型預估 = 44418\n",
            "第42筆資料為數字:\t7097916\t|正確答案 = 51956\t模型預估 = 52383\n",
            "第43筆資料為數字:\t7829402\t|正確答案 = 28162\t模型預估 = 28382\n",
            "第44筆資料為數字:\t7852972\t|正確答案 = 23621\t模型預估 = 23870\n",
            "第45筆資料為數字:\t7648320\t|正確答案 = 63924\t模型預估 = 64257\n",
            "第46筆資料為數字:\t7236930\t|正確答案 = 59226\t模型預估 = 59277\n",
            "第47筆資料為數字:\t7606482\t|正確答案 = 50630\t模型預估 = 50313\n",
            "第48筆資料為數字:\t7268224\t|正確答案 = 22013\t模型預估 = 22319\n",
            "第49筆資料為數字:\t7757512\t|正確答案 = 28258\t模型預估 = 28701\n"
          ]
        },
        {
          "output_type": "stream",
          "name": "stderr",
          "text": [
            "<ipython-input-11-0f6ad44a8f98>:3: DeprecationWarning: Conversion of an array with ndim > 0 to a scalar is deprecated, and will error in future. Ensure you extract a single element from your array before performing this operation. (Deprecated NumPy 1.25.)\n",
            "  print (f\"第{index}筆資料為數字:\\t{number}\\t|正確答案 = {testDataPartition[index]:05d}\\t模型預估 = {int(normalizedPred[index])}\")\n"
          ]
        }
      ]
    },
    {
      "cell_type": "markdown",
      "source": [
        "## 把所有資料zip"
      ],
      "metadata": {
        "id": "ldXvDky03WQ8"
      }
    },
    {
      "cell_type": "code",
      "source": [
        "gap = [abs(int(partition - pred)) for partition, pred in zip(testDataPartition, normalizedPred)]\n",
        "\n",
        "\n",
        "normalizedPred_int = [int(arr) for arr in normalizedPred]\n",
        "combined_data = list(zip(testDataNumbers, testDataPartition, normalizedPred_int, gap))\n",
        "sort_data = sorted(combined_data, key = lambda x : x[0])\n",
        "\n",
        "\n",
        "print (f\"test on {testDataPath[39::]}\")\n",
        "print (f\"測試數字/正確答案/預測答案/差距量\\n\")\n",
        "for i in sort_data:\n",
        "  print (i)\n",
        "\n",
        "print (\"***\")\n",
        "fourth_items = [item[0] for item in sort_data]\n",
        "for i in fourth_items:\n",
        "  print (i)\n",
        "# print(fourth_items)"
      ],
      "metadata": {
        "colab": {
          "base_uri": "https://localhost:8080/"
        },
        "id": "18LMvnpR3VVR",
        "outputId": "0d6ca901-ce1c-4e78-a744-903dc0b927da"
      },
      "execution_count": null,
      "outputs": [
        {
          "output_type": "stream",
          "name": "stdout",
          "text": [
            "test on test_set_G4_7M.csv\n",
            "測試數字/正確答案/預測答案/差距量\n",
            "\n",
            "(7000034, 21393, 21412, 19)\n",
            "(7024954, 22002, 21858, 143)\n",
            "(7037344, 21553, 21684, 131)\n",
            "(7039812, 46596, 47057, 461)\n",
            "(7049660, 28538, 28826, 288)\n",
            "(7050792, 51667, 51957, 290)\n",
            "(7066874, 21654, 21690, 36)\n",
            "(7097916, 51956, 52383, 427)\n",
            "(7109000, 28859, 29023, 164)\n",
            "(7121414, 22558, 22609, 51)\n",
            "(7134356, 22965, 23285, 320)\n",
            "(7147384, 22306, 22510, 204)\n",
            "(7166374, 21786, 22036, 250)\n",
            "(7177008, 43561, 43992, 431)\n",
            "(7229336, 22227, 22438, 211)\n",
            "(7230862, 22140, 22186, 46)\n",
            "(7236930, 59226, 59277, 51)\n",
            "(7243074, 44362, 44418, 56)\n",
            "(7259704, 23166, 23452, 286)\n",
            "(7268224, 22013, 22319, 306)\n",
            "(7268430, 64326, 64694, 368)\n",
            "(7305346, 22305, 22424, 119)\n",
            "(7349124, 47254, 47632, 378)\n",
            "(7389732, 53823, 54117, 294)\n",
            "(7399392, 65325, 65446, 121)\n",
            "(7402232, 22333, 22477, 144)\n",
            "(7432508, 22866, 23020, 154)\n",
            "(7472958, 45171, 45564, 393)\n",
            "(7502200, 30025, 30602, 577)\n",
            "(7555772, 27371, 27439, 68)\n",
            "(7576878, 46031, 46177, 146)\n",
            "(7606482, 50630, 50313, 316)\n",
            "(7632520, 36879, 37245, 366)\n",
            "(7642944, 46283, 46477, 194)\n",
            "(7648320, 63924, 64257, 333)\n",
            "(7670862, 46176, 46590, 414)\n",
            "(7685390, 32376, 32317, 58)\n",
            "(7695230, 31001, 31079, 78)\n",
            "(7715734, 25511, 25586, 75)\n",
            "(7733050, 33860, 34233, 373)\n",
            "(7733444, 23978, 24077, 99)\n",
            "(7757512, 28258, 28701, 443)\n",
            "(7784406, 56207, 56668, 461)\n",
            "(7807448, 26161, 26110, 50)\n",
            "(7829402, 28162, 28382, 220)\n",
            "(7852768, 31367, 31700, 333)\n",
            "(7852972, 23621, 23870, 249)\n",
            "(7883096, 25863, 25960, 97)\n",
            "(7984914, 58853, 59592, 739)\n",
            "(7990454, 23942, 24094, 152)\n",
            "***\n",
            "7000034\n",
            "7024954\n",
            "7037344\n",
            "7039812\n",
            "7049660\n",
            "7050792\n",
            "7066874\n",
            "7097916\n",
            "7109000\n",
            "7121414\n",
            "7134356\n",
            "7147384\n",
            "7166374\n",
            "7177008\n",
            "7229336\n",
            "7230862\n",
            "7236930\n",
            "7243074\n",
            "7259704\n",
            "7268224\n",
            "7268430\n",
            "7305346\n",
            "7349124\n",
            "7389732\n",
            "7399392\n",
            "7402232\n",
            "7432508\n",
            "7472958\n",
            "7502200\n",
            "7555772\n",
            "7576878\n",
            "7606482\n",
            "7632520\n",
            "7642944\n",
            "7648320\n",
            "7670862\n",
            "7685390\n",
            "7695230\n",
            "7715734\n",
            "7733050\n",
            "7733444\n",
            "7757512\n",
            "7784406\n",
            "7807448\n",
            "7829402\n",
            "7852768\n",
            "7852972\n",
            "7883096\n",
            "7984914\n",
            "7990454\n"
          ]
        },
        {
          "output_type": "stream",
          "name": "stderr",
          "text": [
            "<ipython-input-240-f3f6e207658d>:1: DeprecationWarning: Conversion of an array with ndim > 0 to a scalar is deprecated, and will error in future. Ensure you extract a single element from your array before performing this operation. (Deprecated NumPy 1.25.)\n",
            "  gap = [abs(int(partition - pred)) for partition, pred in zip(testDataPartition, normalizedPred)]\n",
            "<ipython-input-240-f3f6e207658d>:4: DeprecationWarning: Conversion of an array with ndim > 0 to a scalar is deprecated, and will error in future. Ensure you extract a single element from your array before performing this operation. (Deprecated NumPy 1.25.)\n",
            "  normalizedPred_int = [int(arr) for arr in normalizedPred]\n"
          ]
        }
      ]
    },
    {
      "cell_type": "markdown",
      "source": [
        "## RMSE and error rate"
      ],
      "metadata": {
        "id": "xdnoA-2U3Jy6"
      }
    },
    {
      "cell_type": "code",
      "source": [
        "def calculate_mse(predictions, targets):\n",
        "    \"\"\"\n",
        "    計算均方誤差 (MSE)\n",
        "\n",
        "    參數:\n",
        "    predictions: 預測值的列表或陣列\n",
        "    targets: 實際值的列表或陣列，與預測值對應\n",
        "\n",
        "    返回值:\n",
        "    mse: 均方誤差\n",
        "    \"\"\"\n",
        "    # 確保預測值和實際值的長度相等\n",
        "    if len(predictions) != len(targets):\n",
        "        raise ValueError(\"預測值和實際值的長度不一致\")\n",
        "\n",
        "    # 計算平方誤差\n",
        "    squared_errors = [(p - t) ** 2 for p, t in zip(predictions, targets)]\n",
        "\n",
        "    # 計算均方誤差\n",
        "    mse = sum(squared_errors) / len(predictions)\n",
        "\n",
        "    return mse\n",
        "\n",
        "# 使用 LN\n",
        "mse_result = calculate_mse(normalizedPred, testDataPartition)\n",
        "\n",
        "# 使用 MLP(old)\n",
        "#mse_result = calculate_mse(predictions, testDataPartition)\n",
        "\n",
        "mean = testData['Partition'].mean()\n",
        "\n",
        "#LN MSE\n",
        "MSE = int(calculate_mse(normalizedPred, testDataPartition))\n",
        "\n",
        "#MLP MSE\n",
        "# MSE = int(calculate_mse(predictions, testDataPartition))\n",
        "\n",
        "RMSE= math.sqrt(MSE)\n",
        "errorRate = RMSE/mean\n",
        "\n",
        "print (f\"MSE : {MSE}\\nRMSE : {RMSE}\\nError Rate : {errorRate}  ->  {round(errorRate,7)*100}%\")"
      ],
      "metadata": {
        "id": "INctEhXo3peo",
        "colab": {
          "base_uri": "https://localhost:8080/"
        },
        "outputId": "c60c3386-384d-4957-d0e6-85ec22587caf"
      },
      "execution_count": null,
      "outputs": [
        {
          "output_type": "stream",
          "name": "stdout",
          "text": [
            "均方誤差 (MSE): [82897.31]\n"
          ]
        }
      ]
    }
  ]
}