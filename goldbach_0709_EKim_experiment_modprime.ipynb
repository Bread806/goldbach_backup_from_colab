{
  "nbformat": 4,
  "nbformat_minor": 0,
  "metadata": {
    "colab": {
      "provenance": [],
      "authorship_tag": "ABX9TyOlmDkGi5p+TjEwhkwv1sBK",
      "include_colab_link": true
    },
    "kernelspec": {
      "name": "python3",
      "display_name": "Python 3"
    },
    "language_info": {
      "name": "python"
    }
  },
  "cells": [
    {
      "cell_type": "markdown",
      "metadata": {
        "id": "view-in-github",
        "colab_type": "text"
      },
      "source": [
        "<a href=\"https://colab.research.google.com/github/Bread806/goldbach_backup_from_colab/blob/main/goldbach_0709_EKim_experiment_modprime.ipynb\" target=\"_parent\"><img src=\"https://colab.research.google.com/assets/colab-badge.svg\" alt=\"Open In Colab\"/></a>"
      ]
    },
    {
      "cell_type": "markdown",
      "source": [
        "**粗體文字** <br>\n",
        "# E kim mod 25的實驗\n",
        "<br>\n",
        "\n"
      ],
      "metadata": {
        "id": "O-1Ma6ex2-KZ"
      }
    },
    {
      "cell_type": "code",
      "source": [
        "from google.colab import drive\n",
        "drive.mount(\"/content/Drive\")"
      ],
      "metadata": {
        "colab": {
          "base_uri": "https://localhost:8080/"
        },
        "id": "wNYcmX52zpq7",
        "outputId": "9b180d57-9c7b-4427-af04-7859ad62110d"
      },
      "execution_count": 4,
      "outputs": [
        {
          "output_type": "stream",
          "name": "stdout",
          "text": [
            "Mounted at /content/Drive\n"
          ]
        }
      ]
    },
    {
      "cell_type": "code",
      "source": [
        "from tensorflow.keras.layers.experimental.preprocessing import TextVectorization\n",
        "from tensorflow.keras.layers import Embedding, Dense\n",
        "from tensorflow.keras.optimizers import Adam\n",
        "from tensorflow.keras import backend as keras\n",
        "from sklearn.model_selection import train_test_split\n",
        "from tensorflow.keras.utils import to_categorical\n",
        "from tensorflow.keras.layers import Dense, Flatten\n",
        "from tensorflow.keras.models import Sequential\n",
        "import pandas as pd\n",
        "import numpy as np\n",
        "import tensorflow as tf\n",
        "from sklearn.preprocessing import StandardScaler\n",
        "from tensorflow.keras.layers import LayerNormalization\n",
        "from random import choice, sample\n",
        "\n",
        "\n",
        "def is_prime(num):\n",
        "    \"\"\"檢查一個數字是否為質數\"\"\"\n",
        "    if num <= 1:\n",
        "        return False\n",
        "    sqr_num = int(num ** 0.5)\n",
        "    # for i in range(2, sqr_num+ 1):\n",
        "    for i in range(2, sqr_num+ 1):\n",
        "        if num % i == 0:\n",
        "            return False\n",
        "    return True\n",
        "\n",
        "\n",
        "def prime_table(x):\n",
        "    \"\"\"建立小於x的質數表\"\"\"\n",
        "    primes = [num for num in range(2, x) if is_prime(num)]\n",
        "    return primes\n",
        "\n",
        "\n",
        "def convert_base_into_list(number, base, width=10):\n",
        "    result = []  # init list\n",
        "\n",
        "    for i in range(width):\n",
        "        result.append(number % base)\n",
        "        number = number // base\n",
        "    result = result[::-1]\n",
        "    return result\n",
        "\n",
        "\n",
        "def prime_to_index(primeSize, primes, number):\n",
        "    for index in range(primeSize):\n",
        "        if number == primes[index]:\n",
        "            return index\n",
        "    return -1\n",
        "\n",
        "def add_prime(first25Prime, n):\n",
        "    result = []\n",
        "    if n < 100:\n",
        "      for item in first25Prime:\n",
        "        if item > n :break\n",
        "        else : result.append(n%item)\n",
        "    else :\n",
        "      for item in first25Prime:\n",
        "        result.append(n%item)\n",
        "\n",
        "    return [0]*(25-len(result)) + result\n",
        "\n",
        "def prime_base(n, p, length=10):\n",
        "  digit = []\n",
        "  if n==0:\n",
        "    return '0'.zfill(length)\n",
        "  while n and len(digit)<10:\n",
        "    digit.append(int(n%p))\n",
        "    n = n//p\n",
        "  return [0]*(10 - len(digit)) + digit\n"
      ],
      "metadata": {
        "id": "Veno4zyPzi57"
      },
      "execution_count": 2,
      "outputs": []
    },
    {
      "cell_type": "code",
      "source": [
        "n = 1212\n",
        "p = 3\n",
        "\n",
        "prime_base(n,p)"
      ],
      "metadata": {
        "colab": {
          "base_uri": "https://localhost:8080/"
        },
        "id": "5dBGTCtfDPHh",
        "outputId": "82397a8f-6466-42cd-d89c-ee7341ff3ead"
      },
      "execution_count": null,
      "outputs": [
        {
          "output_type": "execute_result",
          "data": {
            "text/plain": [
              "[0, 0, 0, 0, 2, 2, 2, 2, 1, 1]"
            ]
          },
          "metadata": {},
          "execution_count": 18
        }
      ]
    },
    {
      "cell_type": "code",
      "execution_count": 5,
      "metadata": {
        "colab": {
          "base_uri": "https://localhost:8080/"
        },
        "id": "TdPvfso6zdJ2",
        "outputId": "5645b0c9-78a9-493f-af84-1228b1e6ef4a"
      },
      "outputs": [
        {
          "output_type": "stream",
          "name": "stdout",
          "text": [
            "---loading data---\n",
            "---loading data done.---\n"
          ]
        }
      ],
      "source": [
        "# shuffle\n",
        "\n",
        "print(\"---loading data---\")\n",
        "# load data\n",
        "trainData = pd.read_csv('/content/Drive/MyDrive/實驗/goldbach/csv/traindata_min_size_1000.csv')\n",
        "trainDataNumbers = trainData['Number'].values\n",
        "trainDataLabel = trainData['Factors'].values\n",
        "print(\"---loading data done.---\")\n",
        "\n",
        "# shuffle training data\n",
        "shuffleIndices = np.random.permutation(len(trainDataNumbers))\n",
        "shuffledNumbers = trainDataNumbers[shuffleIndices]\n",
        "shuffledLabel = trainDataLabel[shuffleIndices]"
      ]
    },
    {
      "cell_type": "code",
      "source": [
        "print (shuffledNumbers[5])\n",
        "print (shuffledLabel [5])"
      ],
      "metadata": {
        "colab": {
          "base_uri": "https://localhost:8080/"
        },
        "id": "T0VWLQPK6F7a",
        "outputId": "9e4f4519-5ea6-4f91-c492-e95c0c8b48c0"
      },
      "execution_count": null,
      "outputs": [
        {
          "output_type": "stream",
          "name": "stdout",
          "text": [
            "3887790\n",
            "34182\n"
          ]
        }
      ]
    },
    {
      "cell_type": "code",
      "source": [
        "# loadding prime table\n",
        "primeTable = pd.read_csv(\"/content/Drive/MyDrive/實驗/goldbach/csv/prime_table_5000000.csv\")\n",
        "primeTableNumber = primeTable[\"primes\"].values\n",
        "print (\"---loading primes table---\")"
      ],
      "metadata": {
        "colab": {
          "base_uri": "https://localhost:8080/"
        },
        "id": "k5qpkhdJ0ZlU",
        "outputId": "f65a0442-add7-4919-f64c-2abd89b09e0a"
      },
      "execution_count": 6,
      "outputs": [
        {
          "output_type": "stream",
          "name": "stdout",
          "text": [
            "---loading primes table---\n"
          ]
        }
      ]
    },
    {
      "cell_type": "markdown",
      "source": [],
      "metadata": {
        "id": "XjDFb9Z-GlrU"
      }
    },
    {
      "cell_type": "code",
      "source": [
        "first25Prime = primeTableNumber[:25]"
      ],
      "metadata": {
        "id": "MRC4YsyYFNGX"
      },
      "execution_count": 8,
      "outputs": []
    },
    {
      "cell_type": "code",
      "source": [
        "# collect data\n",
        "# prepare training set\n",
        "mergedTrainNumber = []\n",
        "mergedTrainLabel = []\n",
        "flag = 1\n",
        "for num in shuffledNumbers:\n",
        "\n",
        "  # Euler's Totient Function Partitions fist 50\n",
        "  mergedTrainNumber.append(add_prime(first25Prime, num))\n",
        "\n",
        "for num in shuffledLabel:\n",
        "    mergedTrainLabel.append(num)\n",
        "\n",
        "#print (mergedTrainNumber)"
      ],
      "metadata": {
        "id": "3MZY96_M0KIu"
      },
      "execution_count": 13,
      "outputs": []
    },
    {
      "cell_type": "code",
      "source": [
        "mergedArray = np.array(mergedTrainNumber)\n",
        "mergedLabel = np.array(mergedTrainLabel)"
      ],
      "metadata": {
        "id": "R4v5443kK8Lq"
      },
      "execution_count": 14,
      "outputs": []
    },
    {
      "cell_type": "code",
      "source": [
        "print (mergedArray)"
      ],
      "metadata": {
        "colab": {
          "base_uri": "https://localhost:8080/"
        },
        "id": "1eAwmyVByJBF",
        "outputId": "b0df955e-844b-4b78-cad8-3c6363835fca"
      },
      "execution_count": 15,
      "outputs": [
        {
          "output_type": "stream",
          "name": "stdout",
          "text": [
            "[[ 0  1  3 ...  4 64 77]\n",
            " [ 0  1  4 ... 45 29 64]\n",
            " [ 0  0  2 ... 44 14  4]\n",
            " ...\n",
            " [ 0  0  2 ... 33 32 60]\n",
            " [ 0  0  3 ... 69 17 14]\n",
            " [ 0  2  4 ... 34 32 58]]\n"
          ]
        }
      ]
    },
    {
      "cell_type": "code",
      "source": [
        "X_train, X_val, y_train, y_val = train_test_split(mergedArray, mergedLabel, test_size=0.2, random_state=42)"
      ],
      "metadata": {
        "id": "jyTwBG1jzoK8"
      },
      "execution_count": 16,
      "outputs": []
    },
    {
      "cell_type": "code",
      "source": [
        "print (X_train[0].shape)"
      ],
      "metadata": {
        "colab": {
          "base_uri": "https://localhost:8080/"
        },
        "id": "uXqXPgPgJr4D",
        "outputId": "b425230e-d70b-465c-abd0-eba5e64fb81c"
      },
      "execution_count": 17,
      "outputs": [
        {
          "output_type": "stream",
          "name": "stdout",
          "text": [
            "(25,)\n"
          ]
        }
      ]
    },
    {
      "cell_type": "code",
      "source": [
        "import tensorflow as tf\n",
        "from tensorflow.keras.models import Sequential\n",
        "from tensorflow.keras.layers import Dense\n",
        "from tensorflow.keras.optimizers import Adam\n",
        "from tensorflow.keras.callbacks import EarlyStopping\n",
        "from tensorflow.keras import backend as keras\n",
        "\n",
        "# 清空所有\n",
        "keras.clear_session()\n",
        "\n",
        "# 設置早停回調\n",
        "early_stopping = EarlyStopping(monitor='val_loss', patience=10, restore_best_weights=True)\n",
        "\n",
        "# 模型訓練設置\n",
        "device = \"/device:GPU:0\"\n",
        "with tf.device(device):\n",
        "    print(f\"--- gpu {device} is loaded. ---\")\n",
        "    model = Sequential()\n",
        "    model.add(Dense(units=256, input_shape=(25,), activation='relu'))\n",
        "    model.add(Dense(units=256, activation='relu'))\n",
        "    model.add(Dense(units=256, activation='relu'))\n",
        "    model.add(Dense(units=256, activation='relu'))\n",
        "    model.add(Dense(units=256, activation='relu'))\n",
        "    model.add(Dense(units=1, activation='linear'))\n",
        "\n",
        "    print(model.summary())\n",
        "\n",
        "    custom_adam_optimizer = Adam(learning_rate=0.0002)\n",
        "    model.compile(loss='MSE', optimizer=custom_adam_optimizer, metrics=['accuracy'])\n",
        "\n",
        "    # 開始訓練\n",
        "    print(\"---starting training---\")\n",
        "    trainHistory = model.fit(X_train, y_train, epochs=200, batch_size=128, validation_data=(X_val, y_val), callbacks=[early_stopping])\n",
        "    print(\"--------------------------------------------------------\")\n",
        "\n",
        "    # 保存模型\n",
        "    model.save('./csv/goldbach_model_0709_kim.h5')\n",
        "print(\"model saved.\")\n"
      ],
      "metadata": {
        "id": "ge8BVKMTznDr",
        "colab": {
          "base_uri": "https://localhost:8080/"
        },
        "outputId": "c8703751-31d2-4503-98b0-62710418987e"
      },
      "execution_count": 33,
      "outputs": [
        {
          "output_type": "stream",
          "name": "stdout",
          "text": [
            "--- gpu /device:GPU:0 is loaded. ---\n",
            "Model: \"sequential\"\n",
            "_________________________________________________________________\n",
            " Layer (type)                Output Shape              Param #   \n",
            "=================================================================\n",
            " dense (Dense)               (None, 256)               6656      \n",
            "                                                                 \n",
            " dense_1 (Dense)             (None, 256)               65792     \n",
            "                                                                 \n",
            " dense_2 (Dense)             (None, 256)               65792     \n",
            "                                                                 \n",
            " dense_3 (Dense)             (None, 256)               65792     \n",
            "                                                                 \n",
            " dense_4 (Dense)             (None, 256)               65792     \n",
            "                                                                 \n",
            " dense_5 (Dense)             (None, 1)                 257       \n",
            "                                                                 \n",
            "=================================================================\n",
            "Total params: 270081 (1.03 MB)\n",
            "Trainable params: 270081 (1.03 MB)\n",
            "Non-trainable params: 0 (0.00 Byte)\n",
            "_________________________________________________________________\n",
            "None\n",
            "---starting training---\n",
            "Epoch 1/200\n",
            "7/7 [==============================] - 2s 53ms/step - loss: 172555728.0000 - accuracy: 0.0000e+00 - val_loss: 163543344.0000 - val_accuracy: 0.0000e+00\n",
            "Epoch 2/200\n",
            "7/7 [==============================] - 0s 21ms/step - loss: 171963920.0000 - accuracy: 0.0000e+00 - val_loss: 162785648.0000 - val_accuracy: 0.0000e+00\n",
            "Epoch 3/200\n",
            "7/7 [==============================] - 0s 19ms/step - loss: 170862976.0000 - accuracy: 0.0000e+00 - val_loss: 161228144.0000 - val_accuracy: 0.0000e+00\n",
            "Epoch 4/200\n",
            "7/7 [==============================] - 0s 19ms/step - loss: 168611248.0000 - accuracy: 0.0000e+00 - val_loss: 157936256.0000 - val_accuracy: 0.0000e+00\n",
            "Epoch 5/200\n",
            "7/7 [==============================] - 0s 19ms/step - loss: 163831472.0000 - accuracy: 0.0000e+00 - val_loss: 151179872.0000 - val_accuracy: 0.0000e+00\n",
            "Epoch 6/200\n",
            "7/7 [==============================] - 0s 21ms/step - loss: 154354432.0000 - accuracy: 0.0000e+00 - val_loss: 137976784.0000 - val_accuracy: 0.0000e+00\n",
            "Epoch 7/200\n",
            "7/7 [==============================] - 0s 22ms/step - loss: 135865952.0000 - accuracy: 0.0000e+00 - val_loss: 114635128.0000 - val_accuracy: 0.0000e+00\n",
            "Epoch 8/200\n",
            "7/7 [==============================] - 0s 19ms/step - loss: 105277432.0000 - accuracy: 0.0000e+00 - val_loss: 81740024.0000 - val_accuracy: 0.0000e+00\n",
            "Epoch 9/200\n",
            "7/7 [==============================] - 0s 16ms/step - loss: 67208904.0000 - accuracy: 0.0000e+00 - val_loss: 62136516.0000 - val_accuracy: 0.0000e+00\n",
            "Epoch 10/200\n",
            "7/7 [==============================] - 0s 20ms/step - loss: 54197376.0000 - accuracy: 0.0000e+00 - val_loss: 76706672.0000 - val_accuracy: 0.0000e+00\n",
            "Epoch 11/200\n",
            "7/7 [==============================] - 0s 18ms/step - loss: 56249356.0000 - accuracy: 0.0000e+00 - val_loss: 64457652.0000 - val_accuracy: 0.0000e+00\n",
            "Epoch 12/200\n",
            "7/7 [==============================] - 0s 19ms/step - loss: 52149656.0000 - accuracy: 0.0000e+00 - val_loss: 61830340.0000 - val_accuracy: 0.0000e+00\n",
            "Epoch 13/200\n",
            "7/7 [==============================] - 0s 16ms/step - loss: 52660408.0000 - accuracy: 0.0000e+00 - val_loss: 61721296.0000 - val_accuracy: 0.0000e+00\n",
            "Epoch 14/200\n",
            "7/7 [==============================] - 0s 22ms/step - loss: 51453400.0000 - accuracy: 0.0000e+00 - val_loss: 62539852.0000 - val_accuracy: 0.0000e+00\n",
            "Epoch 15/200\n",
            "7/7 [==============================] - 0s 21ms/step - loss: 51403764.0000 - accuracy: 0.0000e+00 - val_loss: 64175084.0000 - val_accuracy: 0.0000e+00\n",
            "Epoch 16/200\n",
            "7/7 [==============================] - 0s 16ms/step - loss: 51368944.0000 - accuracy: 0.0000e+00 - val_loss: 62719052.0000 - val_accuracy: 0.0000e+00\n",
            "Epoch 17/200\n",
            "7/7 [==============================] - 0s 18ms/step - loss: 51024168.0000 - accuracy: 0.0000e+00 - val_loss: 62201088.0000 - val_accuracy: 0.0000e+00\n",
            "Epoch 18/200\n",
            "7/7 [==============================] - 0s 17ms/step - loss: 51006812.0000 - accuracy: 0.0000e+00 - val_loss: 62162652.0000 - val_accuracy: 0.0000e+00\n",
            "Epoch 19/200\n",
            "7/7 [==============================] - 0s 19ms/step - loss: 51113308.0000 - accuracy: 0.0000e+00 - val_loss: 61676392.0000 - val_accuracy: 0.0000e+00\n",
            "Epoch 20/200\n",
            "7/7 [==============================] - 0s 17ms/step - loss: 50898248.0000 - accuracy: 0.0000e+00 - val_loss: 62494032.0000 - val_accuracy: 0.0000e+00\n",
            "Epoch 21/200\n",
            "7/7 [==============================] - 0s 18ms/step - loss: 50819544.0000 - accuracy: 0.0000e+00 - val_loss: 62524484.0000 - val_accuracy: 0.0000e+00\n",
            "Epoch 22/200\n",
            "7/7 [==============================] - 0s 22ms/step - loss: 50769024.0000 - accuracy: 0.0000e+00 - val_loss: 62102796.0000 - val_accuracy: 0.0000e+00\n",
            "Epoch 23/200\n",
            "7/7 [==============================] - 0s 18ms/step - loss: 50673972.0000 - accuracy: 0.0000e+00 - val_loss: 61528780.0000 - val_accuracy: 0.0000e+00\n",
            "Epoch 24/200\n",
            "7/7 [==============================] - 0s 16ms/step - loss: 50615300.0000 - accuracy: 0.0000e+00 - val_loss: 61662884.0000 - val_accuracy: 0.0000e+00\n",
            "Epoch 25/200\n",
            "7/7 [==============================] - 0s 17ms/step - loss: 50532688.0000 - accuracy: 0.0000e+00 - val_loss: 61922336.0000 - val_accuracy: 0.0000e+00\n",
            "Epoch 26/200\n",
            "7/7 [==============================] - 0s 18ms/step - loss: 50469820.0000 - accuracy: 0.0000e+00 - val_loss: 61878148.0000 - val_accuracy: 0.0000e+00\n",
            "Epoch 27/200\n",
            "7/7 [==============================] - 0s 17ms/step - loss: 50631692.0000 - accuracy: 0.0000e+00 - val_loss: 62244024.0000 - val_accuracy: 0.0000e+00\n",
            "Epoch 28/200\n",
            "7/7 [==============================] - 0s 17ms/step - loss: 50331616.0000 - accuracy: 0.0000e+00 - val_loss: 61257488.0000 - val_accuracy: 0.0000e+00\n",
            "Epoch 29/200\n",
            "7/7 [==============================] - 0s 18ms/step - loss: 50347080.0000 - accuracy: 0.0000e+00 - val_loss: 61068688.0000 - val_accuracy: 0.0000e+00\n",
            "Epoch 30/200\n",
            "7/7 [==============================] - 0s 22ms/step - loss: 50309456.0000 - accuracy: 0.0000e+00 - val_loss: 61954992.0000 - val_accuracy: 0.0000e+00\n",
            "Epoch 31/200\n",
            "7/7 [==============================] - 0s 16ms/step - loss: 50053212.0000 - accuracy: 0.0000e+00 - val_loss: 60613436.0000 - val_accuracy: 0.0000e+00\n",
            "Epoch 32/200\n",
            "7/7 [==============================] - 0s 17ms/step - loss: 50305852.0000 - accuracy: 0.0000e+00 - val_loss: 60238244.0000 - val_accuracy: 0.0000e+00\n",
            "Epoch 33/200\n",
            "7/7 [==============================] - 0s 19ms/step - loss: 50048204.0000 - accuracy: 0.0000e+00 - val_loss: 60962640.0000 - val_accuracy: 0.0000e+00\n",
            "Epoch 34/200\n",
            "7/7 [==============================] - 0s 19ms/step - loss: 50101964.0000 - accuracy: 0.0000e+00 - val_loss: 61423712.0000 - val_accuracy: 0.0000e+00\n",
            "Epoch 35/200\n",
            "7/7 [==============================] - 0s 17ms/step - loss: 49980508.0000 - accuracy: 0.0000e+00 - val_loss: 60073568.0000 - val_accuracy: 0.0000e+00\n",
            "Epoch 36/200\n",
            "7/7 [==============================] - 0s 16ms/step - loss: 49777488.0000 - accuracy: 0.0000e+00 - val_loss: 60974188.0000 - val_accuracy: 0.0000e+00\n",
            "Epoch 37/200\n",
            "7/7 [==============================] - 0s 20ms/step - loss: 49781156.0000 - accuracy: 0.0000e+00 - val_loss: 60691204.0000 - val_accuracy: 0.0000e+00\n",
            "Epoch 38/200\n",
            "7/7 [==============================] - 0s 20ms/step - loss: 49742312.0000 - accuracy: 0.0000e+00 - val_loss: 60315404.0000 - val_accuracy: 0.0000e+00\n",
            "Epoch 39/200\n",
            "7/7 [==============================] - 0s 16ms/step - loss: 49617736.0000 - accuracy: 0.0000e+00 - val_loss: 60683716.0000 - val_accuracy: 0.0000e+00\n",
            "Epoch 40/200\n",
            "7/7 [==============================] - 0s 16ms/step - loss: 49578228.0000 - accuracy: 0.0000e+00 - val_loss: 60310716.0000 - val_accuracy: 0.0000e+00\n",
            "Epoch 41/200\n",
            "7/7 [==============================] - 0s 16ms/step - loss: 49475276.0000 - accuracy: 0.0000e+00 - val_loss: 59956040.0000 - val_accuracy: 0.0000e+00\n",
            "Epoch 42/200\n",
            "7/7 [==============================] - 0s 20ms/step - loss: 49597584.0000 - accuracy: 0.0000e+00 - val_loss: 59609692.0000 - val_accuracy: 0.0000e+00\n",
            "Epoch 43/200\n",
            "7/7 [==============================] - 0s 17ms/step - loss: 49376512.0000 - accuracy: 0.0000e+00 - val_loss: 60729888.0000 - val_accuracy: 0.0000e+00\n",
            "Epoch 44/200\n",
            "7/7 [==============================] - 0s 17ms/step - loss: 49438544.0000 - accuracy: 0.0000e+00 - val_loss: 60580228.0000 - val_accuracy: 0.0000e+00\n",
            "Epoch 45/200\n",
            "7/7 [==============================] - 0s 21ms/step - loss: 49246428.0000 - accuracy: 0.0000e+00 - val_loss: 59393628.0000 - val_accuracy: 0.0000e+00\n",
            "Epoch 46/200\n",
            "7/7 [==============================] - 0s 21ms/step - loss: 49350864.0000 - accuracy: 0.0000e+00 - val_loss: 59621216.0000 - val_accuracy: 0.0000e+00\n",
            "Epoch 47/200\n",
            "7/7 [==============================] - 0s 18ms/step - loss: 49272924.0000 - accuracy: 0.0000e+00 - val_loss: 60654392.0000 - val_accuracy: 0.0000e+00\n",
            "Epoch 48/200\n",
            "7/7 [==============================] - 0s 18ms/step - loss: 49070888.0000 - accuracy: 0.0000e+00 - val_loss: 59766120.0000 - val_accuracy: 0.0000e+00\n",
            "Epoch 49/200\n",
            "7/7 [==============================] - 0s 18ms/step - loss: 49027560.0000 - accuracy: 0.0000e+00 - val_loss: 60064408.0000 - val_accuracy: 0.0000e+00\n",
            "Epoch 50/200\n",
            "7/7 [==============================] - 0s 19ms/step - loss: 49021092.0000 - accuracy: 0.0000e+00 - val_loss: 59434492.0000 - val_accuracy: 0.0000e+00\n",
            "Epoch 51/200\n",
            "7/7 [==============================] - 0s 16ms/step - loss: 48790748.0000 - accuracy: 0.0000e+00 - val_loss: 60182632.0000 - val_accuracy: 0.0000e+00\n",
            "Epoch 52/200\n",
            "7/7 [==============================] - 0s 16ms/step - loss: 48782580.0000 - accuracy: 0.0000e+00 - val_loss: 60288656.0000 - val_accuracy: 0.0000e+00\n",
            "Epoch 53/200\n",
            "7/7 [==============================] - 0s 21ms/step - loss: 48927120.0000 - accuracy: 0.0000e+00 - val_loss: 60280904.0000 - val_accuracy: 0.0000e+00\n",
            "Epoch 54/200\n",
            "7/7 [==============================] - 0s 18ms/step - loss: 48778756.0000 - accuracy: 0.0000e+00 - val_loss: 58999956.0000 - val_accuracy: 0.0000e+00\n",
            "Epoch 55/200\n",
            "7/7 [==============================] - 0s 16ms/step - loss: 48709284.0000 - accuracy: 0.0000e+00 - val_loss: 59780292.0000 - val_accuracy: 0.0000e+00\n",
            "Epoch 56/200\n",
            "7/7 [==============================] - 0s 16ms/step - loss: 48424016.0000 - accuracy: 0.0000e+00 - val_loss: 59816588.0000 - val_accuracy: 0.0000e+00\n",
            "Epoch 57/200\n",
            "7/7 [==============================] - 0s 16ms/step - loss: 48517268.0000 - accuracy: 0.0000e+00 - val_loss: 59459032.0000 - val_accuracy: 0.0000e+00\n",
            "Epoch 58/200\n",
            "7/7 [==============================] - 0s 19ms/step - loss: 48478704.0000 - accuracy: 0.0000e+00 - val_loss: 60515660.0000 - val_accuracy: 0.0000e+00\n",
            "Epoch 59/200\n",
            "7/7 [==============================] - 0s 17ms/step - loss: 48225128.0000 - accuracy: 0.0000e+00 - val_loss: 58985724.0000 - val_accuracy: 0.0000e+00\n",
            "Epoch 60/200\n",
            "7/7 [==============================] - 0s 18ms/step - loss: 48182140.0000 - accuracy: 0.0000e+00 - val_loss: 59014276.0000 - val_accuracy: 0.0000e+00\n",
            "Epoch 61/200\n",
            "7/7 [==============================] - 0s 22ms/step - loss: 48145920.0000 - accuracy: 0.0000e+00 - val_loss: 59167764.0000 - val_accuracy: 0.0000e+00\n",
            "Epoch 62/200\n",
            "7/7 [==============================] - 0s 21ms/step - loss: 47954052.0000 - accuracy: 0.0000e+00 - val_loss: 58769952.0000 - val_accuracy: 0.0000e+00\n",
            "Epoch 63/200\n",
            "7/7 [==============================] - 0s 19ms/step - loss: 47874708.0000 - accuracy: 0.0000e+00 - val_loss: 59238004.0000 - val_accuracy: 0.0000e+00\n",
            "Epoch 64/200\n",
            "7/7 [==============================] - 0s 19ms/step - loss: 47716156.0000 - accuracy: 0.0000e+00 - val_loss: 59590952.0000 - val_accuracy: 0.0000e+00\n",
            "Epoch 65/200\n",
            "7/7 [==============================] - 0s 18ms/step - loss: 47666652.0000 - accuracy: 0.0000e+00 - val_loss: 59776920.0000 - val_accuracy: 0.0000e+00\n",
            "Epoch 66/200\n",
            "7/7 [==============================] - 0s 20ms/step - loss: 47490676.0000 - accuracy: 0.0000e+00 - val_loss: 58976500.0000 - val_accuracy: 0.0000e+00\n",
            "Epoch 67/200\n",
            "7/7 [==============================] - 0s 17ms/step - loss: 47456976.0000 - accuracy: 0.0000e+00 - val_loss: 58753700.0000 - val_accuracy: 0.0000e+00\n",
            "Epoch 68/200\n",
            "7/7 [==============================] - 0s 19ms/step - loss: 47284724.0000 - accuracy: 0.0000e+00 - val_loss: 59516028.0000 - val_accuracy: 0.0000e+00\n",
            "Epoch 69/200\n",
            "7/7 [==============================] - 0s 20ms/step - loss: 47286932.0000 - accuracy: 0.0000e+00 - val_loss: 59464944.0000 - val_accuracy: 0.0000e+00\n",
            "Epoch 70/200\n",
            "7/7 [==============================] - 0s 24ms/step - loss: 47061936.0000 - accuracy: 0.0000e+00 - val_loss: 58548796.0000 - val_accuracy: 0.0000e+00\n",
            "Epoch 71/200\n",
            "7/7 [==============================] - 0s 28ms/step - loss: 47005628.0000 - accuracy: 0.0000e+00 - val_loss: 58669076.0000 - val_accuracy: 0.0000e+00\n",
            "Epoch 72/200\n",
            "7/7 [==============================] - 0s 27ms/step - loss: 46835304.0000 - accuracy: 0.0000e+00 - val_loss: 58573216.0000 - val_accuracy: 0.0000e+00\n",
            "Epoch 73/200\n",
            "7/7 [==============================] - 0s 27ms/step - loss: 46673044.0000 - accuracy: 0.0000e+00 - val_loss: 59440108.0000 - val_accuracy: 0.0000e+00\n",
            "Epoch 74/200\n",
            "7/7 [==============================] - 0s 38ms/step - loss: 46701300.0000 - accuracy: 0.0000e+00 - val_loss: 58669328.0000 - val_accuracy: 0.0000e+00\n",
            "Epoch 75/200\n",
            "7/7 [==============================] - 0s 29ms/step - loss: 46493036.0000 - accuracy: 0.0000e+00 - val_loss: 58385832.0000 - val_accuracy: 0.0000e+00\n",
            "Epoch 76/200\n",
            "7/7 [==============================] - 0s 25ms/step - loss: 46368108.0000 - accuracy: 0.0000e+00 - val_loss: 58520216.0000 - val_accuracy: 0.0000e+00\n",
            "Epoch 77/200\n",
            "7/7 [==============================] - 0s 23ms/step - loss: 46180632.0000 - accuracy: 0.0000e+00 - val_loss: 58520332.0000 - val_accuracy: 0.0000e+00\n",
            "Epoch 78/200\n",
            "7/7 [==============================] - 0s 27ms/step - loss: 46046012.0000 - accuracy: 0.0000e+00 - val_loss: 58487756.0000 - val_accuracy: 0.0000e+00\n",
            "Epoch 79/200\n",
            "7/7 [==============================] - 0s 34ms/step - loss: 45900396.0000 - accuracy: 0.0000e+00 - val_loss: 58430496.0000 - val_accuracy: 0.0000e+00\n",
            "Epoch 80/200\n",
            "7/7 [==============================] - 0s 26ms/step - loss: 45750468.0000 - accuracy: 0.0000e+00 - val_loss: 58227304.0000 - val_accuracy: 0.0000e+00\n",
            "Epoch 81/200\n",
            "7/7 [==============================] - 0s 26ms/step - loss: 45694444.0000 - accuracy: 0.0000e+00 - val_loss: 58145036.0000 - val_accuracy: 0.0000e+00\n",
            "Epoch 82/200\n",
            "7/7 [==============================] - 0s 23ms/step - loss: 45803536.0000 - accuracy: 0.0000e+00 - val_loss: 58860084.0000 - val_accuracy: 0.0000e+00\n",
            "Epoch 83/200\n",
            "7/7 [==============================] - 0s 27ms/step - loss: 45321508.0000 - accuracy: 0.0000e+00 - val_loss: 57754316.0000 - val_accuracy: 0.0000e+00\n",
            "Epoch 84/200\n",
            "7/7 [==============================] - 0s 32ms/step - loss: 45334516.0000 - accuracy: 0.0000e+00 - val_loss: 58638368.0000 - val_accuracy: 0.0000e+00\n",
            "Epoch 85/200\n",
            "7/7 [==============================] - 0s 26ms/step - loss: 44938940.0000 - accuracy: 0.0000e+00 - val_loss: 57725676.0000 - val_accuracy: 0.0000e+00\n",
            "Epoch 86/200\n",
            "7/7 [==============================] - 0s 31ms/step - loss: 44977404.0000 - accuracy: 0.0000e+00 - val_loss: 57660104.0000 - val_accuracy: 0.0000e+00\n",
            "Epoch 87/200\n",
            "7/7 [==============================] - 0s 25ms/step - loss: 44981344.0000 - accuracy: 0.0000e+00 - val_loss: 58467276.0000 - val_accuracy: 0.0000e+00\n",
            "Epoch 88/200\n",
            "7/7 [==============================] - 0s 32ms/step - loss: 44713332.0000 - accuracy: 0.0000e+00 - val_loss: 57459728.0000 - val_accuracy: 0.0000e+00\n",
            "Epoch 89/200\n",
            "7/7 [==============================] - 0s 33ms/step - loss: 44378040.0000 - accuracy: 0.0000e+00 - val_loss: 58328196.0000 - val_accuracy: 0.0000e+00\n",
            "Epoch 90/200\n",
            "7/7 [==============================] - 0s 30ms/step - loss: 44378032.0000 - accuracy: 0.0000e+00 - val_loss: 59085352.0000 - val_accuracy: 0.0000e+00\n",
            "Epoch 91/200\n",
            "7/7 [==============================] - 0s 27ms/step - loss: 43944296.0000 - accuracy: 0.0000e+00 - val_loss: 57304124.0000 - val_accuracy: 0.0000e+00\n",
            "Epoch 92/200\n",
            "7/7 [==============================] - 0s 28ms/step - loss: 43929816.0000 - accuracy: 0.0000e+00 - val_loss: 57841332.0000 - val_accuracy: 0.0000e+00\n",
            "Epoch 93/200\n",
            "7/7 [==============================] - 0s 28ms/step - loss: 43815896.0000 - accuracy: 0.0000e+00 - val_loss: 58659304.0000 - val_accuracy: 0.0000e+00\n",
            "Epoch 94/200\n",
            "7/7 [==============================] - 0s 30ms/step - loss: 43454464.0000 - accuracy: 0.0000e+00 - val_loss: 57568916.0000 - val_accuracy: 0.0000e+00\n",
            "Epoch 95/200\n",
            "7/7 [==============================] - 0s 20ms/step - loss: 43336052.0000 - accuracy: 0.0000e+00 - val_loss: 58257932.0000 - val_accuracy: 0.0000e+00\n",
            "Epoch 96/200\n",
            "7/7 [==============================] - 0s 17ms/step - loss: 43011492.0000 - accuracy: 0.0000e+00 - val_loss: 57463336.0000 - val_accuracy: 0.0000e+00\n",
            "Epoch 97/200\n",
            "7/7 [==============================] - 0s 19ms/step - loss: 42844912.0000 - accuracy: 0.0000e+00 - val_loss: 57726392.0000 - val_accuracy: 0.0000e+00\n",
            "Epoch 98/200\n",
            "7/7 [==============================] - 0s 17ms/step - loss: 42587332.0000 - accuracy: 0.0000e+00 - val_loss: 57679668.0000 - val_accuracy: 0.0000e+00\n",
            "Epoch 99/200\n",
            "7/7 [==============================] - 0s 18ms/step - loss: 42487920.0000 - accuracy: 0.0000e+00 - val_loss: 58254660.0000 - val_accuracy: 0.0000e+00\n",
            "Epoch 100/200\n",
            "7/7 [==============================] - 0s 19ms/step - loss: 42272808.0000 - accuracy: 0.0000e+00 - val_loss: 57233244.0000 - val_accuracy: 0.0000e+00\n",
            "Epoch 101/200\n",
            "7/7 [==============================] - 0s 18ms/step - loss: 41934084.0000 - accuracy: 0.0000e+00 - val_loss: 58310744.0000 - val_accuracy: 0.0000e+00\n",
            "Epoch 102/200\n",
            "7/7 [==============================] - 0s 20ms/step - loss: 41722428.0000 - accuracy: 0.0000e+00 - val_loss: 57761548.0000 - val_accuracy: 0.0000e+00\n",
            "Epoch 103/200\n",
            "7/7 [==============================] - 0s 18ms/step - loss: 41609368.0000 - accuracy: 0.0000e+00 - val_loss: 57458232.0000 - val_accuracy: 0.0000e+00\n",
            "Epoch 104/200\n",
            "7/7 [==============================] - 0s 17ms/step - loss: 41500684.0000 - accuracy: 0.0000e+00 - val_loss: 59674940.0000 - val_accuracy: 0.0000e+00\n",
            "Epoch 105/200\n",
            "7/7 [==============================] - 0s 18ms/step - loss: 41127080.0000 - accuracy: 0.0000e+00 - val_loss: 57045484.0000 - val_accuracy: 0.0000e+00\n",
            "Epoch 106/200\n",
            "7/7 [==============================] - 0s 16ms/step - loss: 40801252.0000 - accuracy: 0.0000e+00 - val_loss: 58638652.0000 - val_accuracy: 0.0000e+00\n",
            "Epoch 107/200\n",
            "7/7 [==============================] - 0s 17ms/step - loss: 40595508.0000 - accuracy: 0.0000e+00 - val_loss: 57523760.0000 - val_accuracy: 0.0000e+00\n",
            "Epoch 108/200\n",
            "7/7 [==============================] - 0s 18ms/step - loss: 40160712.0000 - accuracy: 0.0000e+00 - val_loss: 58264260.0000 - val_accuracy: 0.0000e+00\n",
            "Epoch 109/200\n",
            "7/7 [==============================] - 0s 18ms/step - loss: 39929488.0000 - accuracy: 0.0000e+00 - val_loss: 57773364.0000 - val_accuracy: 0.0000e+00\n",
            "Epoch 110/200\n",
            "7/7 [==============================] - 0s 24ms/step - loss: 39842036.0000 - accuracy: 0.0000e+00 - val_loss: 57964104.0000 - val_accuracy: 0.0000e+00\n",
            "Epoch 111/200\n",
            "7/7 [==============================] - 0s 19ms/step - loss: 39432248.0000 - accuracy: 0.0000e+00 - val_loss: 57272496.0000 - val_accuracy: 0.0000e+00\n",
            "Epoch 112/200\n",
            "7/7 [==============================] - 0s 18ms/step - loss: 39230928.0000 - accuracy: 0.0000e+00 - val_loss: 58692300.0000 - val_accuracy: 0.0000e+00\n",
            "Epoch 113/200\n",
            "7/7 [==============================] - 0s 18ms/step - loss: 38828680.0000 - accuracy: 0.0000e+00 - val_loss: 57822884.0000 - val_accuracy: 0.0000e+00\n",
            "Epoch 114/200\n",
            "7/7 [==============================] - 0s 18ms/step - loss: 38658976.0000 - accuracy: 0.0000e+00 - val_loss: 58995524.0000 - val_accuracy: 0.0000e+00\n",
            "Epoch 115/200\n",
            "7/7 [==============================] - 0s 19ms/step - loss: 38371744.0000 - accuracy: 0.0000e+00 - val_loss: 59005196.0000 - val_accuracy: 0.0000e+00\n",
            "--------------------------------------------------------\n",
            "model saved.\n"
          ]
        },
        {
          "output_type": "stream",
          "name": "stderr",
          "text": [
            "/usr/local/lib/python3.10/dist-packages/keras/src/engine/training.py:3103: UserWarning: You are saving your model as an HDF5 file via `model.save()`. This file format is considered legacy. We recommend using instead the native Keras format, e.g. `model.save('my_model.keras')`.\n",
            "  saving_api.save_model(\n"
          ]
        }
      ]
    },
    {
      "cell_type": "markdown",
      "source": [
        "## predict"
      ],
      "metadata": {
        "id": "hQJtQBsxISQa"
      }
    },
    {
      "cell_type": "code",
      "source": [
        "from google.colab import drive\n",
        "drive.mount(\"/content/Drive\")"
      ],
      "metadata": {
        "colab": {
          "base_uri": "https://localhost:8080/"
        },
        "id": "_nbn4CLgI-I-",
        "outputId": "111e1e58-1c84-4d59-f1a6-ca8de1fa906f"
      },
      "execution_count": 22,
      "outputs": [
        {
          "output_type": "stream",
          "name": "stdout",
          "text": [
            "Drive already mounted at /content/Drive; to attempt to forcibly remount, call drive.mount(\"/content/Drive\", force_remount=True).\n"
          ]
        }
      ]
    },
    {
      "cell_type": "code",
      "source": [
        "# loadding prime table\n",
        "primeTable = pd.read_csv(\"/content/Drive/MyDrive/實驗/goldbach/csv/prime_table_5000000.csv\")\n",
        "primeTableNumber = primeTable[\"primes\"].values\n",
        "print (\"---loading primes table---\")"
      ],
      "metadata": {
        "colab": {
          "base_uri": "https://localhost:8080/"
        },
        "id": "0c8mDF4dJ9YC",
        "outputId": "dc9c5179-583c-40a3-b3e9-e218fce7bc55"
      },
      "execution_count": 34,
      "outputs": [
        {
          "output_type": "stream",
          "name": "stdout",
          "text": [
            "---loading primes table---\n"
          ]
        }
      ]
    },
    {
      "cell_type": "code",
      "source": [
        "## load data\n",
        "#predict\n",
        "\n",
        "from tensorflow.keras.models import load_model\n",
        "import csv\n",
        "import pandas as pd\n",
        "import numpy as np\n",
        "\n",
        "# 指定 HDF5 模型文件的路徑\n",
        "modelPath = '/content/csv/goldbach_model_0709_kim.h5'\n",
        "\n",
        "# 使用 load_model\n",
        "model = load_model(modelPath)\n",
        "\n",
        "# load test_set and prime data\n",
        "testDataPath = '/content/Drive/MyDrive/實驗/goldbach/csv/traindata_min_size_400000.csv'\n",
        "testData = pd.read_csv(testDataPath)\n",
        "testDataNumbers = testData['Number'].values\n",
        "testDataLabel = testData['Factors'].values\n",
        "\n",
        "print(\"---loading test data done.---\")"
      ],
      "metadata": {
        "colab": {
          "base_uri": "https://localhost:8080/"
        },
        "id": "LHHJ3UKUI4Kd",
        "outputId": "7d6fee29-b8c7-4eae-9c7e-cc461f34ce4c"
      },
      "execution_count": 35,
      "outputs": [
        {
          "output_type": "stream",
          "name": "stdout",
          "text": [
            "---loading test data done.---\n"
          ]
        }
      ]
    },
    {
      "cell_type": "code",
      "source": [
        "# shuffle training data\n",
        "shuffleIndices = np.random.permutation(len(testDataNumbers))\n",
        "shuffledNumbers = testDataNumbers[shuffleIndices]\n",
        "shuffledLabel = testDataLabel[shuffleIndices]"
      ],
      "metadata": {
        "id": "DdLMugz5KeQJ"
      },
      "execution_count": 36,
      "outputs": []
    },
    {
      "cell_type": "code",
      "source": [
        "# generate 25 prime table\n",
        "primeTable25 = primeTableNumber[:25]\n",
        "print (primeTable25)"
      ],
      "metadata": {
        "colab": {
          "base_uri": "https://localhost:8080/"
        },
        "id": "P016SagF3Ley",
        "outputId": "cf216599-ea43-492f-cc9f-45aeb8e62cdf"
      },
      "execution_count": 37,
      "outputs": [
        {
          "output_type": "stream",
          "name": "stdout",
          "text": [
            "[ 2  3  5  7 11 13 17 19 23 29 31 37 41 43 47 53 59 61 67 71 73 79 83 89\n",
            " 97]\n"
          ]
        }
      ]
    },
    {
      "cell_type": "code",
      "source": [
        "# collect data\n",
        "# prepare training set\n",
        "mergedTestNumber = []\n",
        "mergedTestLabel = []\n",
        "first25Prime = primeTableNumber[:25]\n",
        "\n",
        "for num in shuffledNumbers:\n",
        "\n",
        "   # Euler's Totient Function Partitions fist 50\n",
        "    mergedTestNumber.append(add_prime(first25Prime, num))\n",
        "\n",
        "for num in shuffledLabel:\n",
        "    mergedTestLabel.append(num)\n",
        "\n",
        "#print (mergedTrainNumber)"
      ],
      "metadata": {
        "id": "w0gtoY8mStjm"
      },
      "execution_count": 38,
      "outputs": []
    },
    {
      "cell_type": "code",
      "source": [
        "mergedArray = np.array(mergedTestNumber)\n",
        "mergedLabel = np.array(mergedTestLabel)"
      ],
      "metadata": {
        "id": "NqG32lBzKND0"
      },
      "execution_count": 39,
      "outputs": []
    },
    {
      "cell_type": "code",
      "source": [
        "evaluation = model.evaluate(mergedArray, mergedLabel)\n",
        "XNewData = testDataNumbers, testDataLabel\n",
        "print (\"Loss:\", evaluation[0])\n",
        "print (\"Accuracy:\", evaluation[1])\n",
        "print (\"##########################\")\n",
        "predictions = model.predict(mergedArray)"
      ],
      "metadata": {
        "colab": {
          "base_uri": "https://localhost:8080/"
        },
        "id": "Jn3qRRzIKwVH",
        "outputId": "61dc37a8-33e5-40ef-9f8a-6f1fe0a9dbe8"
      },
      "execution_count": 40,
      "outputs": [
        {
          "output_type": "stream",
          "name": "stdout",
          "text": [
            "12500/12500 [==============================] - 45s 4ms/step - loss: 54932144.0000 - accuracy: 5.0000e-06\n",
            "Loss: 54932144.0\n",
            "Accuracy: 4.999999873689376e-06\n",
            "##########################\n",
            "12500/12500 [==============================] - 43s 3ms/step\n"
          ]
        }
      ]
    },
    {
      "cell_type": "code",
      "source": [
        "for i in mergedLabel:\n",
        "  print (i)\n"
      ],
      "metadata": {
        "id": "3KMFVZt9patk"
      },
      "execution_count": null,
      "outputs": []
    },
    {
      "cell_type": "code",
      "source": [
        "print (predictions[0][0])\n",
        "pickPredictions = []\n",
        "for item in predictions:\n",
        "  # pickPredictions.append(item[0])\n",
        "  print(item[0])\n"
      ],
      "metadata": {
        "id": "Yzlb-Psxrk-6"
      },
      "execution_count": null,
      "outputs": []
    },
    {
      "cell_type": "code",
      "source": [
        "for i in pickPredictions:\n",
        "  print (i)"
      ],
      "metadata": {
        "id": "MMilT9LmpHes"
      },
      "execution_count": null,
      "outputs": []
    },
    {
      "cell_type": "code",
      "source": [
        "# cal MSE, RMSE, error rate\n",
        "\n",
        "import math\n",
        "\n",
        "rmse = math.sqrt(evaluation[0])\n",
        "testMean = (np.mean(testDataLabel))\n",
        "\n",
        "print (f\"MSE: {evaluation[0]}\")\n",
        "print (f\"RMSE: {rmse}\")\n",
        "print (f\"error rate: {round(rmse/testMean,3)} / ({round(rmse/testMean,3)*100}%)\")"
      ],
      "metadata": {
        "colab": {
          "base_uri": "https://localhost:8080/"
        },
        "id": "cftiPj5wU9lL",
        "outputId": "530f7efc-ebc1-4c3d-e2b6-07413c60c9d7"
      },
      "execution_count": 41,
      "outputs": [
        {
          "output_type": "stream",
          "name": "stdout",
          "text": [
            "MSE: 54932144.0\n",
            "RMSE: 7411.622224587543\n",
            "error rate: 0.688 / (68.8%)\n"
          ]
        }
      ]
    },
    {
      "cell_type": "code",
      "source": [
        "print (f\"測試五十筆資料\")\n",
        "roundPredictions = np.round(predictions)\n",
        "for index, number in enumerate(testDataNumbers):\n",
        "  if index > 50 : break\n",
        "  print (f\"第{index}筆資料為數字:\\t{number}\\t|正確答案為:{testDataLabel[index]}\\t模型預估為{predictions[index]}, 四捨五入到{roundPredictions[index]}\")\n"
      ],
      "metadata": {
        "colab": {
          "base_uri": "https://localhost:8080/"
        },
        "id": "aBJHTke7LvXm",
        "outputId": "42b63b5d-83ed-41f1-e76f-87f4ca2a18f0"
      },
      "execution_count": 31,
      "outputs": [
        {
          "output_type": "stream",
          "name": "stdout",
          "text": [
            "測試五十筆資料\n",
            "第0筆資料為數字:\t2082910\t|正確答案為:10145\t模型預估為[11469.04], 四捨五入到[11469.]\n",
            "第1筆資料為數字:\t2218346\t|正確答案為:8869\t模型預估為[10710.174], 四捨五入到[10710.]\n",
            "第2筆資料為數字:\t2513286\t|正確答案為:17760\t模型預估為[9607.348], 四捨五入到[9607.]\n",
            "第3筆資料為數字:\t2636120\t|正確答案為:12504\t模型預估為[9448.209], 四捨五入到[9448.]\n",
            "第4筆資料為數字:\t1188388\t|正確答案為:4752\t模型預估為[10856.076], 四捨五入到[10856.]\n",
            "第5筆資料為數字:\t3471474\t|正確答案為:24572\t模型預估為[10862.633], 四捨五入到[10863.]\n",
            "第6筆資料為數字:\t917482\t|正確答案為:3775\t模型預估為[13140.481], 四捨五入到[13140.]\n",
            "第7筆資料為數字:\t1152574\t|正確答案為:4611\t模型預估為[6767.2393], 四捨五入到[6767.]\n",
            "第8筆資料為數字:\t2232150\t|正確答案為:22406\t模型預估為[11894.278], 四捨五入到[11894.]\n",
            "第9筆資料為數字:\t2527042\t|正確答案為:10651\t模型預估為[10274.844], 四捨五入到[10275.]\n",
            "第10筆資料為數字:\t3013418\t|正確答案為:10603\t模型預估為[10614.924], 四捨五入到[10615.]\n",
            "第11筆資料為數字:\t2556614\t|正確答案為:9310\t模型預估為[9494.686], 四捨五入到[9495.]\n",
            "第12筆資料為數字:\t962962\t|正確答案為:5849\t模型預估為[13213.182], 四捨五入到[13213.]\n",
            "第13筆資料為數字:\t441812\t|正確答案為:2516\t模型預估為[11659.505], 四捨五入到[11660.]\n",
            "第14筆資料為數字:\t1439516\t|正確答案為:6749\t模型預估為[8870.338], 四捨五入到[8870.]\n",
            "第15筆資料為數字:\t1913274\t|正確答案為:15604\t模型預估為[5642.857], 四捨五入到[5643.]\n",
            "第16筆資料為數字:\t94800\t|正確答案為:1583\t模型預估為[9329.321], 四捨五入到[9329.]\n",
            "第17筆資料為數字:\t3664380\t|正確答案為:32778\t模型預估為[9609.2], 四捨五入到[9609.]\n",
            "第18筆資料為數字:\t1686962\t|正確答案為:6381\t模型預估為[13815.346], 四捨五入到[13815.]\n",
            "第19筆資料為數字:\t3976788\t|正確答案為:26201\t模型預估為[11584.859], 四捨五入到[11585.]\n",
            "第20筆資料為數字:\t3264744\t|正確答案為:26790\t模型預估為[11962.221], 四捨五入到[11962.]\n",
            "第21筆資料為數字:\t344218\t|正確答案為:2108\t模型預估為[10800.496], 四捨五入到[10800.]\n",
            "第22筆資料為數字:\t2127692\t|正確答案為:9146\t模型預估為[11351.919], 四捨五入到[11352.]\n",
            "第23筆資料為數字:\t1566588\t|正確答案為:12547\t模型預估為[12378.1875], 四捨五入到[12378.]\n",
            "第24筆資料為數字:\t824636\t|正確答案為:3789\t模型預估為[10783.224], 四捨五入到[10783.]\n",
            "第25筆資料為數字:\t1154162\t|正確答案為:4569\t模型預估為[9524.495], 四捨五入到[9524.]\n",
            "第26筆資料為數字:\t2513000\t|正確答案為:14199\t模型預估為[12542.201], 四捨五入到[12542.]\n",
            "第27筆資料為數字:\t448994\t|正確答案為:2703\t模型預估為[12012.076], 四捨五入到[12012.]\n",
            "第28筆資料為數字:\t988330\t|正確答案為:6469\t模型預估為[10944.387], 四捨五入到[10944.]\n",
            "第29筆資料為數字:\t470366\t|正確答案為:2353\t模型預估為[10595.227], 四捨五入到[10595.]\n",
            "第30筆資料為數字:\t187236\t|正確答案為:2419\t模型預估為[8777.582], 四捨五入到[8778.]\n",
            "第31筆資料為數字:\t3466640\t|正確答案為:16602\t模型預估為[9523.387], 四捨五入到[9523.]\n",
            "第32筆資料為數字:\t2764110\t|正確答案為:25850\t模型預估為[10391.307], 四捨五入到[10391.]\n",
            "第33筆資料為數字:\t2346486\t|正確答案為:16871\t模型預估為[11352.859], 四捨五入到[11353.]\n",
            "第34筆資料為數字:\t3516624\t|正確答案為:23683\t模型預估為[12022.508], 四捨五入到[12023.]\n",
            "第35筆資料為數字:\t1484940\t|正確答案為:15072\t模型預估為[10132.191], 四捨五入到[10132.]\n",
            "第36筆資料為數字:\t892018\t|正確答案為:3675\t模型預估為[11151.998], 四捨五入到[11152.]\n",
            "第37筆資料為數字:\t836062\t|正確答案為:3548\t模型預估為[12830.775], 四捨五入到[12831.]\n",
            "第38筆資料為數字:\t3419704\t|正確答案為:11875\t模型預估為[9607.867], 四捨五入到[9608.]\n",
            "第39筆資料為數字:\t895536\t|正確答案為:7374\t模型預估為[10841.065], 四捨五入到[10841.]\n",
            "第40筆資料為數字:\t1588688\t|正確答案為:6133\t模型預估為[10554.805], 四捨五入到[10555.]\n",
            "第41筆資料為數字:\t2342376\t|正確答案為:16663\t模型預估為[13044.167], 四捨五入到[13044.]\n",
            "第42筆資料為數字:\t1792588\t|正確答案為:8078\t模型預估為[14254.787], 四捨五入到[14255.]\n",
            "第43筆資料為數字:\t605130\t|正確答案為:7335\t模型預估為[8675.381], 四捨五入到[8675.]\n",
            "第44筆資料為數字:\t862672\t|正確答案為:3616\t模型預估為[11017.33], 四捨五入到[11017.]\n",
            "第45筆資料為數字:\t316352\t|正確答案為:1536\t模型預估為[11784.898], 四捨五入到[11785.]\n",
            "第46筆資料為數字:\t2955942\t|正確答案為:22535\t模型預估為[11647.433], 四捨五入到[11647.]\n",
            "第47筆資料為數字:\t1472196\t|正確答案為:13285\t模型預估為[13450.865], 四捨五入到[13451.]\n",
            "第48筆資料為數字:\t471712\t|正確答案為:2166\t模型預估為[11555.956], 四捨五入到[11556.]\n",
            "第49筆資料為數字:\t1068278\t|正確答案為:4290\t模型預估為[11762.834], 四捨五入到[11763.]\n",
            "第50筆資料為數字:\t997968\t|正確答案為:8586\t模型預估為[11163.808], 四捨五入到[11164.]\n"
          ]
        }
      ]
    },
    {
      "cell_type": "code",
      "source": [
        "print (\"\\t正確答案  \"  , \"\\t/\" ,\"  \\t模型預測\")\n",
        "for index, number in enumerate(testDataNumbers):\n",
        "  print (f\"{index}\\t{testDataLabel[index]}  \\t\\t/  \\t{roundPredictions[index]} = {testDataLabel[index]/roundPredictions[index]} \")\n",
        "print (\"###########################################################################\")\n",
        "\n",
        "print (\"\\t正確答案  \"  , \"\\t-\" ,\"  \\t模型預測\")\n",
        "for index, number in enumerate(testDataNumbers):\n",
        "  print (f\"{index}\\t{testDataLabel[index]}  \\t\\t-  \\t{roundPredictions[index]} = {testDataLabel[index]-roundPredictions[index]} \")"
      ],
      "metadata": {
        "colab": {
          "base_uri": "https://localhost:8080/"
        },
        "id": "U88QnsT5L0ol",
        "outputId": "ced30036-3f92-4519-e530-672f46a885be"
      },
      "execution_count": null,
      "outputs": [
        {
          "output_type": "stream",
          "name": "stdout",
          "text": [
            "\t正確答案   \t/   \t模型預測\n",
            "0\t16566  \t\t/  \t[7230.] = [2.2912862] \n",
            "1\t31717  \t\t/  \t[7230.] = [4.3868604] \n",
            "2\t14594  \t\t/  \t[7920.] = [1.8426768] \n",
            "3\t14832  \t\t/  \t[7497.] = [1.9783914] \n",
            "4\t15673  \t\t/  \t[7230.] = [2.1677732] \n",
            "5\t16346  \t\t/  \t[8400.] = [1.9459524] \n",
            "6\t13108  \t\t/  \t[16679.] = [0.78589845] \n",
            "7\t18098  \t\t/  \t[7230.] = [2.5031812] \n",
            "8\t31284  \t\t/  \t[13948.] = [2.2429023] \n",
            "9\t42050  \t\t/  \t[13948.] = [3.014769] \n",
            "10\t15623  \t\t/  \t[19052.] = [0.8200189] \n",
            "11\t15886  \t\t/  \t[15414.] = [1.0306215] \n",
            "12\t28364  \t\t/  \t[8657.] = [3.2764237] \n",
            "13\t14047  \t\t/  \t[13948.] = [1.0070978] \n",
            "14\t14997  \t\t/  \t[7230.] = [2.0742738] \n",
            "15\t22961  \t\t/  \t[10404.] = [2.2069397] \n",
            "16\t16070  \t\t/  \t[7230.] = [2.2226832] \n",
            "17\t13302  \t\t/  \t[8968.] = [1.4832739] \n",
            "18\t13996  \t\t/  \t[8657.] = [1.6167264] \n",
            "19\t15871  \t\t/  \t[13948.] = [1.1378692] \n",
            "20\t15845  \t\t/  \t[13948.] = [1.1360052] \n",
            "21\t32717  \t\t/  \t[15249.] = [2.1455178] \n",
            "22\t31204  \t\t/  \t[7343.] = [4.2494893] \n",
            "23\t19410  \t\t/  \t[9523.] = [2.0382233] \n",
            "24\t30918  \t\t/  \t[15263.] = [2.025683] \n",
            "25\t23276  \t\t/  \t[8872.] = [2.6235347] \n",
            "26\t15798  \t\t/  \t[7230.] = [2.1850622] \n",
            "27\t31307  \t\t/  \t[14714.] = [2.1277015] \n",
            "28\t20215  \t\t/  \t[10545.] = [1.9170222] \n",
            "29\t17037  \t\t/  \t[7230.] = [2.3564315] \n",
            "30\t26490  \t\t/  \t[7711.] = [3.435352] \n",
            "31\t14456  \t\t/  \t[7784.] = [1.8571428] \n",
            "32\t17861  \t\t/  \t[8657.] = [2.063186] \n",
            "33\t17657  \t\t/  \t[8968.] = [1.9688894] \n",
            "34\t15340  \t\t/  \t[9523.] = [1.6108369] \n",
            "35\t18648  \t\t/  \t[8657.] = [2.154095] \n",
            "36\t16372  \t\t/  \t[7493.] = [2.1849725] \n",
            "37\t34817  \t\t/  \t[13948.] = [2.4962] \n",
            "38\t13763  \t\t/  \t[13948.] = [0.9867365] \n",
            "39\t34670  \t\t/  \t[7920.] = [4.3775253] \n",
            "40\t19071  \t\t/  \t[13948.] = [1.3672928] \n",
            "41\t29963  \t\t/  \t[9523.] = [3.1463823] \n",
            "42\t15154  \t\t/  \t[9523.] = [1.5913053] \n",
            "43\t30274  \t\t/  \t[7230.] = [4.1872754] \n",
            "44\t28296  \t\t/  \t[8657.] = [3.2685688] \n",
            "45\t14357  \t\t/  \t[7230.] = [1.9857538] \n",
            "46\t14977  \t\t/  \t[17332.] = [0.8641242] \n",
            "47\t18535  \t\t/  \t[7230.] = [2.563624] \n",
            "48\t27127  \t\t/  \t[7230.] = [3.7520056] \n",
            "49\t20936  \t\t/  \t[8124.] = [2.5770557] \n",
            "###########################################################################\n",
            "\t正確答案   \t-   \t模型預測\n",
            "0\t16566  \t\t-  \t[7230.] = [9336.] \n",
            "1\t31717  \t\t-  \t[7230.] = [24487.] \n",
            "2\t14594  \t\t-  \t[7920.] = [6674.] \n",
            "3\t14832  \t\t-  \t[7497.] = [7335.] \n",
            "4\t15673  \t\t-  \t[7230.] = [8443.] \n",
            "5\t16346  \t\t-  \t[8400.] = [7946.] \n",
            "6\t13108  \t\t-  \t[16679.] = [-3571.] \n",
            "7\t18098  \t\t-  \t[7230.] = [10868.] \n",
            "8\t31284  \t\t-  \t[13948.] = [17336.] \n",
            "9\t42050  \t\t-  \t[13948.] = [28102.] \n",
            "10\t15623  \t\t-  \t[19052.] = [-3429.] \n",
            "11\t15886  \t\t-  \t[15414.] = [472.] \n",
            "12\t28364  \t\t-  \t[8657.] = [19707.] \n",
            "13\t14047  \t\t-  \t[13948.] = [99.] \n",
            "14\t14997  \t\t-  \t[7230.] = [7767.] \n",
            "15\t22961  \t\t-  \t[10404.] = [12557.] \n",
            "16\t16070  \t\t-  \t[7230.] = [8840.] \n",
            "17\t13302  \t\t-  \t[8968.] = [4334.] \n",
            "18\t13996  \t\t-  \t[8657.] = [5339.] \n",
            "19\t15871  \t\t-  \t[13948.] = [1923.] \n",
            "20\t15845  \t\t-  \t[13948.] = [1897.] \n",
            "21\t32717  \t\t-  \t[15249.] = [17468.] \n",
            "22\t31204  \t\t-  \t[7343.] = [23861.] \n",
            "23\t19410  \t\t-  \t[9523.] = [9887.] \n",
            "24\t30918  \t\t-  \t[15263.] = [15655.] \n",
            "25\t23276  \t\t-  \t[8872.] = [14404.] \n",
            "26\t15798  \t\t-  \t[7230.] = [8568.] \n",
            "27\t31307  \t\t-  \t[14714.] = [16593.] \n",
            "28\t20215  \t\t-  \t[10545.] = [9670.] \n",
            "29\t17037  \t\t-  \t[7230.] = [9807.] \n",
            "30\t26490  \t\t-  \t[7711.] = [18779.] \n",
            "31\t14456  \t\t-  \t[7784.] = [6672.] \n",
            "32\t17861  \t\t-  \t[8657.] = [9204.] \n",
            "33\t17657  \t\t-  \t[8968.] = [8689.] \n",
            "34\t15340  \t\t-  \t[9523.] = [5817.] \n",
            "35\t18648  \t\t-  \t[8657.] = [9991.] \n",
            "36\t16372  \t\t-  \t[7493.] = [8879.] \n",
            "37\t34817  \t\t-  \t[13948.] = [20869.] \n",
            "38\t13763  \t\t-  \t[13948.] = [-185.] \n",
            "39\t34670  \t\t-  \t[7920.] = [26750.] \n",
            "40\t19071  \t\t-  \t[13948.] = [5123.] \n",
            "41\t29963  \t\t-  \t[9523.] = [20440.] \n",
            "42\t15154  \t\t-  \t[9523.] = [5631.] \n",
            "43\t30274  \t\t-  \t[7230.] = [23044.] \n",
            "44\t28296  \t\t-  \t[8657.] = [19639.] \n",
            "45\t14357  \t\t-  \t[7230.] = [7127.] \n",
            "46\t14977  \t\t-  \t[17332.] = [-2355.] \n",
            "47\t18535  \t\t-  \t[7230.] = [11305.] \n",
            "48\t27127  \t\t-  \t[7230.] = [19897.] \n",
            "49\t20936  \t\t-  \t[8124.] = [12812.] \n"
          ]
        }
      ]
    },
    {
      "cell_type": "code",
      "source": [
        "print (\"模型預測差距\")\n",
        "for index, number in enumerate(testDataNumbers):\n",
        "  print (int(testDataLabel[index]-roundPredictions[index]))"
      ],
      "metadata": {
        "id": "48aQwcS1L_Di",
        "colab": {
          "base_uri": "https://localhost:8080/"
        },
        "outputId": "09e3c6b0-cea3-4260-a616-1947e1ce4511"
      },
      "execution_count": null,
      "outputs": [
        {
          "output_type": "stream",
          "name": "stdout",
          "text": [
            "模型預測差距\n",
            "9336\n",
            "24487\n",
            "6674\n",
            "7335\n",
            "8443\n",
            "7946\n",
            "-3571\n",
            "10868\n",
            "17336\n",
            "28102\n",
            "-3429\n",
            "472\n",
            "19707\n",
            "99\n",
            "7767\n",
            "12557\n",
            "8840\n",
            "4334\n",
            "5339\n",
            "1923\n",
            "1897\n",
            "17468\n",
            "23861\n",
            "9887\n",
            "15655\n",
            "14404\n",
            "8568\n",
            "16593\n",
            "9670\n",
            "9807\n",
            "18779\n",
            "6672\n",
            "9204\n",
            "8689\n",
            "5817\n",
            "9991\n",
            "8879\n",
            "20869\n",
            "-185\n",
            "26750\n",
            "5123\n",
            "20440\n",
            "5631\n",
            "23044\n",
            "19639\n",
            "7127\n",
            "-2355\n",
            "11305\n",
            "19897\n",
            "12812\n"
          ]
        }
      ]
    },
    {
      "cell_type": "code",
      "source": [
        "print (\"模型預測\")\n",
        "for index, number in enumerate(testDataNumbers):\n",
        "  print (int(roundPredictions[index]))"
      ],
      "metadata": {
        "id": "JqxlmzVbuYrJ",
        "colab": {
          "base_uri": "https://localhost:8080/"
        },
        "outputId": "802b57f1-4c9c-48fd-f0b2-e5a11e7dff13"
      },
      "execution_count": null,
      "outputs": [
        {
          "output_type": "stream",
          "name": "stdout",
          "text": [
            "模型預測\n",
            "7230\n",
            "7230\n",
            "7920\n",
            "7497\n",
            "7230\n",
            "8400\n",
            "16679\n",
            "7230\n",
            "13948\n",
            "13948\n",
            "19052\n",
            "15414\n",
            "8657\n",
            "13948\n",
            "7230\n",
            "10404\n",
            "7230\n",
            "8968\n",
            "8657\n",
            "13948\n",
            "13948\n",
            "15249\n",
            "7343\n",
            "9523\n",
            "15263\n",
            "8872\n",
            "7230\n",
            "14714\n",
            "10545\n",
            "7230\n",
            "7711\n",
            "7784\n",
            "8657\n",
            "8968\n",
            "9523\n",
            "8657\n",
            "7493\n",
            "13948\n",
            "13948\n",
            "7920\n",
            "13948\n",
            "9523\n",
            "9523\n",
            "7230\n",
            "8657\n",
            "7230\n",
            "17332\n",
            "7230\n",
            "7230\n",
            "8124\n"
          ]
        }
      ]
    },
    {
      "cell_type": "code",
      "source": [],
      "metadata": {
        "id": "GlUSkPpvXC6_"
      },
      "execution_count": null,
      "outputs": []
    }
  ]
}