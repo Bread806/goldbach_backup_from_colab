{
  "nbformat": 4,
  "nbformat_minor": 0,
  "metadata": {
    "colab": {
      "provenance": [],
      "authorship_tag": "ABX9TyMeePiELaekt7kZcvn8VwY/",
      "include_colab_link": true
    },
    "kernelspec": {
      "name": "python3",
      "display_name": "Python 3"
    },
    "language_info": {
      "name": "python"
    }
  },
  "cells": [
    {
      "cell_type": "markdown",
      "metadata": {
        "id": "view-in-github",
        "colab_type": "text"
      },
      "source": [
        "<a href=\"https://colab.research.google.com/github/Bread806/goldbach_backup_from_colab/blob/main/goldbach_1028_MLP_base2357.ipynb\" target=\"_parent\"><img src=\"https://colab.research.google.com/assets/colab-badge.svg\" alt=\"Open In Colab\"/></a>"
      ]
    },
    {
      "cell_type": "code",
      "source": [
        "from google.colab import drive\n",
        "drive.mount(\"/content/Drive\")"
      ],
      "metadata": {
        "colab": {
          "base_uri": "https://localhost:8080/"
        },
        "id": "P9qnR_PN5EFK",
        "outputId": "5cabc80d-48ef-40a4-8fb3-969dd137282f"
      },
      "execution_count": null,
      "outputs": [
        {
          "output_type": "stream",
          "name": "stdout",
          "text": [
            "Mounted at /content/Drive\n"
          ]
        }
      ]
    },
    {
      "cell_type": "code",
      "source": [
        "from tensorflow.keras.layers.experimental.preprocessing import TextVectorization\n",
        "from tensorflow.keras.layers import Embedding, Dense\n",
        "from tensorflow.keras.optimizers import Adam\n",
        "from tensorflow.keras import backend as keras\n",
        "from sklearn.model_selection import train_test_split\n",
        "from tensorflow.keras.utils import to_categorical\n",
        "from tensorflow.keras.layers import Dense, Flatten\n",
        "from tensorflow.keras.models import Sequential\n",
        "import pandas as pd\n",
        "import numpy as np\n",
        "import tensorflow as tf\n",
        "from sklearn.preprocessing import StandardScaler\n",
        "\n",
        "\n",
        "def is_prime(num):\n",
        "    \"\"\"檢查一個數字是否為質數\"\"\"\n",
        "    if num <= 1:\n",
        "        return False\n",
        "    for i in range(2, int(num ** 0.5) + 1):\n",
        "        if num % i == 0:\n",
        "            return False\n",
        "    return True\n",
        "\n",
        "\n",
        "def prime_table(x):\n",
        "    \"\"\"建立小於x的質數表\"\"\"\n",
        "    primes = [num for num in range(2, x) if is_prime(num)]\n",
        "    return primes\n",
        "\n",
        "\n",
        "def convert_base_into_list(number, base, width=10):\n",
        "    result = []  # init list\n",
        "\n",
        "    for i in range(width):\n",
        "        result.append([number % base])\n",
        "        number = number // base\n",
        "    result = result[::-1]\n",
        "    return result\n",
        "\n",
        "\n",
        "def prime_to_index(primeSize, primes, number):\n",
        "    for index in range(primeSize):\n",
        "        if number == primes[index]:\n",
        "            return index\n",
        "    return -1"
      ],
      "metadata": {
        "id": "DxVObRdp_GSP"
      },
      "execution_count": null,
      "outputs": []
    },
    {
      "cell_type": "code",
      "execution_count": null,
      "metadata": {
        "colab": {
          "base_uri": "https://localhost:8080/",
          "height": 1000
        },
        "id": "BaEH2nRv1EY2",
        "outputId": "95f09efb-7a34-4e8d-8b02-65cd66091c0c"
      },
      "outputs": [
        {
          "output_type": "stream",
          "name": "stdout",
          "text": [
            "---loading data---\n",
            "---loading data done.---\n",
            "--- gpu /device:GPU:0 is loaded. ---\n",
            "Model: \"sequential\"\n",
            "_________________________________________________________________\n",
            " Layer (type)                Output Shape              Param #   \n",
            "=================================================================\n",
            " dense (Dense)               (None, 40)                1640      \n",
            "                                                                 \n",
            " dense_1 (Dense)             (None, 200)               8200      \n",
            "                                                                 \n",
            " dense_2 (Dense)             (None, 200)               40200     \n",
            "                                                                 \n",
            " dense_3 (Dense)             (None, 200)               40200     \n",
            "                                                                 \n",
            " dense_4 (Dense)             (None, 200)               40200     \n",
            "                                                                 \n",
            " dense_5 (Dense)             (None, 1)                 201       \n",
            "                                                                 \n",
            "=================================================================\n",
            "Total params: 130641 (510.32 KB)\n",
            "Trainable params: 130641 (510.32 KB)\n",
            "Non-trainable params: 0 (0.00 Byte)\n",
            "_________________________________________________________________\n",
            "None\n",
            "---starting training---\n",
            "Epoch 1/200\n",
            "1/1 [==============================] - 1s 1s/step - loss: 163610608.0000 - accuracy: 0.0000e+00 - val_loss: 200660192.0000 - val_accuracy: 0.0000e+00\n",
            "Epoch 2/200\n",
            "1/1 [==============================] - 0s 54ms/step - loss: 163587392.0000 - accuracy: 0.0000e+00 - val_loss: 200634752.0000 - val_accuracy: 0.0000e+00\n",
            "Epoch 3/200\n",
            "1/1 [==============================] - 0s 58ms/step - loss: 163564128.0000 - accuracy: 0.0000e+00 - val_loss: 200605632.0000 - val_accuracy: 0.0000e+00\n",
            "Epoch 4/200\n",
            "1/1 [==============================] - 0s 55ms/step - loss: 163537472.0000 - accuracy: 0.0000e+00 - val_loss: 200569488.0000 - val_accuracy: 0.0000e+00\n",
            "Epoch 5/200\n",
            "1/1 [==============================] - 0s 54ms/step - loss: 163504400.0000 - accuracy: 0.0000e+00 - val_loss: 200523488.0000 - val_accuracy: 0.0000e+00\n",
            "Epoch 6/200\n",
            "1/1 [==============================] - 0s 122ms/step - loss: 163462368.0000 - accuracy: 0.0000e+00 - val_loss: 200464144.0000 - val_accuracy: 0.0000e+00\n",
            "Epoch 7/200\n",
            "1/1 [==============================] - 0s 84ms/step - loss: 163408192.0000 - accuracy: 0.0000e+00 - val_loss: 200387168.0000 - val_accuracy: 0.0000e+00\n",
            "Epoch 8/200\n",
            "1/1 [==============================] - 0s 93ms/step - loss: 163337936.0000 - accuracy: 0.0000e+00 - val_loss: 200287008.0000 - val_accuracy: 0.0000e+00\n",
            "Epoch 9/200\n",
            "1/1 [==============================] - 0s 89ms/step - loss: 163246592.0000 - accuracy: 0.0000e+00 - val_loss: 200157248.0000 - val_accuracy: 0.0000e+00\n",
            "Epoch 10/200\n",
            "1/1 [==============================] - 0s 91ms/step - loss: 163128240.0000 - accuracy: 0.0000e+00 - val_loss: 199990848.0000 - val_accuracy: 0.0000e+00\n",
            "Epoch 11/200\n",
            "1/1 [==============================] - 0s 92ms/step - loss: 162976272.0000 - accuracy: 0.0000e+00 - val_loss: 199778960.0000 - val_accuracy: 0.0000e+00\n",
            "Epoch 12/200\n",
            "1/1 [==============================] - 0s 80ms/step - loss: 162782784.0000 - accuracy: 0.0000e+00 - val_loss: 199511424.0000 - val_accuracy: 0.0000e+00\n",
            "Epoch 13/200\n",
            "1/1 [==============================] - 0s 77ms/step - loss: 162538368.0000 - accuracy: 0.0000e+00 - val_loss: 199175168.0000 - val_accuracy: 0.0000e+00\n",
            "Epoch 14/200\n",
            "1/1 [==============================] - 0s 90ms/step - loss: 162231024.0000 - accuracy: 0.0000e+00 - val_loss: 198754592.0000 - val_accuracy: 0.0000e+00\n",
            "Epoch 15/200\n",
            "1/1 [==============================] - 0s 89ms/step - loss: 161846352.0000 - accuracy: 0.0000e+00 - val_loss: 198230992.0000 - val_accuracy: 0.0000e+00\n",
            "Epoch 16/200\n",
            "1/1 [==============================] - 0s 107ms/step - loss: 161367392.0000 - accuracy: 0.0000e+00 - val_loss: 197582256.0000 - val_accuracy: 0.0000e+00\n",
            "Epoch 17/200\n",
            "1/1 [==============================] - 0s 85ms/step - loss: 160773984.0000 - accuracy: 0.0000e+00 - val_loss: 196781648.0000 - val_accuracy: 0.0000e+00\n",
            "Epoch 18/200\n",
            "1/1 [==============================] - 0s 90ms/step - loss: 160041520.0000 - accuracy: 0.0000e+00 - val_loss: 195797824.0000 - val_accuracy: 0.0000e+00\n",
            "Epoch 19/200\n",
            "1/1 [==============================] - 0s 88ms/step - loss: 159141568.0000 - accuracy: 0.0000e+00 - val_loss: 194592480.0000 - val_accuracy: 0.0000e+00\n",
            "Epoch 20/200\n",
            "1/1 [==============================] - 0s 78ms/step - loss: 158039088.0000 - accuracy: 0.0000e+00 - val_loss: 193121328.0000 - val_accuracy: 0.0000e+00\n",
            "Epoch 21/200\n",
            "1/1 [==============================] - 0s 95ms/step - loss: 156693936.0000 - accuracy: 0.0000e+00 - val_loss: 191332720.0000 - val_accuracy: 0.0000e+00\n",
            "Epoch 22/200\n",
            "1/1 [==============================] - 0s 102ms/step - loss: 155059728.0000 - accuracy: 0.0000e+00 - val_loss: 189167712.0000 - val_accuracy: 0.0000e+00\n",
            "Epoch 23/200\n",
            "1/1 [==============================] - 0s 107ms/step - loss: 153082896.0000 - accuracy: 0.0000e+00 - val_loss: 186558224.0000 - val_accuracy: 0.0000e+00\n",
            "Epoch 24/200\n",
            "1/1 [==============================] - 0s 99ms/step - loss: 150702400.0000 - accuracy: 0.0000e+00 - val_loss: 183427312.0000 - val_accuracy: 0.0000e+00\n",
            "Epoch 25/200\n",
            "1/1 [==============================] - 0s 83ms/step - loss: 147849744.0000 - accuracy: 0.0000e+00 - val_loss: 179689760.0000 - val_accuracy: 0.0000e+00\n",
            "Epoch 26/200\n",
            "1/1 [==============================] - 0s 79ms/step - loss: 144449264.0000 - accuracy: 0.0000e+00 - val_loss: 175252528.0000 - val_accuracy: 0.0000e+00\n",
            "Epoch 27/200\n",
            "1/1 [==============================] - 0s 85ms/step - loss: 140417264.0000 - accuracy: 0.0000e+00 - val_loss: 170016496.0000 - val_accuracy: 0.0000e+00\n",
            "Epoch 28/200\n",
            "1/1 [==============================] - 0s 88ms/step - loss: 135666672.0000 - accuracy: 0.0000e+00 - val_loss: 163883136.0000 - val_accuracy: 0.0000e+00\n",
            "Epoch 29/200\n",
            "1/1 [==============================] - 0s 90ms/step - loss: 130111344.0000 - accuracy: 0.0000e+00 - val_loss: 156757008.0000 - val_accuracy: 0.0000e+00\n",
            "Epoch 30/200\n",
            "1/1 [==============================] - 0s 80ms/step - loss: 123671320.0000 - accuracy: 0.0000e+00 - val_loss: 148557168.0000 - val_accuracy: 0.0000e+00\n",
            "Epoch 31/200\n",
            "1/1 [==============================] - ETA: 0s - loss: 116285664.0000 - accuracy: 0.0000e+00"
          ]
        },
        {
          "output_type": "error",
          "ename": "KeyboardInterrupt",
          "evalue": "ignored",
          "traceback": [
            "\u001b[0;31m---------------------------------------------------------------------------\u001b[0m",
            "\u001b[0;31mKeyboardInterrupt\u001b[0m                         Traceback (most recent call last)",
            "\u001b[0;32m<ipython-input-9-defa72532e37>\u001b[0m in \u001b[0;36m<cell line: 99>\u001b[0;34m()\u001b[0m\n\u001b[1;32m    117\u001b[0m     \u001b[0;31m# 训练模型\u001b[0m\u001b[0;34m\u001b[0m\u001b[0;34m\u001b[0m\u001b[0m\n\u001b[1;32m    118\u001b[0m     \u001b[0mprint\u001b[0m\u001b[0;34m(\u001b[0m\u001b[0;34m\"---starting training---\"\u001b[0m\u001b[0;34m)\u001b[0m\u001b[0;34m\u001b[0m\u001b[0;34m\u001b[0m\u001b[0m\n\u001b[0;32m--> 119\u001b[0;31m     \u001b[0mtrainHistory\u001b[0m \u001b[0;34m=\u001b[0m \u001b[0mmodel\u001b[0m\u001b[0;34m.\u001b[0m\u001b[0mfit\u001b[0m\u001b[0;34m(\u001b[0m\u001b[0mX_train\u001b[0m\u001b[0;34m,\u001b[0m \u001b[0my_train\u001b[0m\u001b[0;34m,\u001b[0m \u001b[0mepochs\u001b[0m\u001b[0;34m=\u001b[0m\u001b[0;36m200\u001b[0m\u001b[0;34m,\u001b[0m\u001b[0mbatch_size\u001b[0m\u001b[0;34m=\u001b[0m\u001b[0;36m2048\u001b[0m\u001b[0;34m,\u001b[0m \u001b[0mvalidation_data\u001b[0m\u001b[0;34m=\u001b[0m\u001b[0;34m(\u001b[0m\u001b[0mX_val\u001b[0m\u001b[0;34m,\u001b[0m \u001b[0my_val\u001b[0m\u001b[0;34m)\u001b[0m\u001b[0;34m)\u001b[0m\u001b[0;34m\u001b[0m\u001b[0;34m\u001b[0m\u001b[0m\n\u001b[0m\u001b[1;32m    120\u001b[0m     \u001b[0mprint\u001b[0m\u001b[0;34m(\u001b[0m\u001b[0;34m\"--------------------------------------------------------\"\u001b[0m\u001b[0;34m)\u001b[0m\u001b[0;34m\u001b[0m\u001b[0;34m\u001b[0m\u001b[0m\n\u001b[1;32m    121\u001b[0m \u001b[0;34m\u001b[0m\u001b[0m\n",
            "\u001b[0;32m/usr/local/lib/python3.10/dist-packages/keras/src/utils/traceback_utils.py\u001b[0m in \u001b[0;36merror_handler\u001b[0;34m(*args, **kwargs)\u001b[0m\n\u001b[1;32m     63\u001b[0m         \u001b[0mfiltered_tb\u001b[0m \u001b[0;34m=\u001b[0m \u001b[0;32mNone\u001b[0m\u001b[0;34m\u001b[0m\u001b[0;34m\u001b[0m\u001b[0m\n\u001b[1;32m     64\u001b[0m         \u001b[0;32mtry\u001b[0m\u001b[0;34m:\u001b[0m\u001b[0;34m\u001b[0m\u001b[0;34m\u001b[0m\u001b[0m\n\u001b[0;32m---> 65\u001b[0;31m             \u001b[0;32mreturn\u001b[0m \u001b[0mfn\u001b[0m\u001b[0;34m(\u001b[0m\u001b[0;34m*\u001b[0m\u001b[0margs\u001b[0m\u001b[0;34m,\u001b[0m \u001b[0;34m**\u001b[0m\u001b[0mkwargs\u001b[0m\u001b[0;34m)\u001b[0m\u001b[0;34m\u001b[0m\u001b[0;34m\u001b[0m\u001b[0m\n\u001b[0m\u001b[1;32m     66\u001b[0m         \u001b[0;32mexcept\u001b[0m \u001b[0mException\u001b[0m \u001b[0;32mas\u001b[0m \u001b[0me\u001b[0m\u001b[0;34m:\u001b[0m\u001b[0;34m\u001b[0m\u001b[0;34m\u001b[0m\u001b[0m\n\u001b[1;32m     67\u001b[0m             \u001b[0mfiltered_tb\u001b[0m \u001b[0;34m=\u001b[0m \u001b[0m_process_traceback_frames\u001b[0m\u001b[0;34m(\u001b[0m\u001b[0me\u001b[0m\u001b[0;34m.\u001b[0m\u001b[0m__traceback__\u001b[0m\u001b[0;34m)\u001b[0m\u001b[0;34m\u001b[0m\u001b[0;34m\u001b[0m\u001b[0m\n",
            "\u001b[0;32m/usr/local/lib/python3.10/dist-packages/keras/src/engine/training.py\u001b[0m in \u001b[0;36mfit\u001b[0;34m(self, x, y, batch_size, epochs, verbose, callbacks, validation_split, validation_data, shuffle, class_weight, sample_weight, initial_epoch, steps_per_epoch, validation_steps, validation_batch_size, validation_freq, max_queue_size, workers, use_multiprocessing)\u001b[0m\n\u001b[1;32m   1830\u001b[0m                             \u001b[0mpss_evaluation_shards\u001b[0m\u001b[0;34m=\u001b[0m\u001b[0mself\u001b[0m\u001b[0;34m.\u001b[0m\u001b[0m_pss_evaluation_shards\u001b[0m\u001b[0;34m,\u001b[0m\u001b[0;34m\u001b[0m\u001b[0;34m\u001b[0m\u001b[0m\n\u001b[1;32m   1831\u001b[0m                         )\n\u001b[0;32m-> 1832\u001b[0;31m                     val_logs = self.evaluate(\n\u001b[0m\u001b[1;32m   1833\u001b[0m                         \u001b[0mx\u001b[0m\u001b[0;34m=\u001b[0m\u001b[0mval_x\u001b[0m\u001b[0;34m,\u001b[0m\u001b[0;34m\u001b[0m\u001b[0;34m\u001b[0m\u001b[0m\n\u001b[1;32m   1834\u001b[0m                         \u001b[0my\u001b[0m\u001b[0;34m=\u001b[0m\u001b[0mval_y\u001b[0m\u001b[0;34m,\u001b[0m\u001b[0;34m\u001b[0m\u001b[0;34m\u001b[0m\u001b[0m\n",
            "\u001b[0;32m/usr/local/lib/python3.10/dist-packages/keras/src/utils/traceback_utils.py\u001b[0m in \u001b[0;36merror_handler\u001b[0;34m(*args, **kwargs)\u001b[0m\n\u001b[1;32m     63\u001b[0m         \u001b[0mfiltered_tb\u001b[0m \u001b[0;34m=\u001b[0m \u001b[0;32mNone\u001b[0m\u001b[0;34m\u001b[0m\u001b[0;34m\u001b[0m\u001b[0m\n\u001b[1;32m     64\u001b[0m         \u001b[0;32mtry\u001b[0m\u001b[0;34m:\u001b[0m\u001b[0;34m\u001b[0m\u001b[0;34m\u001b[0m\u001b[0m\n\u001b[0;32m---> 65\u001b[0;31m             \u001b[0;32mreturn\u001b[0m \u001b[0mfn\u001b[0m\u001b[0;34m(\u001b[0m\u001b[0;34m*\u001b[0m\u001b[0margs\u001b[0m\u001b[0;34m,\u001b[0m \u001b[0;34m**\u001b[0m\u001b[0mkwargs\u001b[0m\u001b[0;34m)\u001b[0m\u001b[0;34m\u001b[0m\u001b[0;34m\u001b[0m\u001b[0m\n\u001b[0m\u001b[1;32m     66\u001b[0m         \u001b[0;32mexcept\u001b[0m \u001b[0mException\u001b[0m \u001b[0;32mas\u001b[0m \u001b[0me\u001b[0m\u001b[0;34m:\u001b[0m\u001b[0;34m\u001b[0m\u001b[0;34m\u001b[0m\u001b[0m\n\u001b[1;32m     67\u001b[0m             \u001b[0mfiltered_tb\u001b[0m \u001b[0;34m=\u001b[0m \u001b[0m_process_traceback_frames\u001b[0m\u001b[0;34m(\u001b[0m\u001b[0me\u001b[0m\u001b[0;34m.\u001b[0m\u001b[0m__traceback__\u001b[0m\u001b[0;34m)\u001b[0m\u001b[0;34m\u001b[0m\u001b[0;34m\u001b[0m\u001b[0m\n",
            "\u001b[0;32m/usr/local/lib/python3.10/dist-packages/keras/src/engine/training.py\u001b[0m in \u001b[0;36mevaluate\u001b[0;34m(self, x, y, batch_size, verbose, sample_weight, steps, callbacks, max_queue_size, workers, use_multiprocessing, return_dict, **kwargs)\u001b[0m\n\u001b[1;32m   2259\u001b[0m             \u001b[0;32mif\u001b[0m \u001b[0mself\u001b[0m\u001b[0;34m.\u001b[0m\u001b[0menable_tune_steps_per_execution\u001b[0m\u001b[0;34m:\u001b[0m\u001b[0;34m\u001b[0m\u001b[0;34m\u001b[0m\u001b[0m\n\u001b[1;32m   2260\u001b[0m                 \u001b[0mself\u001b[0m\u001b[0;34m.\u001b[0m\u001b[0m_steps_per_execution_tuner\u001b[0m\u001b[0;34m.\u001b[0m\u001b[0mstart\u001b[0m\u001b[0;34m(\u001b[0m\u001b[0;34m)\u001b[0m\u001b[0;34m\u001b[0m\u001b[0;34m\u001b[0m\u001b[0m\n\u001b[0;32m-> 2261\u001b[0;31m             for (\n\u001b[0m\u001b[1;32m   2262\u001b[0m                 \u001b[0m_\u001b[0m\u001b[0;34m,\u001b[0m\u001b[0;34m\u001b[0m\u001b[0;34m\u001b[0m\u001b[0m\n\u001b[1;32m   2263\u001b[0m                 \u001b[0mdataset_or_iterator\u001b[0m\u001b[0;34m,\u001b[0m\u001b[0;34m\u001b[0m\u001b[0;34m\u001b[0m\u001b[0m\n",
            "\u001b[0;32m/usr/local/lib/python3.10/dist-packages/keras/src/engine/data_adapter.py\u001b[0m in \u001b[0;36menumerate_epochs\u001b[0;34m(self)\u001b[0m\n\u001b[1;32m   1339\u001b[0m         \u001b[0;34m\"\"\"Yields `(epoch, tf.data.Iterator)`.\"\"\"\u001b[0m\u001b[0;34m\u001b[0m\u001b[0;34m\u001b[0m\u001b[0m\n\u001b[1;32m   1340\u001b[0m         \u001b[0;32mwith\u001b[0m \u001b[0mself\u001b[0m\u001b[0;34m.\u001b[0m\u001b[0m_truncate_execution_to_epoch\u001b[0m\u001b[0;34m(\u001b[0m\u001b[0;34m)\u001b[0m\u001b[0;34m:\u001b[0m\u001b[0;34m\u001b[0m\u001b[0;34m\u001b[0m\u001b[0m\n\u001b[0;32m-> 1341\u001b[0;31m             \u001b[0mdata_iterator\u001b[0m \u001b[0;34m=\u001b[0m \u001b[0miter\u001b[0m\u001b[0;34m(\u001b[0m\u001b[0mself\u001b[0m\u001b[0;34m.\u001b[0m\u001b[0m_dataset\u001b[0m\u001b[0;34m)\u001b[0m\u001b[0;34m\u001b[0m\u001b[0;34m\u001b[0m\u001b[0m\n\u001b[0m\u001b[1;32m   1342\u001b[0m             \u001b[0;32mfor\u001b[0m \u001b[0mepoch\u001b[0m \u001b[0;32min\u001b[0m \u001b[0mrange\u001b[0m\u001b[0;34m(\u001b[0m\u001b[0mself\u001b[0m\u001b[0;34m.\u001b[0m\u001b[0m_initial_epoch\u001b[0m\u001b[0;34m,\u001b[0m \u001b[0mself\u001b[0m\u001b[0;34m.\u001b[0m\u001b[0m_epochs\u001b[0m\u001b[0;34m)\u001b[0m\u001b[0;34m:\u001b[0m\u001b[0;34m\u001b[0m\u001b[0;34m\u001b[0m\u001b[0m\n\u001b[1;32m   1343\u001b[0m                 \u001b[0;32mif\u001b[0m \u001b[0mself\u001b[0m\u001b[0;34m.\u001b[0m\u001b[0m_insufficient_data\u001b[0m\u001b[0;34m:\u001b[0m  \u001b[0;31m# Set by `catch_stop_iteration`.\u001b[0m\u001b[0;34m\u001b[0m\u001b[0;34m\u001b[0m\u001b[0m\n",
            "\u001b[0;32m/usr/local/lib/python3.10/dist-packages/tensorflow/python/data/ops/dataset_ops.py\u001b[0m in \u001b[0;36m__iter__\u001b[0;34m(self)\u001b[0m\n\u001b[1;32m    494\u001b[0m     \u001b[0;32mif\u001b[0m \u001b[0mcontext\u001b[0m\u001b[0;34m.\u001b[0m\u001b[0mexecuting_eagerly\u001b[0m\u001b[0;34m(\u001b[0m\u001b[0;34m)\u001b[0m \u001b[0;32mor\u001b[0m \u001b[0mops\u001b[0m\u001b[0;34m.\u001b[0m\u001b[0minside_function\u001b[0m\u001b[0;34m(\u001b[0m\u001b[0;34m)\u001b[0m\u001b[0;34m:\u001b[0m\u001b[0;34m\u001b[0m\u001b[0;34m\u001b[0m\u001b[0m\n\u001b[1;32m    495\u001b[0m       \u001b[0;32mwith\u001b[0m \u001b[0mops\u001b[0m\u001b[0;34m.\u001b[0m\u001b[0mcolocate_with\u001b[0m\u001b[0;34m(\u001b[0m\u001b[0mself\u001b[0m\u001b[0;34m.\u001b[0m\u001b[0m_variant_tensor\u001b[0m\u001b[0;34m)\u001b[0m\u001b[0;34m:\u001b[0m\u001b[0;34m\u001b[0m\u001b[0;34m\u001b[0m\u001b[0m\n\u001b[0;32m--> 496\u001b[0;31m         \u001b[0;32mreturn\u001b[0m \u001b[0miterator_ops\u001b[0m\u001b[0;34m.\u001b[0m\u001b[0mOwnedIterator\u001b[0m\u001b[0;34m(\u001b[0m\u001b[0mself\u001b[0m\u001b[0;34m)\u001b[0m\u001b[0;34m\u001b[0m\u001b[0;34m\u001b[0m\u001b[0m\n\u001b[0m\u001b[1;32m    497\u001b[0m     \u001b[0;32melse\u001b[0m\u001b[0;34m:\u001b[0m\u001b[0;34m\u001b[0m\u001b[0;34m\u001b[0m\u001b[0m\n\u001b[1;32m    498\u001b[0m       raise RuntimeError(\"`tf.data.Dataset` only supports Python-style \"\n",
            "\u001b[0;32m/usr/local/lib/python3.10/dist-packages/tensorflow/python/data/ops/iterator_ops.py\u001b[0m in \u001b[0;36m__init__\u001b[0;34m(self, dataset, components, element_spec)\u001b[0m\n\u001b[1;32m    703\u001b[0m             \u001b[0;34m\"When `dataset` is provided, `element_spec` and `components` must \"\u001b[0m\u001b[0;34m\u001b[0m\u001b[0;34m\u001b[0m\u001b[0m\n\u001b[1;32m    704\u001b[0m             \"not be specified.\")\n\u001b[0;32m--> 705\u001b[0;31m       \u001b[0mself\u001b[0m\u001b[0;34m.\u001b[0m\u001b[0m_create_iterator\u001b[0m\u001b[0;34m(\u001b[0m\u001b[0mdataset\u001b[0m\u001b[0;34m)\u001b[0m\u001b[0;34m\u001b[0m\u001b[0;34m\u001b[0m\u001b[0m\n\u001b[0m\u001b[1;32m    706\u001b[0m \u001b[0;34m\u001b[0m\u001b[0m\n\u001b[1;32m    707\u001b[0m     \u001b[0mself\u001b[0m\u001b[0;34m.\u001b[0m\u001b[0m_get_next_call_count\u001b[0m \u001b[0;34m=\u001b[0m \u001b[0;36m0\u001b[0m\u001b[0;34m\u001b[0m\u001b[0;34m\u001b[0m\u001b[0m\n",
            "\u001b[0;32m/usr/local/lib/python3.10/dist-packages/tensorflow/python/data/ops/iterator_ops.py\u001b[0m in \u001b[0;36m_create_iterator\u001b[0;34m(self, dataset)\u001b[0m\n\u001b[1;32m    742\u001b[0m             self._flat_output_types)\n\u001b[1;32m    743\u001b[0m         \u001b[0mself\u001b[0m\u001b[0;34m.\u001b[0m\u001b[0m_iterator_resource\u001b[0m\u001b[0;34m.\u001b[0m\u001b[0mop\u001b[0m\u001b[0;34m.\u001b[0m\u001b[0mexperimental_set_type\u001b[0m\u001b[0;34m(\u001b[0m\u001b[0mfulltype\u001b[0m\u001b[0;34m)\u001b[0m\u001b[0;34m\u001b[0m\u001b[0;34m\u001b[0m\u001b[0m\n\u001b[0;32m--> 744\u001b[0;31m       \u001b[0mgen_dataset_ops\u001b[0m\u001b[0;34m.\u001b[0m\u001b[0mmake_iterator\u001b[0m\u001b[0;34m(\u001b[0m\u001b[0mds_variant\u001b[0m\u001b[0;34m,\u001b[0m \u001b[0mself\u001b[0m\u001b[0;34m.\u001b[0m\u001b[0m_iterator_resource\u001b[0m\u001b[0;34m)\u001b[0m\u001b[0;34m\u001b[0m\u001b[0;34m\u001b[0m\u001b[0m\n\u001b[0m\u001b[1;32m    745\u001b[0m \u001b[0;34m\u001b[0m\u001b[0m\n\u001b[1;32m    746\u001b[0m   \u001b[0;32mdef\u001b[0m \u001b[0m__iter__\u001b[0m\u001b[0;34m(\u001b[0m\u001b[0mself\u001b[0m\u001b[0;34m)\u001b[0m\u001b[0;34m:\u001b[0m\u001b[0;34m\u001b[0m\u001b[0;34m\u001b[0m\u001b[0m\n",
            "\u001b[0;32m/usr/local/lib/python3.10/dist-packages/tensorflow/python/ops/gen_dataset_ops.py\u001b[0m in \u001b[0;36mmake_iterator\u001b[0;34m(dataset, iterator, name)\u001b[0m\n\u001b[1;32m   3418\u001b[0m   \u001b[0;32mif\u001b[0m \u001b[0mtld\u001b[0m\u001b[0;34m.\u001b[0m\u001b[0mis_eager\u001b[0m\u001b[0;34m:\u001b[0m\u001b[0;34m\u001b[0m\u001b[0;34m\u001b[0m\u001b[0m\n\u001b[1;32m   3419\u001b[0m     \u001b[0;32mtry\u001b[0m\u001b[0;34m:\u001b[0m\u001b[0;34m\u001b[0m\u001b[0;34m\u001b[0m\u001b[0m\n\u001b[0;32m-> 3420\u001b[0;31m       _result = pywrap_tfe.TFE_Py_FastPathExecute(\n\u001b[0m\u001b[1;32m   3421\u001b[0m         _ctx, \"MakeIterator\", name, dataset, iterator)\n\u001b[1;32m   3422\u001b[0m       \u001b[0;32mreturn\u001b[0m \u001b[0m_result\u001b[0m\u001b[0;34m\u001b[0m\u001b[0;34m\u001b[0m\u001b[0m\n",
            "\u001b[0;31mKeyboardInterrupt\u001b[0m: "
          ]
        }
      ],
      "source": [
        "# shuffle\n",
        "\n",
        "print(\"---loading data---\")\n",
        "# load data\n",
        "trainData = pd.read_csv('traindata_min_size_1000.csv')\n",
        "trainDataNumbers = trainData['Number'].values\n",
        "trainDataLabel = trainData['Factors'].values\n",
        "print(\"---loading data done.---\")\n",
        "\n",
        "# shuffle training data\n",
        "shuffleIndices = np.random.permutation(len(trainDataNumbers))\n",
        "shuffledNumbers = trainDataNumbers[shuffleIndices]\n",
        "shuffledLabel = trainDataLabel[shuffleIndices]\n",
        "\n",
        "# collect data\n",
        "\n",
        "# prepare training set\n",
        "mergedTrainNumber = []\n",
        "mergedTrainLabel = []\n",
        "\n",
        "for num in shuffledNumbers:\n",
        "    feature = []\n",
        "    # base(2,3,5,7) and itself\n",
        "\n",
        "    #itself = [num]\n",
        "    feature = convert_base_into_list(num, 2)+convert_base_into_list(num, 3)+convert_base_into_list(num, 5)+convert_base_into_list(num, 7)\n",
        "    #print (feature)\n",
        "    mergedTrainNumber.append(feature)\n",
        "    #print(num, \" covert to base 2 3 5 7 is done.\")\n",
        "\n",
        "for num in shuffledLabel:\n",
        "    mergedTrainLabel.append(num)\n",
        "\n",
        "    #print(\"merge number \", num, \" is done.\")\n",
        "\n",
        "#print (mergedTrainNumber)\n",
        "\n",
        "mergedArray = np.array(mergedTrainNumber)\n",
        "mergedLabel = np.array(mergedTrainLabel)\n",
        "\n",
        "X_train, X_val, y_train, y_val = train_test_split(mergedArray, mergedLabel, test_size=0.2, random_state=42)\n",
        "#print (X_train[0])\n",
        "\n",
        "# start training\n",
        "# 清空所有\n",
        "keras.clear_session()\n",
        "\n",
        "################################################################\n",
        "\n",
        "# require gpu\n",
        "device = \"/device:GPU:0\"\n",
        "with tf.device(device):\n",
        "    print(f\"--- gpu {device} is loaded. ---\")\n",
        "    model = Sequential()\n",
        "\n",
        "    model.add(Dense(units=40, input_shape=(40,), activation='relu'))\n",
        "    model.add(Dense(units=200, activation='relu'))\n",
        "    model.add(Dense(units=200, activation='relu'))\n",
        "    model.add(Dense(units=200, activation='relu'))\n",
        "    model.add(Dense(units=200, activation='relu'))\n",
        "    model.add(Dense(units=1, activation='linear'))\n",
        "\n",
        "    print(model.summary())\n",
        "\n",
        "    # model.compile(loss='binary_crossentropy', optimizer='adam')   # train version 1\n",
        "    custom_adam_optimizer = Adam(learning_rate=0.001)\n",
        "    model.compile(loss='MSE', optimizer=custom_adam_optimizer,\n",
        "                  metrics=['accuracy'])    # train version 2\n",
        "\n",
        "    # 训练模型\n",
        "    print(\"---starting training---\")\n",
        "    trainHistory = model.fit(X_train, y_train, epochs=200,batch_size=2048, validation_data=(X_val, y_val))\n",
        "    print(\"--------------------------------------------------------\")\n",
        "\n",
        "    # save model\n",
        "    model.save('goldbach_model_1020_400w.h5')\n",
        "print(\"model saved.\")\n",
        "\n"
      ]
    },
    {
      "cell_type": "markdown",
      "source": [
        "# predict"
      ],
      "metadata": {
        "id": "Kf9iJZEn-cZq"
      }
    },
    {
      "cell_type": "code",
      "source": [
        "from google.colab import drive\n",
        "drive.mount(\"/content/Drive\")"
      ],
      "metadata": {
        "colab": {
          "base_uri": "https://localhost:8080/"
        },
        "id": "_nbn4CLgI-I-",
        "outputId": "5f31c5c5-1a4f-4280-ae22-0f4cfb086078"
      },
      "execution_count": null,
      "outputs": [
        {
          "output_type": "stream",
          "name": "stdout",
          "text": [
            "Drive already mounted at /content/Drive; to attempt to forcibly remount, call drive.mount(\"/content/Drive\", force_remount=True).\n"
          ]
        }
      ]
    },
    {
      "cell_type": "code",
      "source": [
        "# loadding prime table\n",
        "primeTable = pd.read_csv(\"/content/Drive/MyDrive/實驗/goldbach/csv/prime_table_5000000.csv\")\n",
        "primeTableNumber = primeTable[\"primes\"].values\n",
        "print (\"---loading primes table---\")"
      ],
      "metadata": {
        "colab": {
          "base_uri": "https://localhost:8080/"
        },
        "id": "0c8mDF4dJ9YC",
        "outputId": "d80a3941-d220-49a3-d610-39d8f5a5c57c"
      },
      "execution_count": null,
      "outputs": [
        {
          "output_type": "stream",
          "name": "stdout",
          "text": [
            "---loading primes table---\n"
          ]
        }
      ]
    },
    {
      "cell_type": "code",
      "source": [
        "## load data\n",
        "#predict\n",
        "\n",
        "from tensorflow.keras.models import load_model\n",
        "import csv\n",
        "import pandas as pd\n",
        "import numpy as np\n",
        "\n",
        "# 指定 HDF5 模型文件的路徑\n",
        "modelPath = '/content/Drive/MyDrive/實驗/model_save/goldbach_model_1029_400w.h5'\n",
        "\n",
        "# 使用 load_model\n",
        "model = load_model(modelPath)\n",
        "\n",
        "# load test_set and prime data\n",
        "testDataPath = '/content/Drive/MyDrive/實驗/goldbach/csv/test_set.csv'\n",
        "testData = pd.read_csv(testDataPath)\n",
        "testDataNumbers = testData['Number'].values\n",
        "testDataLabel = testData['Factors'].values\n",
        "\n",
        "print(\"---loading test data done.---\")\n"
      ],
      "metadata": {
        "colab": {
          "base_uri": "https://localhost:8080/"
        },
        "id": "LHHJ3UKUI4Kd",
        "outputId": "2922c868-5c65-43f3-dab6-dd65cfb75810"
      },
      "execution_count": null,
      "outputs": [
        {
          "output_type": "stream",
          "name": "stdout",
          "text": [
            "---loading test data done.---\n"
          ]
        }
      ]
    },
    {
      "cell_type": "code",
      "source": [
        "# shuffle training data\n",
        "shuffleIndices = np.random.permutation(len(testDataNumbers))\n",
        "shuffledNumbers = testDataNumbers[shuffleIndices]\n",
        "shuffledLabel = testDataLabel[shuffleIndices]"
      ],
      "metadata": {
        "id": "DdLMugz5KeQJ"
      },
      "execution_count": null,
      "outputs": []
    },
    {
      "cell_type": "code",
      "source": [
        "# generate 25 prime table\n",
        "primeTable25 = primeTableNumber[:25]\n",
        "print (primeTable25)"
      ],
      "metadata": {
        "colab": {
          "base_uri": "https://localhost:8080/"
        },
        "id": "P016SagF3Ley",
        "outputId": "cb6b0591-9544-4c48-a6b7-1be0c9ed76b2"
      },
      "execution_count": null,
      "outputs": [
        {
          "output_type": "stream",
          "name": "stdout",
          "text": [
            "[ 2  3  5  7 11 13 17 19 23 29 31 37 41 43 47 53 59 61 67 71 73 79 83 89\n",
            " 97]\n"
          ]
        }
      ]
    },
    {
      "cell_type": "code",
      "source": [
        "# collect data\n",
        "# prepare training set\n",
        "mergedTestNumber = []\n",
        "mergedTestLabel = []\n",
        "staticFlagX = [316978, 2652438, 3897236, 3226506, 3571052, 3276150]\n",
        "staticFlagY = [1577, 20090, 15400, 22108, 11879, 29621]\n",
        "\n",
        "for num in shuffledNumbers:\n",
        "\n",
        "    # base(2,3,5,7), aim, radom choice 5 in half of prime\n",
        "    feature = []\n",
        "    feature = convert_base_into_list(num, 2)+convert_base_into_list(num, 3)+convert_base_into_list(num, 5)+convert_base_into_list(num, 7)\n",
        "    mergedTestNumber.append(feature)\n",
        "\n",
        "for num in shuffledLabel:\n",
        "    mergedTestLabel.append(num)"
      ],
      "metadata": {
        "id": "w0gtoY8mStjm"
      },
      "execution_count": null,
      "outputs": []
    },
    {
      "cell_type": "code",
      "source": [
        "mergedArray = np.array(mergedTestNumber)\n",
        "mergedLabel = np.array(mergedTestLabel)"
      ],
      "metadata": {
        "id": "NqG32lBzKND0"
      },
      "execution_count": null,
      "outputs": []
    },
    {
      "cell_type": "code",
      "source": [
        "evaluation = model.evaluate(mergedArray, mergedLabel)\n",
        "XNewData = testDataNumbers, testDataLabel\n",
        "print (\"Loss:\", evaluation[0])\n",
        "print (\"Accuracy:\", evaluation[1])\n",
        "print (\"##########################\")\n",
        "predictions = model.predict(mergedArray)\n",
        "\n"
      ],
      "metadata": {
        "colab": {
          "base_uri": "https://localhost:8080/"
        },
        "id": "Jn3qRRzIKwVH",
        "outputId": "edebd1a6-a8d9-4269-f51b-d23e596d406f"
      },
      "execution_count": null,
      "outputs": [
        {
          "output_type": "stream",
          "name": "stdout",
          "text": [
            "2/2 [==============================] - 0s 10ms/step - loss: 938376.3125 - accuracy: 0.0000e+00\n",
            "Loss: 938376.3125\n",
            "Accuracy: 0.0\n",
            "##########################\n",
            "2/2 [==============================] - 0s 5ms/step\n"
          ]
        }
      ]
    },
    {
      "cell_type": "code",
      "source": [
        "print (f\"測試五十筆資料\")\n",
        "roundPredictions = np.round(predictions)\n",
        "for index, number in enumerate(testDataNumbers):\n",
        "  print (f\"第{index}筆資料為數字:\\t{number}\\t|正確答案為:{testDataLabel[index]}\\t模型預估為{predictions[index]}, 四捨五入到{roundPredictions[index]}\")"
      ],
      "metadata": {
        "colab": {
          "base_uri": "https://localhost:8080/"
        },
        "id": "aBJHTke7LvXm",
        "outputId": "0720fb82-576f-4b75-a0ee-8cc7408e3c43"
      },
      "execution_count": null,
      "outputs": [
        {
          "output_type": "stream",
          "name": "stdout",
          "text": [
            "測試五十筆資料\n",
            "第0筆資料為數字:\t4234636\t|正確答案為:16566\t模型預估為[15131.159], 四捨五入到[15131.]\n",
            "第1筆資料為數字:\t4010118\t|正確答案為:31717\t模型預估為[14785.162], 四捨五入到[14785.]\n",
            "第2筆資料為數字:\t4291942\t|正確答案為:14594\t模型預估為[28454.123], 四捨五入到[28454.]\n",
            "第3筆資料為數字:\t4151108\t|正確答案為:14832\t模型預估為[15918.118], 四捨五入到[15918.]\n",
            "第4筆資料為數字:\t4914148\t|正確答案為:15673\t模型預估為[18817.559], 四捨五入到[18818.]\n",
            "第5筆資料為數字:\t4634032\t|正確答案為:16346\t模型預估為[13842.603], 四捨五入到[13843.]\n",
            "第6筆資料為數字:\t4010462\t|正確答案為:13108\t模型預估為[21917.992], 四捨五入到[21918.]\n",
            "第7筆資料為數字:\t4665262\t|正確答案為:18098\t模型預估為[14231.753], 四捨五入到[14232.]\n",
            "第8筆資料為數字:\t4874538\t|正確答案為:31284\t模型預估為[22044.635], 四捨五入到[22045.]\n",
            "第9筆資料為數字:\t4867410\t|正確答案為:42050\t模型預估為[15692.532], 四捨五入到[15693.]\n",
            "第10筆資料為數字:\t4769998\t|正確答案為:15623\t模型預估為[30096.094], 四捨五入到[30096.]\n",
            "第11筆資料為數字:\t4550968\t|正確答案為:15886\t模型預估為[14324.187], 四捨五入到[14324.]\n",
            "第12筆資料為數字:\t4324986\t|正確答案為:28364\t模型預估為[13626.349], 四捨五入到[13626.]\n",
            "第13筆資料為數字:\t4306378\t|正確答案為:14047\t模型預估為[15311.392], 四捨五入到[15311.]\n",
            "第14筆資料為數字:\t4657756\t|正確答案為:14997\t模型預估為[29469.188], 四捨五入到[29469.]\n",
            "第15筆資料為數字:\t4948220\t|正確答案為:22961\t模型預估為[15471.819], 四捨五入到[15472.]\n",
            "第16筆資料為數字:\t4622606\t|正確答案為:16070\t模型預估為[33537.49], 四捨五入到[33537.]\n",
            "第17筆資料為數字:\t4037074\t|正確答案為:13302\t模型預估為[14329.653], 四捨五入到[14330.]\n",
            "第18筆資料為數字:\t4264618\t|正確答案為:13996\t模型預估為[27031.523], 四捨五入到[27032.]\n",
            "第19筆資料為數字:\t4019078\t|正確答案為:15871\t模型預估為[16157.523], 四捨五入到[16158.]\n",
            "第20筆資料為數字:\t4922464\t|正確答案為:15845\t模型預估為[31459.121], 四捨五入到[31459.]\n",
            "第21筆資料為數字:\t4561362\t|正確答案為:32717\t模型預估為[27841.713], 四捨五入到[27842.]\n",
            "第22筆資料為數字:\t4263072\t|正確答案為:31204\t模型預估為[16260.911], 四捨五入到[16261.]\n",
            "第23筆資料為數字:\t4477430\t|正確答案為:19410\t模型預估為[14105.722], 四捨五入到[14106.]\n",
            "第24筆資料為數字:\t4817322\t|正確答案為:30918\t模型預估為[22608.656], 四捨五入到[22609.]\n",
            "第25筆資料為數字:\t4870030\t|正確答案為:23276\t模型預估為[19872.06], 四捨五入到[19872.]\n",
            "第26筆資料為數字:\t4282102\t|正確答案為:15798\t模型預估為[18495.895], 四捨五入到[18496.]\n",
            "第27筆資料為數字:\t4874976\t|正確答案為:31307\t模型預估為[30306.195], 四捨五入到[30306.]\n",
            "第28筆資料為數字:\t4706630\t|正確答案為:20215\t模型預估為[14878.308], 四捨五入到[14878.]\n",
            "第29筆資料為數字:\t4215008\t|正確答案為:17037\t模型預估為[15813.137], 四捨五入到[15813.]\n",
            "第30筆資料為數字:\t4023648\t|正確答案為:26490\t模型預估為[34101.785], 四捨五入到[34102.]\n",
            "第31筆資料為數字:\t4270436\t|正確答案為:14456\t模型預估為[16624.375], 四捨五入到[16624.]\n",
            "第32筆資料為數字:\t4833296\t|正確答案為:17861\t模型預估為[42826.848], 四捨五入到[42827.]\n",
            "第33筆資料為數字:\t4047740\t|正確答案為:17657\t模型預估為[18629.406], 四捨五入到[18629.]\n",
            "第34筆資料為數字:\t4737856\t|正確答案為:15340\t模型預估為[13462.845], 四捨五入到[13463.]\n",
            "第35筆資料為數字:\t4653712\t|正確答案為:18648\t模型預估為[14534.574], 四捨五入到[14535.]\n",
            "第36筆資料為數字:\t4170488\t|正確答案為:16372\t模型預估為[16973.742], 四捨五入到[16974.]\n",
            "第37筆資料為數字:\t4264218\t|正確答案為:34817\t模型預估為[16195.13], 四捨五入到[16195.]\n",
            "第38筆資料為數字:\t4166062\t|正確答案為:13763\t模型預估為[32578.01], 四捨五入到[32578.]\n",
            "第39筆資料為數字:\t4951794\t|正確答案為:34670\t模型預估為[15577.999], 四捨五入到[15578.]\n",
            "第40筆資料為數字:\t4790492\t|正確答案為:19071\t模型預估為[16317.825], 四捨五入到[16318.]\n",
            "第41筆資料為數字:\t4604856\t|正確答案為:29963\t模型預估為[18699.842], 四捨五入到[18700.]\n",
            "第42筆資料為數字:\t4704764\t|正確答案為:15154\t模型預估為[31491.596], 四捨五入到[31492.]\n",
            "第43筆資料為數字:\t4411002\t|正確答案為:30274\t模型預估為[21011.441], 四捨五入到[21011.]\n",
            "第44筆資料為數字:\t4347996\t|正確答案為:28296\t模型預估為[32316.523], 四捨五入到[32317.]\n",
            "第45筆資料為數字:\t4439012\t|正確答案為:14357\t模型預估為[19124.055], 四捨五入到[19124.]\n",
            "第46筆資料為數字:\t4628068\t|正確答案為:14977\t模型預估為[17206.844], 四捨五入到[17207.]\n",
            "第47筆資料為數字:\t4788616\t|正確答案為:18535\t模型預估為[15256.7], 四捨五入到[15257.]\n",
            "第48筆資料為數字:\t4158576\t|正確答案為:27127\t模型預估為[31602.605], 四捨五入到[31603.]\n",
            "第49筆資料為數字:\t4920400\t|正確答案為:20936\t模型預估為[32180.146], 四捨五入到[32180.]\n"
          ]
        }
      ]
    },
    {
      "cell_type": "code",
      "source": [
        "print (\"\\t正確答案  \"  , \"\\t/\" ,\"  \\t模型預測\")\n",
        "for index, number in enumerate(testDataNumbers):\n",
        "  print (f\"{index}\\t{testDataLabel[index]}  \\t\\t/  \\t{roundPredictions[index]} = {testDataLabel[index]/roundPredictions[index]} \")\n",
        "print (\"###########################################################################\")\n",
        "\n",
        "print (\"\\t正確答案  \"  , \"\\t-\" ,\"  \\t模型預測\")\n",
        "for index, number in enumerate(testDataNumbers):\n",
        "  print (f\"{index}\\t{testDataLabel[index]}  \\t\\t-  \\t{roundPredictions[index]} = {testDataLabel[index]-roundPredictions[index]} \")"
      ],
      "metadata": {
        "colab": {
          "base_uri": "https://localhost:8080/"
        },
        "id": "U88QnsT5L0ol",
        "outputId": "526c691a-880d-4f17-a8a7-094e395502cb"
      },
      "execution_count": null,
      "outputs": [
        {
          "output_type": "stream",
          "name": "stdout",
          "text": [
            "\t正確答案   \t/   \t模型預測\n",
            "0\t16566  \t\t/  \t[15131.] = [1.0948384] \n",
            "1\t31717  \t\t/  \t[14785.] = [2.1452148] \n",
            "2\t14594  \t\t/  \t[28454.] = [0.512898] \n",
            "3\t14832  \t\t/  \t[15918.] = [0.93177533] \n",
            "4\t15673  \t\t/  \t[18818.] = [0.8328728] \n",
            "5\t16346  \t\t/  \t[13843.] = [1.1808134] \n",
            "6\t13108  \t\t/  \t[21918.] = [0.59804726] \n",
            "7\t18098  \t\t/  \t[14232.] = [1.2716414] \n",
            "8\t31284  \t\t/  \t[22045.] = [1.4190973] \n",
            "9\t42050  \t\t/  \t[15693.] = [2.6795387] \n",
            "10\t15623  \t\t/  \t[30096.] = [0.51910555] \n",
            "11\t15886  \t\t/  \t[14324.] = [1.1090478] \n",
            "12\t28364  \t\t/  \t[13626.] = [2.0816088] \n",
            "13\t14047  \t\t/  \t[15311.] = [0.917445] \n",
            "14\t14997  \t\t/  \t[29469.] = [0.5089077] \n",
            "15\t22961  \t\t/  \t[15472.] = [1.4840357] \n",
            "16\t16070  \t\t/  \t[33537.] = [0.47917226] \n",
            "17\t13302  \t\t/  \t[14330.] = [0.9282624] \n",
            "18\t13996  \t\t/  \t[27032.] = [0.51775676] \n",
            "19\t15871  \t\t/  \t[16158.] = [0.9822379] \n",
            "20\t15845  \t\t/  \t[31459.] = [0.50367147] \n",
            "21\t32717  \t\t/  \t[27842.] = [1.1750952] \n",
            "22\t31204  \t\t/  \t[16261.] = [1.9189472] \n",
            "23\t19410  \t\t/  \t[14106.] = [1.3760102] \n",
            "24\t30918  \t\t/  \t[22609.] = [1.3675085] \n",
            "25\t23276  \t\t/  \t[19872.] = [1.1712962] \n",
            "26\t15798  \t\t/  \t[18496.] = [0.8541306] \n",
            "27\t31307  \t\t/  \t[30306.] = [1.0330298] \n",
            "28\t20215  \t\t/  \t[14878.] = [1.3587176] \n",
            "29\t17037  \t\t/  \t[15813.] = [1.0774046] \n",
            "30\t26490  \t\t/  \t[34102.] = [0.7767873] \n",
            "31\t14456  \t\t/  \t[16624.] = [0.86958617] \n",
            "32\t17861  \t\t/  \t[42827.] = [0.41705] \n",
            "33\t17657  \t\t/  \t[18629.] = [0.9478233] \n",
            "34\t15340  \t\t/  \t[13463.] = [1.1394192] \n",
            "35\t18648  \t\t/  \t[14535.] = [1.2829721] \n",
            "36\t16372  \t\t/  \t[16974.] = [0.964534] \n",
            "37\t34817  \t\t/  \t[16195.] = [2.149861] \n",
            "38\t13763  \t\t/  \t[32578.] = [0.422463] \n",
            "39\t34670  \t\t/  \t[15578.] = [2.2255745] \n",
            "40\t19071  \t\t/  \t[16318.] = [1.1687094] \n",
            "41\t29963  \t\t/  \t[18700.] = [1.6022995] \n",
            "42\t15154  \t\t/  \t[31492.] = [0.4812016] \n",
            "43\t30274  \t\t/  \t[21011.] = [1.4408643] \n",
            "44\t28296  \t\t/  \t[32317.] = [0.8755763] \n",
            "45\t14357  \t\t/  \t[19124.] = [0.75073206] \n",
            "46\t14977  \t\t/  \t[17207.] = [0.87040156] \n",
            "47\t18535  \t\t/  \t[15257.] = [1.2148522] \n",
            "48\t27127  \t\t/  \t[31603.] = [0.85836786] \n",
            "49\t20936  \t\t/  \t[32180.] = [0.6505904] \n",
            "###########################################################################\n",
            "\t正確答案   \t-   \t模型預測\n",
            "0\t16566  \t\t-  \t[15131.] = [1435.] \n",
            "1\t31717  \t\t-  \t[14785.] = [16932.] \n",
            "2\t14594  \t\t-  \t[28454.] = [-13860.] \n",
            "3\t14832  \t\t-  \t[15918.] = [-1086.] \n",
            "4\t15673  \t\t-  \t[18818.] = [-3145.] \n",
            "5\t16346  \t\t-  \t[13843.] = [2503.] \n",
            "6\t13108  \t\t-  \t[21918.] = [-8810.] \n",
            "7\t18098  \t\t-  \t[14232.] = [3866.] \n",
            "8\t31284  \t\t-  \t[22045.] = [9239.] \n",
            "9\t42050  \t\t-  \t[15693.] = [26357.] \n",
            "10\t15623  \t\t-  \t[30096.] = [-14473.] \n",
            "11\t15886  \t\t-  \t[14324.] = [1562.] \n",
            "12\t28364  \t\t-  \t[13626.] = [14738.] \n",
            "13\t14047  \t\t-  \t[15311.] = [-1264.] \n",
            "14\t14997  \t\t-  \t[29469.] = [-14472.] \n",
            "15\t22961  \t\t-  \t[15472.] = [7489.] \n",
            "16\t16070  \t\t-  \t[33537.] = [-17467.] \n",
            "17\t13302  \t\t-  \t[14330.] = [-1028.] \n",
            "18\t13996  \t\t-  \t[27032.] = [-13036.] \n",
            "19\t15871  \t\t-  \t[16158.] = [-287.] \n",
            "20\t15845  \t\t-  \t[31459.] = [-15614.] \n",
            "21\t32717  \t\t-  \t[27842.] = [4875.] \n",
            "22\t31204  \t\t-  \t[16261.] = [14943.] \n",
            "23\t19410  \t\t-  \t[14106.] = [5304.] \n",
            "24\t30918  \t\t-  \t[22609.] = [8309.] \n",
            "25\t23276  \t\t-  \t[19872.] = [3404.] \n",
            "26\t15798  \t\t-  \t[18496.] = [-2698.] \n",
            "27\t31307  \t\t-  \t[30306.] = [1001.] \n",
            "28\t20215  \t\t-  \t[14878.] = [5337.] \n",
            "29\t17037  \t\t-  \t[15813.] = [1224.] \n",
            "30\t26490  \t\t-  \t[34102.] = [-7612.] \n",
            "31\t14456  \t\t-  \t[16624.] = [-2168.] \n",
            "32\t17861  \t\t-  \t[42827.] = [-24966.] \n",
            "33\t17657  \t\t-  \t[18629.] = [-972.] \n",
            "34\t15340  \t\t-  \t[13463.] = [1877.] \n",
            "35\t18648  \t\t-  \t[14535.] = [4113.] \n",
            "36\t16372  \t\t-  \t[16974.] = [-602.] \n",
            "37\t34817  \t\t-  \t[16195.] = [18622.] \n",
            "38\t13763  \t\t-  \t[32578.] = [-18815.] \n",
            "39\t34670  \t\t-  \t[15578.] = [19092.] \n",
            "40\t19071  \t\t-  \t[16318.] = [2753.] \n",
            "41\t29963  \t\t-  \t[18700.] = [11263.] \n",
            "42\t15154  \t\t-  \t[31492.] = [-16338.] \n",
            "43\t30274  \t\t-  \t[21011.] = [9263.] \n",
            "44\t28296  \t\t-  \t[32317.] = [-4021.] \n",
            "45\t14357  \t\t-  \t[19124.] = [-4767.] \n",
            "46\t14977  \t\t-  \t[17207.] = [-2230.] \n",
            "47\t18535  \t\t-  \t[15257.] = [3278.] \n",
            "48\t27127  \t\t-  \t[31603.] = [-4476.] \n",
            "49\t20936  \t\t-  \t[32180.] = [-11244.] \n"
          ]
        }
      ]
    },
    {
      "cell_type": "code",
      "source": [
        "def calculate_mse(predictions, targets):\n",
        "    \"\"\"\n",
        "    計算均方誤差 (MSE)\n",
        "\n",
        "    參數:\n",
        "    predictions: 預測值的列表或陣列\n",
        "    targets: 實際值的列表或陣列，與預測值對應\n",
        "\n",
        "    返回值:\n",
        "    mse: 均方誤差\n",
        "    \"\"\"\n",
        "    # 確保預測值和實際值的長度相等\n",
        "    if len(predictions) != len(targets):\n",
        "        raise ValueError(\"預測值和實際值的長度不一致\")\n",
        "\n",
        "    # 計算平方誤差\n",
        "    squared_errors = [(p - t) ** 2 for p, t in zip(predictions, targets)]\n",
        "\n",
        "    # 計算均方誤差\n",
        "    mse = sum(squared_errors) / len(predictions)\n",
        "\n",
        "    return mse\n",
        "\n",
        "# 使用 LN\n",
        "mse_result = calculate_mse(roundPredictions, testDataLabel)\n",
        "\n",
        "# 使用 MLP(old)\n",
        "#mse_result = calculate_mse(predictions, testDataPartition)\n",
        "\n",
        "\n",
        "import math\n",
        "mean = testData['Factors'].mean()\n",
        "\n",
        "#+N MSE\n",
        "MSE = int(calculate_mse(roundPredictions, testDataLabel))\n",
        "\n",
        "#MLP MSE\n",
        "# MSE = int(calculate_mse(predictions, testDataPartition))\n",
        "\n",
        "RMSE= math.sqrt(MSE)\n",
        "errorRate = RMSE/mean\n",
        "\n",
        "print (f\"MSE : {MSE}\\nRMSE : {RMSE}\\nError Rate : {errorRate}  ->  {round(errorRate,7)*100}%\")"
      ],
      "metadata": {
        "id": "XN14QmMsrLBk",
        "colab": {
          "base_uri": "https://localhost:8080/"
        },
        "outputId": "8fc760a4-f47c-458f-d695-2af7f3078059"
      },
      "execution_count": null,
      "outputs": [
        {
          "output_type": "stream",
          "name": "stdout",
          "text": [
            "MSE : 112846144\n",
            "RMSE : 10622.906570237734\n",
            "Error Rate : 0.5049505155663658  ->  50.49505%\n"
          ]
        },
        {
          "output_type": "stream",
          "name": "stderr",
          "text": [
            "<ipython-input-13-6b3d5dfe95c9>:35: DeprecationWarning: Conversion of an array with ndim > 0 to a scalar is deprecated, and will error in future. Ensure you extract a single element from your array before performing this operation. (Deprecated NumPy 1.25.)\n",
            "  MSE = int(calculate_mse(roundPredictions, testDataLabel))\n"
          ]
        }
      ]
    },
    {
      "cell_type": "code",
      "source": [],
      "metadata": {
        "id": "oqEKGcPy6MWS"
      },
      "execution_count": null,
      "outputs": []
    }
  ]
}