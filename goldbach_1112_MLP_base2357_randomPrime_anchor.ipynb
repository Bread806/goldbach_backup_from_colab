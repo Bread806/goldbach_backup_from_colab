{
  "nbformat": 4,
  "nbformat_minor": 0,
  "metadata": {
    "colab": {
      "provenance": [],
      "authorship_tag": "ABX9TyMvUaB8bQvkxWu778bWaOwW",
      "include_colab_link": true
    },
    "kernelspec": {
      "name": "python3",
      "display_name": "Python 3"
    },
    "language_info": {
      "name": "python"
    }
  },
  "cells": [
    {
      "cell_type": "markdown",
      "metadata": {
        "id": "view-in-github",
        "colab_type": "text"
      },
      "source": [
        "<a href=\"https://colab.research.google.com/github/Bread806/goldbach_backup_from_colab/blob/main/goldbach_1112_MLP_base2357_randomPrime_anchor.ipynb\" target=\"_parent\"><img src=\"https://colab.research.google.com/assets/colab-badge.svg\" alt=\"Open In Colab\"/></a>"
      ]
    },
    {
      "cell_type": "code",
      "source": [
        "from google.colab import drive\n",
        "drive.mount(\"/content/myDrive\")"
      ],
      "metadata": {
        "colab": {
          "base_uri": "https://localhost:8080/"
        },
        "id": "wNYcmX52zpq7",
        "outputId": "5df7eea3-0b79-430c-9272-97e334862850"
      },
      "execution_count": null,
      "outputs": [
        {
          "output_type": "stream",
          "name": "stdout",
          "text": [
            "Mounted at /content/myDrive\n"
          ]
        }
      ]
    },
    {
      "cell_type": "code",
      "source": [
        "from tensorflow.keras.layers.experimental.preprocessing import TextVectorization\n",
        "from tensorflow.keras.layers import Embedding, Dense\n",
        "from tensorflow.keras.optimizers import Adam\n",
        "from tensorflow.keras import backend as keras\n",
        "from sklearn.model_selection import train_test_split\n",
        "from tensorflow.keras.utils import to_categorical\n",
        "from tensorflow.keras.layers import Dense, Flatten\n",
        "from tensorflow.keras.models import Sequential\n",
        "import pandas as pd\n",
        "import numpy as np\n",
        "import tensorflow as tf\n",
        "from sklearn.preprocessing import StandardScaler\n",
        "from tensorflow.keras.layers import LayerNormalization\n",
        "from random import choice, sample\n",
        "\n",
        "\n",
        "def is_prime(num):\n",
        "    \"\"\"檢查一個數字是否為質數\"\"\"\n",
        "    if num <= 1:\n",
        "        return False\n",
        "    sqr_num = int(num ** 0.5)\n",
        "    # for i in range(2, sqr_num+ 1):\n",
        "    for i in range(2, sqr_num+ 1):\n",
        "        if num % i == 0:\n",
        "            return False\n",
        "    return True\n",
        "\n",
        "\n",
        "def prime_table(x):\n",
        "    \"\"\"建立小於x的質數表\"\"\"\n",
        "    primes = [num for num in range(2, x) if is_prime(num)]\n",
        "    return primes\n",
        "\n",
        "\n",
        "def convert_base_into_list(number, base, width=10):\n",
        "    result = []  # init list\n",
        "\n",
        "    for i in range(width):\n",
        "        result.append(number % base)\n",
        "        number = number // base\n",
        "    result = result[::-1]\n",
        "    return result\n",
        "\n",
        "\n",
        "def prime_to_index(primeSize, primes, number):\n",
        "    for index in range(primeSize):\n",
        "        if number == primes[index]:\n",
        "            return index\n",
        "    return -1\n",
        "\n",
        "def add_prime(primeTable, limit, addSize=5):\n",
        "    halfList = [num for num in primeTable if num <= int(limit//2)]\n",
        "    if len(halfList) < 5:\n",
        "      halfList += [0] * (5 - len(halfList))\n",
        "    return sample(halfList, addSize)\n",
        "\n",
        "def add_aim(index, staticFlagX):\n",
        "\n",
        "  #feature = [index-flagN for flagN in staticFlagX] + []\n",
        "  return [index-flagN for flagN in staticFlagX]\n"
      ],
      "metadata": {
        "id": "Veno4zyPzi57"
      },
      "execution_count": 3,
      "outputs": []
    },
    {
      "cell_type": "code",
      "source": [],
      "metadata": {
        "id": "mijP46dRCF5x"
      },
      "execution_count": null,
      "outputs": []
    },
    {
      "cell_type": "code",
      "source": [],
      "metadata": {
        "id": "64ihRwCJF5xQ"
      },
      "execution_count": null,
      "outputs": []
    },
    {
      "cell_type": "code",
      "execution_count": null,
      "metadata": {
        "colab": {
          "base_uri": "https://localhost:8080/"
        },
        "id": "TdPvfso6zdJ2",
        "outputId": "bab0202a-6c63-4ed9-ab4e-c1630cfcff4e"
      },
      "outputs": [
        {
          "output_type": "stream",
          "name": "stdout",
          "text": [
            "---loading data---\n",
            "---loading data done.---\n"
          ]
        }
      ],
      "source": [
        "# shuffle\n",
        "\n",
        "print(\"---loading data---\")\n",
        "# load data\n",
        "trainData = pd.read_csv('/content/myDrive/MyDrive/實驗/goldbach/csv/traindata_min_size_1000.csv')\n",
        "trainDataNumbers = trainData['Number'].values\n",
        "trainDataLabel = trainData['Factors'].values\n",
        "print(\"---loading data done.---\")\n",
        "\n",
        "# shuffle training data\n",
        "shuffleIndices = np.random.permutation(len(trainDataNumbers))\n",
        "shuffledNumbers = trainDataNumbers[shuffleIndices]\n",
        "shuffledLabel = trainDataLabel[shuffleIndices]"
      ]
    },
    {
      "cell_type": "code",
      "source": [
        "print (shuffledNumbers[5])\n",
        "print (shuffledLabel [5])"
      ],
      "metadata": {
        "colab": {
          "base_uri": "https://localhost:8080/"
        },
        "id": "T0VWLQPK6F7a",
        "outputId": "4503381f-d1a3-483a-fdca-2c14ff980a4d"
      },
      "execution_count": null,
      "outputs": [
        {
          "output_type": "stream",
          "name": "stdout",
          "text": [
            "3030248\n",
            "11418\n"
          ]
        }
      ]
    },
    {
      "cell_type": "code",
      "source": [
        "# loadding prime table\n",
        "primeTable = pd.read_csv(\"/content/myDrive/MyDrive/實驗/goldbach/csv/prime_table_5000000.csv\")\n",
        "primeTableNumber = primeTable[\"primes\"].values\n",
        "print (\"---loading primes table---\")"
      ],
      "metadata": {
        "colab": {
          "base_uri": "https://localhost:8080/"
        },
        "id": "k5qpkhdJ0ZlU",
        "outputId": "1ba1a634-3975-4e44-82ee-795bf914d026"
      },
      "execution_count": null,
      "outputs": [
        {
          "output_type": "stream",
          "name": "stdout",
          "text": [
            "---loading primes table---\n"
          ]
        }
      ]
    },
    {
      "cell_type": "markdown",
      "source": [],
      "metadata": {
        "id": "XjDFb9Z-GlrU"
      }
    },
    {
      "cell_type": "code",
      "source": [
        "\n",
        "def add_prime(primeTable, limit, addSize=5):\n",
        "\n",
        "    halfList = [num for num in primeTable if num <= int(limit//2)]\n",
        "    if len(halfList) < 5:\n",
        "            halfList += [0] * (5 - len(halfList))\n",
        "    return sample(halfList, addSize)\n",
        "\n",
        "#limit = 8\n",
        "print (add_prime(primeTableNumber, 22, addSize=5))"
      ],
      "metadata": {
        "colab": {
          "base_uri": "https://localhost:8080/"
        },
        "id": "cOOjc9X0Cz-Z",
        "outputId": "57c3f0cc-acb8-4e24-e8d2-cfa0ad5592bd"
      },
      "execution_count": null,
      "outputs": [
        {
          "output_type": "stream",
          "name": "stdout",
          "text": [
            "[2, 7, 11, 5, 3]\n"
          ]
        }
      ]
    },
    {
      "cell_type": "code",
      "source": [
        "\"\"\"\n",
        "feature  base2357 + 隨機小於數字n的五個質數 + anchor（n與固定數字的差距量）\n",
        "\"\"\"\n",
        "# collect data\n",
        "# prepare training set\n",
        "mergedTrainNumber = []\n",
        "mergedTrainLabel = []\n",
        "staticFlagX = [316978, 2652438, 3897236, 3226506, 3571052, 3276150]\n",
        "staticFlagY = [1577, 20090, 15400, 22108, 11879, 29621]\n",
        "\n",
        "for num in shuffledNumbers:\n",
        "\n",
        "    # base(2,3,5,7), aim, radom choice 5 in half of prime\n",
        "    feature = []\n",
        "    itself = [num]\n",
        "    feature = convert_base_into_list(num, 2)+convert_base_into_list(num, 3)+convert_base_into_list(num, 5)+convert_base_into_list(num, 7) + add_prime(primeTableNumber, num, 5)+ add_aim(num, staticFlagX) + staticFlagX + staticFlagY\n",
        "    #print (feature)\n",
        "    mergedTrainNumber.append(feature)\n",
        "    print(num, \" covert to base 2 3 5 7 is done.\")\n",
        "\n",
        "for num in shuffledLabel:\n",
        "    mergedTrainLabel.append(num)\n",
        "\n",
        "    print(\"merge number \", num, \" is done.\")\n",
        "\n",
        "#print (mergedTrainNumber)"
      ],
      "metadata": {
        "id": "3MZY96_M0KIu"
      },
      "execution_count": null,
      "outputs": []
    },
    {
      "cell_type": "code",
      "source": [
        "# # normalization\n",
        "# mergedTrainNumber = tf.cast(mergedTrainNumber , tf.float32)\n",
        "# mean = tf.reduce_mean(mergedTrainNumber)\n",
        "# sttdev = tf.math.reduce_std(mergedTrainNumber)\n",
        "# normalizedArray = (mergedTrainNumber - mean) / sttdev\n",
        "\n",
        "mergedArray = np.array(mergedTrainNumber)\n",
        "mergedLabel = np.array(mergedTrainLabel)"
      ],
      "metadata": {
        "id": "7droylrQ0H2W"
      },
      "execution_count": null,
      "outputs": []
    },
    {
      "cell_type": "code",
      "source": [
        "X_train, X_val, y_train, y_val = train_test_split(mergedArray, mergedLabel, test_size=0.2, random_state=42)"
      ],
      "metadata": {
        "id": "jyTwBG1jzoK8"
      },
      "execution_count": null,
      "outputs": []
    },
    {
      "cell_type": "code",
      "source": [
        "# start training\n",
        "# 清空所有\n",
        "keras.clear_session()\n",
        "\n",
        "################################################################\n",
        "\n",
        "# require gpu\n",
        "device = \"/device:GPU:0\"\n",
        "with tf.device(device):\n",
        "    print(f\"--- gpu {device} is loaded. ---\")\n",
        "    model = Sequential()\n",
        "\n",
        "    model.add(Dense(units=63, input_shape=(63,), activation='relu'))\n",
        "    model.add(Dense(units=200, activation='relu'))\n",
        "    model.add(Dense(units=200, activation='relu'))\n",
        "    model.add(Dense(units=200, activation='relu'))\n",
        "    model.add(Dense(units=200, activation='relu'))\n",
        "    model.add(Dense(units=1, activation='linear'))\n",
        "\n",
        "    print(model.summary())\n",
        "\n",
        "    custom_adam_optimizer = Adam(learning_rate=0.001)\n",
        "    model.compile(loss='MSE', optimizer=custom_adam_optimizer,\n",
        "                  metrics=['accuracy'])    # train version 2\n",
        "\n",
        "    # train model\n",
        "    print(\"---starting training---\")\n",
        "    trainHistory = model.fit(X_train, y_train, epochs=200,batch_size=2048, validation_data=(X_val, y_val))\n",
        "    print(\"--------------------------------------------------------\")\n",
        "\n",
        "    # save model\n",
        "    model.save('./csv/goldbach_model_1112_400w.h5')\n",
        "print(\"model saved.\")\n"
      ],
      "metadata": {
        "id": "ge8BVKMTznDr"
      },
      "execution_count": null,
      "outputs": []
    },
    {
      "cell_type": "markdown",
      "source": [
        "## predict"
      ],
      "metadata": {
        "id": "hQJtQBsxISQa"
      }
    },
    {
      "cell_type": "code",
      "source": [
        "from google.colab import drive\n",
        "drive.mount(\"/content/Drive\")"
      ],
      "metadata": {
        "colab": {
          "base_uri": "https://localhost:8080/"
        },
        "id": "_nbn4CLgI-I-",
        "outputId": "8978d766-e0fc-42b9-efd6-4f3804188507"
      },
      "execution_count": 1,
      "outputs": [
        {
          "output_type": "stream",
          "name": "stdout",
          "text": [
            "Mounted at /content/Drive\n"
          ]
        }
      ]
    },
    {
      "cell_type": "code",
      "source": [
        "# loadding prime table\n",
        "primeTable = pd.read_csv(\"/content/Drive/MyDrive/實驗/goldbach/csv/prime_table_5000000.csv\")\n",
        "primeTableNumber = primeTable[\"primes\"].values\n",
        "print (\"---loading primes table---\")"
      ],
      "metadata": {
        "colab": {
          "base_uri": "https://localhost:8080/"
        },
        "id": "0c8mDF4dJ9YC",
        "outputId": "df0b386c-4957-4983-d3a1-8c7aad23bd7d"
      },
      "execution_count": 4,
      "outputs": [
        {
          "output_type": "stream",
          "name": "stdout",
          "text": [
            "---loading primes table---\n"
          ]
        }
      ]
    },
    {
      "cell_type": "code",
      "source": [
        "## load data\n",
        "#predict\n",
        "\n",
        "from tensorflow.keras.models import load_model\n",
        "import csv\n",
        "import pandas as pd\n",
        "import numpy as np\n",
        "\n",
        "# 指定 HDF5 模型文件的路徑\n",
        "modelPath = '/content/Drive/MyDrive/實驗/model_save/goldbach_model_1112_400w.h5'\n",
        "\n",
        "# 使用 load_model\n",
        "model = load_model(modelPath)\n",
        "\n",
        "# load test_set and prime data\n",
        "testDataPath = '/content/Drive/MyDrive/實驗/goldbach/csv/test_set.csv'\n",
        "testData = pd.read_csv(testDataPath)\n",
        "testDataNumbers = testData['Number'].values\n",
        "testDataLabel = testData['Factors'].values\n",
        "print(\"---loading test data done.---\")"
      ],
      "metadata": {
        "colab": {
          "base_uri": "https://localhost:8080/"
        },
        "id": "LHHJ3UKUI4Kd",
        "outputId": "7471c81a-843b-4ff0-9240-d8199330dd08"
      },
      "execution_count": 5,
      "outputs": [
        {
          "output_type": "stream",
          "name": "stdout",
          "text": [
            "---loading test data done.---\n"
          ]
        }
      ]
    },
    {
      "cell_type": "code",
      "source": [
        "# shuffle training data\n",
        "shuffleIndices = np.random.permutation(len(testDataNumbers))\n",
        "shuffledNumbers = testDataNumbers[shuffleIndices]\n",
        "shuffledLabel = testDataLabel[shuffleIndices]"
      ],
      "metadata": {
        "id": "DdLMugz5KeQJ"
      },
      "execution_count": 6,
      "outputs": []
    },
    {
      "cell_type": "code",
      "source": [
        "# collect data\n",
        "# prepare training set\n",
        "mergedTestNumber = []\n",
        "mergedTestLabel = []\n",
        "staticFlagX = [316978, 2652438, 3897236, 3226506, 3571052, 3276150]\n",
        "staticFlagY = [1577, 20090, 15400, 22108, 11879, 29621]\n",
        "\n",
        "for num in shuffledNumbers:\n",
        "\n",
        "    # base(2,3,5,7), aim, radom choice 5 in half of prime\n",
        "    feature = []\n",
        "    itself = [num]\n",
        "    feature = convert_base_into_list(num, 2)+convert_base_into_list(num, 3)+convert_base_into_list(num, 5)+convert_base_into_list(num, 7) + add_prime(primeTableNumber, num, 5)+ add_aim(num, staticFlagX) + staticFlagX + staticFlagY\n",
        "    #print (feature)\n",
        "    mergedTestNumber.append(feature)\n",
        "    print(num, \" covert to base 2 3 5 7 is done.\")\n",
        "\n",
        "for num in shuffledLabel:\n",
        "    mergedTestLabel.append(num)\n",
        "\n",
        "    print(\"merge number \", num, \" is done.\")\n",
        "\n",
        "#print (mergedTrainNumber)"
      ],
      "metadata": {
        "id": "w0gtoY8mStjm",
        "colab": {
          "base_uri": "https://localhost:8080/"
        },
        "outputId": "b43e020d-a4a0-47ed-8871-13bf7a2af865"
      },
      "execution_count": 7,
      "outputs": [
        {
          "output_type": "stream",
          "name": "stdout",
          "text": [
            "4550968  covert to base 2 3 5 7 is done.\n",
            "4264218  covert to base 2 3 5 7 is done.\n",
            "4170488  covert to base 2 3 5 7 is done.\n",
            "4769998  covert to base 2 3 5 7 is done.\n",
            "4628068  covert to base 2 3 5 7 is done.\n",
            "4634032  covert to base 2 3 5 7 is done.\n",
            "4215008  covert to base 2 3 5 7 is done.\n",
            "4010462  covert to base 2 3 5 7 is done.\n",
            "4817322  covert to base 2 3 5 7 is done.\n",
            "4263072  covert to base 2 3 5 7 is done.\n",
            "4874976  covert to base 2 3 5 7 is done.\n",
            "4870030  covert to base 2 3 5 7 is done.\n",
            "4158576  covert to base 2 3 5 7 is done.\n",
            "4704764  covert to base 2 3 5 7 is done.\n",
            "4411002  covert to base 2 3 5 7 is done.\n",
            "4282102  covert to base 2 3 5 7 is done.\n",
            "4477430  covert to base 2 3 5 7 is done.\n",
            "4291942  covert to base 2 3 5 7 is done.\n",
            "4264618  covert to base 2 3 5 7 is done.\n",
            "4151108  covert to base 2 3 5 7 is done.\n",
            "4657756  covert to base 2 3 5 7 is done.\n",
            "4306378  covert to base 2 3 5 7 is done.\n",
            "4023648  covert to base 2 3 5 7 is done.\n",
            "4010118  covert to base 2 3 5 7 is done.\n",
            "4604856  covert to base 2 3 5 7 is done.\n",
            "4737856  covert to base 2 3 5 7 is done.\n",
            "4833296  covert to base 2 3 5 7 is done.\n",
            "4166062  covert to base 2 3 5 7 is done.\n",
            "4324986  covert to base 2 3 5 7 is done.\n",
            "4874538  covert to base 2 3 5 7 is done.\n",
            "4047740  covert to base 2 3 5 7 is done.\n",
            "4948220  covert to base 2 3 5 7 is done.\n",
            "4790492  covert to base 2 3 5 7 is done.\n",
            "4920400  covert to base 2 3 5 7 is done.\n",
            "4665262  covert to base 2 3 5 7 is done.\n",
            "4914148  covert to base 2 3 5 7 is done.\n",
            "4867410  covert to base 2 3 5 7 is done.\n",
            "4922464  covert to base 2 3 5 7 is done.\n",
            "4653712  covert to base 2 3 5 7 is done.\n",
            "4234636  covert to base 2 3 5 7 is done.\n",
            "4561362  covert to base 2 3 5 7 is done.\n",
            "4951794  covert to base 2 3 5 7 is done.\n",
            "4037074  covert to base 2 3 5 7 is done.\n",
            "4622606  covert to base 2 3 5 7 is done.\n",
            "4270436  covert to base 2 3 5 7 is done.\n",
            "4706630  covert to base 2 3 5 7 is done.\n",
            "4019078  covert to base 2 3 5 7 is done.\n",
            "4788616  covert to base 2 3 5 7 is done.\n",
            "4439012  covert to base 2 3 5 7 is done.\n",
            "4347996  covert to base 2 3 5 7 is done.\n",
            "merge number  15886  is done.\n",
            "merge number  34817  is done.\n",
            "merge number  16372  is done.\n",
            "merge number  15623  is done.\n",
            "merge number  14977  is done.\n",
            "merge number  16346  is done.\n",
            "merge number  17037  is done.\n",
            "merge number  13108  is done.\n",
            "merge number  30918  is done.\n",
            "merge number  31204  is done.\n",
            "merge number  31307  is done.\n",
            "merge number  23276  is done.\n",
            "merge number  27127  is done.\n",
            "merge number  15154  is done.\n",
            "merge number  30274  is done.\n",
            "merge number  15798  is done.\n",
            "merge number  19410  is done.\n",
            "merge number  14594  is done.\n",
            "merge number  13996  is done.\n",
            "merge number  14832  is done.\n",
            "merge number  14997  is done.\n",
            "merge number  14047  is done.\n",
            "merge number  26490  is done.\n",
            "merge number  31717  is done.\n",
            "merge number  29963  is done.\n",
            "merge number  15340  is done.\n",
            "merge number  17861  is done.\n",
            "merge number  13763  is done.\n",
            "merge number  28364  is done.\n",
            "merge number  31284  is done.\n",
            "merge number  17657  is done.\n",
            "merge number  22961  is done.\n",
            "merge number  19071  is done.\n",
            "merge number  20936  is done.\n",
            "merge number  18098  is done.\n",
            "merge number  15673  is done.\n",
            "merge number  42050  is done.\n",
            "merge number  15845  is done.\n",
            "merge number  18648  is done.\n",
            "merge number  16566  is done.\n",
            "merge number  32717  is done.\n",
            "merge number  34670  is done.\n",
            "merge number  13302  is done.\n",
            "merge number  16070  is done.\n",
            "merge number  14456  is done.\n",
            "merge number  20215  is done.\n",
            "merge number  15871  is done.\n",
            "merge number  18535  is done.\n",
            "merge number  14357  is done.\n",
            "merge number  28296  is done.\n"
          ]
        }
      ]
    },
    {
      "cell_type": "code",
      "source": [
        "mergedArray = np.array(mergedTestNumber)\n",
        "mergedLabel = np.array(mergedTestLabel)"
      ],
      "metadata": {
        "id": "NqG32lBzKND0"
      },
      "execution_count": 8,
      "outputs": []
    },
    {
      "cell_type": "code",
      "source": [
        "evaluation = model.evaluate(mergedArray, mergedLabel)\n",
        "XNewData = testDataNumbers, testDataLabel\n",
        "print (\"Loss:\", evaluation[0])\n",
        "print (\"Accuracy:\", evaluation[1])\n",
        "print (\"##########################\")\n",
        "predictions = model.predict(mergedArray)"
      ],
      "metadata": {
        "colab": {
          "base_uri": "https://localhost:8080/"
        },
        "id": "Jn3qRRzIKwVH",
        "outputId": "15eb213a-bce0-4a36-f689-ddd912dbc5a7"
      },
      "execution_count": 9,
      "outputs": [
        {
          "output_type": "stream",
          "name": "stdout",
          "text": [
            "2/2 [==============================] - 0s 11ms/step - loss: 54779140.0000 - accuracy: 0.0000e+00\n",
            "Loss: 54779140.0\n",
            "Accuracy: 0.0\n",
            "##########################\n",
            "2/2 [==============================] - 0s 6ms/step\n"
          ]
        }
      ]
    },
    {
      "cell_type": "code",
      "source": [
        "print (f\"測試五十筆資料\")\n",
        "roundPredictions = np.round(predictions)\n",
        "for index, number in enumerate(testDataNumbers):\n",
        "  print (f\"第{index}筆資料為數字:\\t{number}\\t|正確答案為:{testDataLabel[index]}\\t模型預估為{predictions[index]}, 四捨五入到{roundPredictions[index]}\")\n"
      ],
      "metadata": {
        "colab": {
          "base_uri": "https://localhost:8080/"
        },
        "id": "aBJHTke7LvXm",
        "outputId": "f642d389-8b7e-4f11-afd9-8d0f1b1fc5f3"
      },
      "execution_count": 10,
      "outputs": [
        {
          "output_type": "stream",
          "name": "stdout",
          "text": [
            "測試五十筆資料\n",
            "第0筆資料為數字:\t4234636\t|正確答案為:16566\t模型預估為[22664.182], 四捨五入到[22664.]\n",
            "第1筆資料為數字:\t4010118\t|正確答案為:31717\t模型預估為[21441.32], 四捨五入到[21441.]\n",
            "第2筆資料為數字:\t4291942\t|正確答案為:14594\t模型預估為[21118.662], 四捨五入到[21119.]\n",
            "第3筆資料為數字:\t4151108\t|正確答案為:14832\t模型預估為[23718.107], 四捨五入到[23718.]\n",
            "第4筆資料為數字:\t4914148\t|正確答案為:15673\t模型預估為[23024.959], 四捨五入到[23025.]\n",
            "第5筆資料為數字:\t4634032\t|正確答案為:16346\t模型預估為[23052.361], 四捨五入到[23052.]\n",
            "第6筆資料為數字:\t4010462\t|正確答案為:13108\t模型預估為[21274.857], 四捨五入到[21275.]\n",
            "第7筆資料為數字:\t4665262\t|正確答案為:18098\t模型預估為[20329.607], 四捨五入到[20330.]\n",
            "第8筆資料為數字:\t4874538\t|正確答案為:31284\t模型預估為[23971.713], 四捨五入到[23972.]\n",
            "第9筆資料為數字:\t4867410\t|正確答案為:42050\t模型預估為[21465.465], 四捨五入到[21465.]\n",
            "第10筆資料為數字:\t4769998\t|正確答案為:15623\t模型預估為[24177.658], 四捨五入到[24178.]\n",
            "第11筆資料為數字:\t4550968\t|正確答案為:15886\t模型預估為[24126.963], 四捨五入到[24127.]\n",
            "第12筆資料為數字:\t4324986\t|正確答案為:28364\t模型預估為[20886.908], 四捨五入到[20887.]\n",
            "第13筆資料為數字:\t4306378\t|正確答案為:14047\t模型預估為[23443.396], 四捨五入到[23443.]\n",
            "第14筆資料為數字:\t4657756\t|正確答案為:14997\t模型預估為[22157.357], 四捨五入到[22157.]\n",
            "第15筆資料為數字:\t4948220\t|正確答案為:22961\t模型預估為[21532.3], 四捨五入到[21532.]\n",
            "第16筆資料為數字:\t4622606\t|正確答案為:16070\t模型預估為[22462.553], 四捨五入到[22463.]\n",
            "第17筆資料為數字:\t4037074\t|正確答案為:13302\t模型預估為[21605.217], 四捨五入到[21605.]\n",
            "第18筆資料為數字:\t4264618\t|正確答案為:13996\t模型預估為[21457.18], 四捨五入到[21457.]\n",
            "第19筆資料為數字:\t4019078\t|正確答案為:15871\t模型預估為[20973.645], 四捨五入到[20974.]\n",
            "第20筆資料為數字:\t4922464\t|正確答案為:15845\t模型預估為[23192.58], 四捨五入到[23193.]\n",
            "第21筆資料為數字:\t4561362\t|正確答案為:32717\t模型預估為[21697.443], 四捨五入到[21697.]\n",
            "第22筆資料為數字:\t4263072\t|正確答案為:31204\t模型預估為[20448.033], 四捨五入到[20448.]\n",
            "第23筆資料為數字:\t4477430\t|正確答案為:19410\t模型預估為[20373.25], 四捨五入到[20373.]\n",
            "第24筆資料為數字:\t4817322\t|正確答案為:30918\t模型預估為[22843.527], 四捨五入到[22844.]\n",
            "第25筆資料為數字:\t4870030\t|正確答案為:23276\t模型預估為[23631.502], 四捨五入到[23632.]\n",
            "第26筆資料為數字:\t4282102\t|正確答案為:15798\t模型預估為[23968.057], 四捨五入到[23968.]\n",
            "第27筆資料為數字:\t4874976\t|正確答案為:31307\t模型預估為[21064.473], 四捨五入到[21064.]\n",
            "第28筆資料為數字:\t4706630\t|正確答案為:20215\t模型預估為[21643.287], 四捨五入到[21643.]\n",
            "第29筆資料為數字:\t4215008\t|正確答案為:17037\t模型預估為[24190.031], 四捨五入到[24190.]\n",
            "第30筆資料為數字:\t4023648\t|正確答案為:26490\t模型預估為[20477.324], 四捨五入到[20477.]\n",
            "第31筆資料為數字:\t4270436\t|正確答案為:14456\t模型預估為[24457.72], 四捨五入到[24458.]\n",
            "第32筆資料為數字:\t4833296\t|正確答案為:17861\t模型預估為[23741.6], 四捨五入到[23742.]\n",
            "第33筆資料為數字:\t4047740\t|正確答案為:17657\t模型預估為[24355.146], 四捨五入到[24355.]\n",
            "第34筆資料為數字:\t4737856\t|正確答案為:15340\t模型預估為[23251.838], 四捨五入到[23252.]\n",
            "第35筆資料為數字:\t4653712\t|正確答案為:18648\t模型預估為[24243.572], 四捨五入到[24244.]\n",
            "第36筆資料為數字:\t4170488\t|正確答案為:16372\t模型預估為[24109.791], 四捨五入到[24110.]\n",
            "第37筆資料為數字:\t4264218\t|正確答案為:34817\t模型預估為[24384.34], 四捨五入到[24384.]\n",
            "第38筆資料為數字:\t4166062\t|正確答案為:13763\t模型預估為[23152.775], 四捨五入到[23153.]\n",
            "第39筆資料為數字:\t4951794\t|正確答案為:34670\t模型預估為[21350.646], 四捨五入到[21351.]\n",
            "第40筆資料為數字:\t4790492\t|正確答案為:19071\t模型預估為[22815.635], 四捨五入到[22816.]\n",
            "第41筆資料為數字:\t4604856\t|正確答案為:29963\t模型預估為[24509.232], 四捨五入到[24509.]\n",
            "第42筆資料為數字:\t4704764\t|正確答案為:15154\t模型預估為[20535.865], 四捨五入到[20536.]\n",
            "第43筆資料為數字:\t4411002\t|正確答案為:30274\t模型預估為[23115.746], 四捨五入到[23116.]\n",
            "第44筆資料為數字:\t4347996\t|正確答案為:28296\t模型預估為[21520.967], 四捨五入到[21521.]\n",
            "第45筆資料為數字:\t4439012\t|正確答案為:14357\t模型預估為[23361.197], 四捨五入到[23361.]\n",
            "第46筆資料為數字:\t4628068\t|正確答案為:14977\t模型預估為[20411.232], 四捨五入到[20411.]\n",
            "第47筆資料為數字:\t4788616\t|正確答案為:18535\t模型預估為[23788.53], 四捨五入到[23789.]\n",
            "第48筆資料為數字:\t4158576\t|正確答案為:27127\t模型預估為[22263.936], 四捨五入到[22264.]\n",
            "第49筆資料為數字:\t4920400\t|正確答案為:20936\t模型預估為[21863.35], 四捨五入到[21863.]\n"
          ]
        }
      ]
    },
    {
      "cell_type": "code",
      "source": [
        "print (\"\\t正確答案  \"  , \"\\t/\" ,\"  \\t模型預測\")\n",
        "for index, number in enumerate(testDataNumbers):\n",
        "  print (f\"{index}\\t{testDataLabel[index]}  \\t\\t/  \\t{roundPredictions[index]} = {testDataLabel[index]/roundPredictions[index]} \")\n",
        "print (\"###########################################################################\")\n",
        "\n",
        "print (\"\\t正確答案  \"  , \"\\t-\" ,\"  \\t模型預測\")\n",
        "for index, number in enumerate(testDataNumbers):\n",
        "  print (f\"{index}\\t{testDataLabel[index]}  \\t\\t-  \\t{roundPredictions[index]} = {testDataLabel[index]-roundPredictions[index]} \")"
      ],
      "metadata": {
        "colab": {
          "base_uri": "https://localhost:8080/"
        },
        "id": "U88QnsT5L0ol",
        "outputId": "f528d754-afbd-413d-b2e0-a0d8c638dd74"
      },
      "execution_count": 11,
      "outputs": [
        {
          "output_type": "stream",
          "name": "stdout",
          "text": [
            "\t正確答案   \t/   \t模型預測\n",
            "0\t16566  \t\t/  \t[22664.] = [0.7309389] \n",
            "1\t31717  \t\t/  \t[21441.] = [1.4792687] \n",
            "2\t14594  \t\t/  \t[21119.] = [0.6910365] \n",
            "3\t14832  \t\t/  \t[23718.] = [0.62534785] \n",
            "4\t15673  \t\t/  \t[23025.] = [0.6806949] \n",
            "5\t16346  \t\t/  \t[23052.] = [0.7090925] \n",
            "6\t13108  \t\t/  \t[21275.] = [0.6161222] \n",
            "7\t18098  \t\t/  \t[20330.] = [0.8902115] \n",
            "8\t31284  \t\t/  \t[23972.] = [1.3050225] \n",
            "9\t42050  \t\t/  \t[21465.] = [1.959003] \n",
            "10\t15623  \t\t/  \t[24178.] = [0.6461659] \n",
            "11\t15886  \t\t/  \t[24127.] = [0.6584325] \n",
            "12\t28364  \t\t/  \t[20887.] = [1.3579738] \n",
            "13\t14047  \t\t/  \t[23443.] = [0.59919804] \n",
            "14\t14997  \t\t/  \t[22157.] = [0.6768516] \n",
            "15\t22961  \t\t/  \t[21532.] = [1.0663663] \n",
            "16\t16070  \t\t/  \t[22463.] = [0.71539867] \n",
            "17\t13302  \t\t/  \t[21605.] = [0.6156908] \n",
            "18\t13996  \t\t/  \t[21457.] = [0.6522813] \n",
            "19\t15871  \t\t/  \t[20974.] = [0.7566988] \n",
            "20\t15845  \t\t/  \t[23193.] = [0.6831803] \n",
            "21\t32717  \t\t/  \t[21697.] = [1.5079043] \n",
            "22\t31204  \t\t/  \t[20448.] = [1.5260172] \n",
            "23\t19410  \t\t/  \t[20373.] = [0.95273155] \n",
            "24\t30918  \t\t/  \t[22844.] = [1.3534408] \n",
            "25\t23276  \t\t/  \t[23632.] = [0.9849357] \n",
            "26\t15798  \t\t/  \t[23968.] = [0.65912884] \n",
            "27\t31307  \t\t/  \t[21064.] = [1.48628] \n",
            "28\t20215  \t\t/  \t[21643.] = [0.9340202] \n",
            "29\t17037  \t\t/  \t[24190.] = [0.7042993] \n",
            "30\t26490  \t\t/  \t[20477.] = [1.2936466] \n",
            "31\t14456  \t\t/  \t[24458.] = [0.591054] \n",
            "32\t17861  \t\t/  \t[23742.] = [0.7522955] \n",
            "33\t17657  \t\t/  \t[24355.] = [0.7249846] \n",
            "34\t15340  \t\t/  \t[23252.] = [0.65972817] \n",
            "35\t18648  \t\t/  \t[24244.] = [0.76918] \n",
            "36\t16372  \t\t/  \t[24110.] = [0.6790543] \n",
            "37\t34817  \t\t/  \t[24384.] = [1.4278625] \n",
            "38\t13763  \t\t/  \t[23153.] = [0.594437] \n",
            "39\t34670  \t\t/  \t[21351.] = [1.6238115] \n",
            "40\t19071  \t\t/  \t[22816.] = [0.8358608] \n",
            "41\t29963  \t\t/  \t[24509.] = [1.2225305] \n",
            "42\t15154  \t\t/  \t[20536.] = [0.7379236] \n",
            "43\t30274  \t\t/  \t[23116.] = [1.3096557] \n",
            "44\t28296  \t\t/  \t[21521.] = [1.3148088] \n",
            "45\t14357  \t\t/  \t[23361.] = [0.6145713] \n",
            "46\t14977  \t\t/  \t[20411.] = [0.733771] \n",
            "47\t18535  \t\t/  \t[23789.] = [0.7791416] \n",
            "48\t27127  \t\t/  \t[22264.] = [1.2184243] \n",
            "49\t20936  \t\t/  \t[21863.] = [0.9575996] \n",
            "###########################################################################\n",
            "\t正確答案   \t-   \t模型預測\n",
            "0\t16566  \t\t-  \t[22664.] = [-6098.] \n",
            "1\t31717  \t\t-  \t[21441.] = [10276.] \n",
            "2\t14594  \t\t-  \t[21119.] = [-6525.] \n",
            "3\t14832  \t\t-  \t[23718.] = [-8886.] \n",
            "4\t15673  \t\t-  \t[23025.] = [-7352.] \n",
            "5\t16346  \t\t-  \t[23052.] = [-6706.] \n",
            "6\t13108  \t\t-  \t[21275.] = [-8167.] \n",
            "7\t18098  \t\t-  \t[20330.] = [-2232.] \n",
            "8\t31284  \t\t-  \t[23972.] = [7312.] \n",
            "9\t42050  \t\t-  \t[21465.] = [20585.] \n",
            "10\t15623  \t\t-  \t[24178.] = [-8555.] \n",
            "11\t15886  \t\t-  \t[24127.] = [-8241.] \n",
            "12\t28364  \t\t-  \t[20887.] = [7477.] \n",
            "13\t14047  \t\t-  \t[23443.] = [-9396.] \n",
            "14\t14997  \t\t-  \t[22157.] = [-7160.] \n",
            "15\t22961  \t\t-  \t[21532.] = [1429.] \n",
            "16\t16070  \t\t-  \t[22463.] = [-6393.] \n",
            "17\t13302  \t\t-  \t[21605.] = [-8303.] \n",
            "18\t13996  \t\t-  \t[21457.] = [-7461.] \n",
            "19\t15871  \t\t-  \t[20974.] = [-5103.] \n",
            "20\t15845  \t\t-  \t[23193.] = [-7348.] \n",
            "21\t32717  \t\t-  \t[21697.] = [11020.] \n",
            "22\t31204  \t\t-  \t[20448.] = [10756.] \n",
            "23\t19410  \t\t-  \t[20373.] = [-963.] \n",
            "24\t30918  \t\t-  \t[22844.] = [8074.] \n",
            "25\t23276  \t\t-  \t[23632.] = [-356.] \n",
            "26\t15798  \t\t-  \t[23968.] = [-8170.] \n",
            "27\t31307  \t\t-  \t[21064.] = [10243.] \n",
            "28\t20215  \t\t-  \t[21643.] = [-1428.] \n",
            "29\t17037  \t\t-  \t[24190.] = [-7153.] \n",
            "30\t26490  \t\t-  \t[20477.] = [6013.] \n",
            "31\t14456  \t\t-  \t[24458.] = [-10002.] \n",
            "32\t17861  \t\t-  \t[23742.] = [-5881.] \n",
            "33\t17657  \t\t-  \t[24355.] = [-6698.] \n",
            "34\t15340  \t\t-  \t[23252.] = [-7912.] \n",
            "35\t18648  \t\t-  \t[24244.] = [-5596.] \n",
            "36\t16372  \t\t-  \t[24110.] = [-7738.] \n",
            "37\t34817  \t\t-  \t[24384.] = [10433.] \n",
            "38\t13763  \t\t-  \t[23153.] = [-9390.] \n",
            "39\t34670  \t\t-  \t[21351.] = [13319.] \n",
            "40\t19071  \t\t-  \t[22816.] = [-3745.] \n",
            "41\t29963  \t\t-  \t[24509.] = [5454.] \n",
            "42\t15154  \t\t-  \t[20536.] = [-5382.] \n",
            "43\t30274  \t\t-  \t[23116.] = [7158.] \n",
            "44\t28296  \t\t-  \t[21521.] = [6775.] \n",
            "45\t14357  \t\t-  \t[23361.] = [-9004.] \n",
            "46\t14977  \t\t-  \t[20411.] = [-5434.] \n",
            "47\t18535  \t\t-  \t[23789.] = [-5254.] \n",
            "48\t27127  \t\t-  \t[22264.] = [4863.] \n",
            "49\t20936  \t\t-  \t[21863.] = [-927.] \n"
          ]
        }
      ]
    },
    {
      "cell_type": "code",
      "source": [
        "def calculate_mse(predictions, targets):\n",
        "    \"\"\"\n",
        "    計算均方誤差 (MSE)\n",
        "\n",
        "    參數:\n",
        "    predictions: 預測值的列表或陣列\n",
        "    targets: 實際值的列表或陣列，與預測值對應\n",
        "\n",
        "    返回值:\n",
        "    mse: 均方誤差\n",
        "    \"\"\"\n",
        "    # 確保預測值和實際值的長度相等\n",
        "    if len(predictions) != len(targets):\n",
        "        raise ValueError(\"預測值和實際值的長度不一致\")\n",
        "\n",
        "    # 計算平方誤差\n",
        "    squared_errors = [(p - t) ** 2 for p, t in zip(predictions, targets)]\n",
        "\n",
        "    # 計算均方誤差\n",
        "    mse = sum(squared_errors) / len(predictions)\n",
        "\n",
        "    return mse\n",
        "\n",
        "# 使用 LN\n",
        "mse_result = calculate_mse(roundPredictions, testDataLabel)\n",
        "\n",
        "# 使用 MLP(old)\n",
        "#mse_result = calculate_mse(predictions, testDataPartition)\n",
        "\n",
        "print(\"均方誤差 (MSE):\", mse_result)\n"
      ],
      "metadata": {
        "id": "48aQwcS1L_Di",
        "colab": {
          "base_uri": "https://localhost:8080/"
        },
        "outputId": "0a9b691b-28c8-40ad-ec18-7537a78487c4"
      },
      "execution_count": 13,
      "outputs": [
        {
          "output_type": "stream",
          "name": "stdout",
          "text": [
            "均方誤差 (MSE): [62020568.]\n"
          ]
        }
      ]
    },
    {
      "cell_type": "code",
      "source": [
        "testData.info()"
      ],
      "metadata": {
        "colab": {
          "base_uri": "https://localhost:8080/"
        },
        "id": "t-PmGXl3j9yC",
        "outputId": "e0b8d9eb-996c-4030-f042-afe6c4ce948a"
      },
      "execution_count": 15,
      "outputs": [
        {
          "output_type": "stream",
          "name": "stdout",
          "text": [
            "<class 'pandas.core.frame.DataFrame'>\n",
            "RangeIndex: 50 entries, 0 to 49\n",
            "Data columns (total 2 columns):\n",
            " #   Column   Non-Null Count  Dtype\n",
            "---  ------   --------------  -----\n",
            " 0   Number   50 non-null     int64\n",
            " 1   Factors  50 non-null     int64\n",
            "dtypes: int64(2)\n",
            "memory usage: 928.0 bytes\n"
          ]
        }
      ]
    },
    {
      "cell_type": "code",
      "source": [
        "import math\n",
        "mean = testData['Factors'].mean()\n",
        "\n",
        "#+N MSE\n",
        "MSE = int(calculate_mse(roundPredictions, testDataLabel))\n",
        "\n",
        "#MLP MSE\n",
        "# MSE = int(calculate_mse(predictions, testDataPartition))\n",
        "\n",
        "RMSE= math.sqrt(MSE)\n",
        "errorRate = RMSE/mean\n",
        "\n",
        "print (f\"MSE : {MSE}\\nRMSE : {RMSE}\\nError Rate : {errorRate}  ->  {round(errorRate,7)*100}%\")"
      ],
      "metadata": {
        "colab": {
          "base_uri": "https://localhost:8080/"
        },
        "id": "XIx4k7MdjeAZ",
        "outputId": "c2782564-9f01-41f2-b594-a54c24afb762"
      },
      "execution_count": 17,
      "outputs": [
        {
          "output_type": "stream",
          "name": "stdout",
          "text": [
            "MSE : 62020568\n",
            "RMSE : 7875.3138350163545\n",
            "Error Rate : 0.37434611280304686  ->  37.43461%\n"
          ]
        },
        {
          "output_type": "stream",
          "name": "stderr",
          "text": [
            "<ipython-input-17-b1f4c19fa9ab>:5: DeprecationWarning: Conversion of an array with ndim > 0 to a scalar is deprecated, and will error in future. Ensure you extract a single element from your array before performing this operation. (Deprecated NumPy 1.25.)\n",
            "  MSE = int(calculate_mse(roundPredictions, testDataLabel))\n"
          ]
        }
      ]
    },
    {
      "cell_type": "code",
      "source": [],
      "metadata": {
        "id": "qjrvRDJvjuRI"
      },
      "execution_count": null,
      "outputs": []
    }
  ]
}