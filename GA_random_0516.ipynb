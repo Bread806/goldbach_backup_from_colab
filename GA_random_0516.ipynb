{
  "cells": [
    {
      "cell_type": "markdown",
      "metadata": {
        "id": "view-in-github",
        "colab_type": "text"
      },
      "source": [
        "<a href=\"https://colab.research.google.com/github/Bread806/goldbach_backup_from_colab/blob/main/GA_random_0516.ipynb\" target=\"_parent\"><img src=\"https://colab.research.google.com/assets/colab-badge.svg\" alt=\"Open In Colab\"/></a>"
      ]
    },
    {
      "cell_type": "markdown",
      "metadata": {
        "id": "_zQSP_MgBxlW"
      },
      "source": [
        "## import"
      ]
    },
    {
      "cell_type": "code",
      "execution_count": null,
      "metadata": {
        "id": "ppZlamsCBwyX"
      },
      "outputs": [],
      "source": [
        "import csv\n",
        "import pandas as pd\n",
        "import numpy as np\n",
        "import random\n",
        "import time\n",
        "import bisect\n",
        "from itertools import chain"
      ]
    },
    {
      "cell_type": "code",
      "execution_count": null,
      "metadata": {
        "colab": {
          "base_uri": "https://localhost:8080/"
        },
        "id": "f-V_py0jB2mt",
        "outputId": "0c51dd89-bf14-4717-89ed-f03e3abbf58c"
      },
      "outputs": [
        {
          "output_type": "stream",
          "name": "stdout",
          "text": [
            "Mounted at /content/Drive\n"
          ]
        }
      ],
      "source": [
        "from google.colab import drive\n",
        "drive.mount(\"/content/Drive\")"
      ]
    },
    {
      "cell_type": "markdown",
      "metadata": {
        "id": "OUIYE8Z4BA9h"
      },
      "source": [
        "## 讀 prime table"
      ]
    },
    {
      "cell_type": "code",
      "execution_count": null,
      "metadata": {
        "colab": {
          "base_uri": "https://localhost:8080/"
        },
        "id": "xqWrhEnwAwbm",
        "outputId": "2bfcfffc-10cb-439b-a94f-432560844994"
      },
      "outputs": [
        {
          "output_type": "stream",
          "name": "stdout",
          "text": [
            "---loading primes table---\n"
          ]
        }
      ],
      "source": [
        "# loadding prime table\n",
        "primeTable = pd.read_csv(\"/content/Drive/MyDrive/實驗/goldbach/csv/prime_table_5000000.csv\")\n",
        "primeTableNumber = primeTable[\"primes\"].values\n",
        "print (\"---loading primes table---\")"
      ]
    },
    {
      "cell_type": "markdown",
      "metadata": {
        "id": "NMNoY-djExFj"
      },
      "source": [
        "## 讀goldbach table"
      ]
    },
    {
      "cell_type": "code",
      "execution_count": null,
      "metadata": {
        "id": "TrA0a_LfEwl6"
      },
      "outputs": [],
      "source": [
        "goldBachTable = pd.read_csv(\"/content/Drive/MyDrive/實驗/goldbach/csv/traindata_min_size_1000.csv\")\n",
        "goldBachNumber = list(goldBachTable[\"Number\"])\n",
        "goldBachPartitions = list(goldBachTable[\"Factors\"])"
      ]
    },
    {
      "cell_type": "code",
      "execution_count": null,
      "metadata": {
        "id": "xFi4Pro3B8rC"
      },
      "outputs": [],
      "source": [
        "def IsPrime(num):\n",
        "    \"\"\"檢查一個數字是否為質數\"\"\"\n",
        "    return num in set(primeTableNumber)\n",
        "\n",
        "def GoldbachResult(n):\n",
        "  ans = 0\n",
        "  for i in range(2,int(n/2)):\n",
        "    if (IsPrime(i) and IsPrime(n-i)):\n",
        "      ans = ans+1\n",
        "  return ans\n",
        "\n",
        "def RandomInt(K):\n",
        "  random_num = random.sample(range(K),10)\n",
        "  return random_num\n",
        "\n",
        "def RandomChoice(number,found,each_time):\n",
        "  copy_list = list(set(primeTableNumber) - set(found))\n",
        "  value_list = [n for n in copy_list if n<number]\n",
        "  return random.sample(value_list, each_time)\n",
        "\n",
        "def GA(number):\n",
        "\n",
        "  found = []\n",
        "  counter = 0\n",
        "  total = int(number/25) #random  1/200\n",
        "  epoch = 5\n",
        "  each_time = int(total/5)\n",
        "\n",
        "  for e in range(epoch):\n",
        "    random_value = RandomChoice(number,found,each_time)\n",
        "    print (f\"random_value : {random_value} / \\n  each_time : {each_time}\")\n",
        "    for t in range(each_time):\n",
        "      # if (t%10 == 0): print(f\"each_time : {t} / epoch : {e}\")\n",
        "      if (IsPrime(number - random_value[t])):\n",
        "        # 計數+1\n",
        "        counter = counter+1\n",
        "\n",
        "        # 已找到的數另外剔除\n",
        "        found.append(random_value[t])\n",
        "        found.append(number - random_value[t])\n",
        "\n",
        "        if (t%10 == 0):\n",
        "          print(f\"current : (epch){e}, (each_time){t}  /number of t : {random_value[t]} / current num : {number}\")\n",
        "  return counter\n",
        "\n",
        "def G4(n) -> int:\n",
        "  return int((n / np.log((n/2))**2)+0.5)\n",
        "\n",
        "### new zone\n",
        "\n",
        "def SplitDigit(num):\n",
        "  digitList = [int(d) for d in str(num)]\n",
        "  digitList = [0] * (7 - len(digitList)) + digitList #百萬\n",
        "  return digitList\n"
      ]
    },
    {
      "cell_type": "markdown",
      "metadata": {
        "id": "D_Hg7YAzEIWG"
      },
      "source": [
        "## heuristic random"
      ]
    },
    {
      "cell_type": "markdown",
      "source": [
        "###note:\n",
        "evaluation 的時候需要有一個解，比如說\n",
        "a + 2b + 3c + 4d = 30 這個問題，f(x) = ((a + 2b + 3c + 4d) - 30)<br>\n",
        "同樣G4是不是也要有一個這樣的方法？<br>\n",
        "G4(x) = ... = 25 ， 所以 G4(x) = ... - 25<br>\n",
        "G4(10000) = n/(np.log(n/2))**2 = 138"
      ],
      "metadata": {
        "id": "Bqv5wD3x0hKb"
      }
    },
    {
      "cell_type": "markdown",
      "source": [
        "## 0522<br>\n",
        "GA"
      ],
      "metadata": {
        "id": "pYygrEsJt6yA"
      }
    },
    {
      "cell_type": "code",
      "source": [
        "import bisect"
      ],
      "metadata": {
        "id": "UsLNoIsNwoEs"
      },
      "execution_count": null,
      "outputs": []
    },
    {
      "cell_type": "code",
      "source": [
        "target = 100000 # random choice in goldbach number\n",
        "pair = []\n",
        "primes = list(FindPrimeListLessThanNumber(target))\n",
        "mutaionRate = 0.05"
      ],
      "metadata": {
        "id": "vYT3znPT_Vns"
      },
      "execution_count": null,
      "outputs": []
    },
    {
      "cell_type": "code",
      "source": [
        "def SplitDigit(numList):\n",
        "  digitList = []\n",
        "  for i in numList:\n",
        "    tmp = [int(d) for d in str(i)]\n",
        "    tmp = ([0] * (7 - len(tmp))) + tmp #百萬tmp\n",
        "    digitList.append(tmp)\n",
        "  return digitList\n",
        "\n",
        "def JoinDigit(num):\n",
        "  \"\"\"\n",
        "  將數字列表合併成一個數字。\n",
        "\n",
        "  Args:\n",
        "  digits: 要合併的數字列表。\n",
        "\n",
        "  Returns:\n",
        "  合併後的數字。\n",
        "  \"\"\"\n",
        "  print (f\"num = {num}\")\n",
        "  digitList = []\n",
        "  for item in num:\n",
        "    print (f\"item : {item}\")\n",
        "    tmp= int(''.join(map(str, item)))\n",
        "    digitList.append(tmp)\n",
        "  return digitList\n",
        "\n",
        "def FindPrimeListLessThanNumber(n):\n",
        "  \"\"\"\n",
        "  建立一個質數表，該質數表最大數字為n\n",
        "  \"\"\"\n",
        "  index = bisect.bisect_left(primeTableNumber, n)\n",
        "  return primeTableNumber[:index]\n",
        "\n",
        "def IsPrime(num):\n",
        "    \"\"\"檢查一個數字是否為質數\"\"\"\n",
        "    return num in set(primeTableNumber)\n",
        "\n",
        "def InitChromosome(target):\n",
        "  \"\"\"\n",
        "  從小於n的質數表中抽取10分之1個數\n",
        "  \"\"\"\n",
        "  total = int(len(primes)/10 + 0.5)\n",
        "  population = random.sample(primes, total)\n",
        "  return (population)\n",
        "\n",
        "def Evaluation(chromesome):\n",
        "  \"\"\"\n",
        "  演化。演化的方法是確認是否為質數\n",
        "  確認目前的 chromosome 所有的數字（item）與目標之差（target - item）是否為質數\n",
        "  \"\"\"\n",
        "  elite = []\n",
        "  for item in chromesome :\n",
        "    tmp = target - item\n",
        "    if (IsPrime(tmp) and IsPrime(item)):\n",
        "      elite.append(item)\n",
        "      elite.append(tmp)\n",
        "  return elite\n",
        "\n",
        "def CrossOver(inferior_chromesome, elite):\n",
        "  \"\"\"\n",
        "  交配。\n",
        "  將數字拆成一個個digits\n",
        "  再把數字A[0000397] 跟 B[0015987] 奇數偶數位置交叉成 -> C[0005387]\n",
        "  不斷交叉取代上一代的 chromosome\n",
        "  \"\"\"\n",
        "  new_chromosome = []\n",
        "  highest_digit = 7 - len(str(target))\n",
        "  cross_over_times = len(elite) if len(elite) < len(inferior_chromesome) else len(inferior_chromesome)\n",
        "  inferior_chromesome = SplitDigit(inferior_chromesome)\n",
        "  elite = SplitDigit(elite)\n",
        "\n",
        "  for i in range(cross_over_times):\n",
        "    #A[0000397] B[0015987] -> C[0005387] 算到最高位，然後奇偶抄進child\n",
        "    child = inferior_chromesome[i][:highest_digit]\n",
        "\n",
        "    while(len(child) < 7):\n",
        "      if (len(child) % 2 == 1):\n",
        "        child = child + [elite[i][len(child)]]\n",
        "      else:\n",
        "        child = child + [inferior_chromesome[i][len(child)]]\n",
        "    new_chromosome.append(child)\n",
        "\n",
        "  # 如果數字不夠就 padding\n",
        "  print (f\"new_chromosome = {new_chromosome}\")\n",
        "  total = int(len(primes)/10 + 0.5)\n",
        "  if (len(new_chromosome) < total):\n",
        "    gen_chromosome = random.sample(primes, total - len(new_chromosome))\n",
        "    new_chromosome = list(list(new_chromosome) + SplitDigit(gen_chromosome))\n",
        "\n",
        "  print (f\"gen_chromosome is {gen_chromosome}\")\n",
        "  new_chromosome = JoinDigit(new_chromosome)\n",
        "  return new_chromosome\n",
        "\n",
        "def Mutaion(chromesome):\n",
        "  \"\"\"\n",
        "  如果隨機數小於 mutaionRate 則會將隨機一個位置的數字修改成 0-9 其中一個數字\n",
        "  \"\"\"\n",
        "  for i in range(len(chromesome)) :\n",
        "    if (random.random() < mutaionRate):\n",
        "      tmp = [int(d) for d in str(chromesome[i])]\n",
        "      tmp = ([0] * (7 - len(tmp))) + tmp #百萬tmp\n",
        "      print (f\"prepare to mutaion chromesome : {chromesome[i]} -> {tmp}\")\n",
        "      tmp[random.randint(0,6)] = random.randint(0,9)\n",
        "      chromesome[i] = int(''.join(map(str, tmp)))\n",
        "  return chromesome\n",
        "\n",
        "def UinqueData(array):\n",
        "  merged_list = list(chain.from_iterable(array))\n",
        "  unique_items = list(set(merged_list))\n",
        "  return unique_items"
      ],
      "metadata": {
        "id": "3oaoAv7auEEg"
      },
      "execution_count": 1,
      "outputs": []
    },
    {
      "cell_type": "code",
      "source": [
        "\"\"\"\n",
        "會迭代K次，K次之後\n",
        "partition的預測數量是elite的不重複個數\n",
        "\"\"\"\n",
        "chromosome = InitChromosome(target)\n",
        "print (f\"init chromosome : {chromosome}\")\n",
        "K = 10 # genetic iteration\n",
        "\n",
        "for i in range (K): # K is genetic iteration\n",
        "  elite = Evaluation(chromosome) # elite is of one goldbach pair\n",
        "  print (f\"elite : {elite}\")\n",
        "  pair.append(elite)\n",
        "  inferior_chromesome = list(set(chromosome) - set(elite))\n",
        "  chromosome = CrossOver(inferior_chromesome, elite)\n",
        "  chromosome = Mutaion(chromosome)\n",
        "  print (f\"iteration {i} choromsome is :{chromosome} and elite are {elite}\")\n",
        "\n",
        "pair = UinqueData(pair)\n",
        "print (f\"pair : {pair}\")"
      ],
      "metadata": {
        "id": "DdhjgVra0mP_"
      },
      "execution_count": null,
      "outputs": []
    },
    {
      "cell_type": "code",
      "source": [
        "print (len(pair))"
      ],
      "metadata": {
        "colab": {
          "base_uri": "https://localhost:8080/"
        },
        "id": "YMl4YzBLb7-s",
        "outputId": "e0eb9106-4e64-44b2-9d8a-5592bc57b827"
      },
      "execution_count": null,
      "outputs": [
        {
          "output_type": "stream",
          "name": "stdout",
          "text": [
            "1278\n"
          ]
        }
      ]
    },
    {
      "cell_type": "code",
      "source": [
        "from itertools import chain\n",
        "\n",
        "# 原始的雜亂陣列\n",
        "array = [[47, 53], [], [53, 47, 29, 71], [47, 53, 53, 47, 89, 11], [], [3, 97, 47, 53], [], [47, 53], [11, 89], [71, 29], [41, 59], [47, 53], [11, 89, 17, 83], [47, 53, 89, 11], [11, 89, 47, 53], [3, 97, 29, 71], [29, 71, 59, 41], [], [17, 83], [], [17, 83, 3, 97], [59, 41], [89, 11, 29, 71], [53, 47, 59, 41], [], [53, 47, 97, 3], [97, 3, 47, 53, 17, 83], [83, 17, 89, 11], [41, 59, 59, 41], [53, 47, 47, 53], [47, 53], [97, 3], [41, 59], [57, 43, 41, 59], [71, 29], [29, 71], [], [97, 3], [93, 7], [95, 5, 97, 3], [17, 83], [81, 19], [11, 89, 41, 59], [17, 83, 83, 17, 97, 3], [59, 41], [83, 17, 97, 3], [89, 11, 71, 29, 59, 41], [], [71, 29], [77, 23, 27, 73], [89, 11, 83, 17], [47, 53, 71, 29], [53, 47], [57, 43, 59, 41], [59, 41, 53, 47], [71, 29, 89, 11], [71, 29, 41, 59], [77, 23, 53, 47], [53, 47, 89, 11], [3, 97], [], [29, 71], [71, 29], [], [89, 11, 29, 71]]\n",
        "print(UinqueData(array))\n"
      ],
      "metadata": {
        "colab": {
          "base_uri": "https://localhost:8080/"
        },
        "id": "XuWGTKJ1uM6v",
        "outputId": "d88e38dc-0721-44bc-d9be-428308ef04eb"
      },
      "execution_count": null,
      "outputs": [
        {
          "output_type": "stream",
          "name": "stdout",
          "text": [
            "[3, 5, 7, 11, 17, 19, 23, 27, 29, 41, 43, 47, 53, 57, 59, 71, 73, 77, 81, 83, 89, 93, 95, 97]\n"
          ]
        }
      ]
    },
    {
      "cell_type": "code",
      "source": [
        "A = [1,3,5,7,9,11,13]\n",
        "B = [1,3,5]\n",
        "print (list(set(A)-set(B)))"
      ],
      "metadata": {
        "colab": {
          "base_uri": "https://localhost:8080/"
        },
        "id": "fLvt-oO7ulg9",
        "outputId": "dfe68cd8-0d45-4dd5-be3e-174f8e9b4969"
      },
      "execution_count": null,
      "outputs": [
        {
          "output_type": "stream",
          "name": "stdout",
          "text": [
            "[9, 11, 13, 7]\n"
          ]
        }
      ]
    },
    {
      "cell_type": "code",
      "source": [
        "A = [1,3,5,7]\n",
        "tmp= int(''.join(map(str, A)))\n",
        "print (tmp)"
      ],
      "metadata": {
        "id": "WRz5DsZZwhgV",
        "colab": {
          "base_uri": "https://localhost:8080/"
        },
        "outputId": "7dcf78d3-313a-4f8f-9d47-94431d48fe75"
      },
      "execution_count": null,
      "outputs": [
        {
          "output_type": "stream",
          "name": "stdout",
          "text": [
            "1357\n"
          ]
        }
      ]
    },
    {
      "cell_type": "code",
      "source": [
        "A  = [1,3,5,7,9]\n",
        "\n",
        "for i in range(len(A)) :\n",
        "  A[i] = A[i]+1\n",
        "print (A)"
      ],
      "metadata": {
        "colab": {
          "base_uri": "https://localhost:8080/"
        },
        "id": "IFWsgZh1ZY15",
        "outputId": "ee63a1ff-d9d1-4b3d-a9ed-691e85cd679c"
      },
      "execution_count": null,
      "outputs": [
        {
          "output_type": "stream",
          "name": "stdout",
          "text": [
            "[2, 4, 6, 8, 10]\n"
          ]
        }
      ]
    },
    {
      "cell_type": "code",
      "source": [],
      "metadata": {
        "id": "1TfW21Pzam3g"
      },
      "execution_count": null,
      "outputs": []
    }
  ],
  "metadata": {
    "colab": {
      "provenance": [],
      "authorship_tag": "ABX9TyOCVTtOYFWV72DdqzyczY4D",
      "include_colab_link": true
    },
    "kernelspec": {
      "display_name": "Python 3",
      "name": "python3"
    },
    "language_info": {
      "name": "python"
    }
  },
  "nbformat": 4,
  "nbformat_minor": 0
}