{
  "nbformat": 4,
  "nbformat_minor": 0,
  "metadata": {
    "colab": {
      "provenance": [],
      "authorship_tag": "ABX9TyOrIWkRDFu3uDspkX96VNUe",
      "include_colab_link": true
    },
    "kernelspec": {
      "name": "python3",
      "display_name": "Python 3"
    },
    "language_info": {
      "name": "python"
    }
  },
  "cells": [
    {
      "cell_type": "markdown",
      "metadata": {
        "id": "view-in-github",
        "colab_type": "text"
      },
      "source": [
        "<a href=\"https://colab.research.google.com/github/Bread806/goldbach_backup_from_colab/blob/main/goldbach_1213_MLP.ipynb\" target=\"_parent\"><img src=\"https://colab.research.google.com/assets/colab-badge.svg\" alt=\"Open In Colab\"/></a>"
      ]
    },
    {
      "cell_type": "markdown",
      "source": [
        "# Euler's Totient Function Values and partitions 的實驗\n",
        "This feature content last 50 partitions of Euler's Totient Function Values <br>\n",
        "leakyRelu batch_size = 1024<br>\n",
        "no normallized\n"
      ],
      "metadata": {
        "id": "O-1Ma6ex2-KZ"
      }
    },
    {
      "cell_type": "code",
      "source": [
        "from google.colab import drive\n",
        "drive.mount(\"/content/Drive\")"
      ],
      "metadata": {
        "colab": {
          "base_uri": "https://localhost:8080/"
        },
        "id": "wNYcmX52zpq7",
        "outputId": "3b375ccc-e0bc-4877-bc2a-0633b220cfba"
      },
      "execution_count": null,
      "outputs": [
        {
          "output_type": "stream",
          "name": "stdout",
          "text": [
            "Mounted at /content/Drive\n"
          ]
        }
      ]
    },
    {
      "cell_type": "code",
      "source": [
        "from tensorflow.keras.layers.experimental.preprocessing import TextVectorization\n",
        "from tensorflow.keras.layers import Embedding, Dense\n",
        "from tensorflow.keras.optimizers import Adam\n",
        "from tensorflow.keras.callbacks import EarlyStopping\n",
        "from tensorflow.keras import backend as keras\n",
        "from sklearn.model_selection import train_test_split\n",
        "from tensorflow.keras.utils import to_categorical\n",
        "from tensorflow.keras.layers import Dense, Flatten\n",
        "from tensorflow.keras.models import Sequential\n",
        "import pandas as pd\n",
        "import numpy as np\n",
        "import tensorflow as tf\n",
        "from sklearn.preprocessing import StandardScaler\n",
        "from tensorflow.keras.layers import LayerNormalization\n",
        "from random import choice, sample\n",
        "\n",
        "\n",
        "def is_prime(num):\n",
        "    \"\"\"檢查一個數字是否為質數\"\"\"\n",
        "    if num <= 1:\n",
        "        return False\n",
        "    sqr_num = int(num ** 0.5)\n",
        "    # for i in range(2, sqr_num+ 1):\n",
        "    for i in range(2, sqr_num+ 1):\n",
        "        if num % i == 0:\n",
        "            return False\n",
        "    return True\n",
        "\n",
        "\n",
        "def prime_table(x):\n",
        "    \"\"\"建立小於x的質數表\"\"\"\n",
        "    primes = [num for num in range(2, x) if is_prime(num)]\n",
        "    return primes\n",
        "\n",
        "\n",
        "def convert_base_into_list(number, base, width=10):\n",
        "    result = []  # init list\n",
        "\n",
        "    for i in range(width):\n",
        "        result.append(number % base)\n",
        "        number = number // base\n",
        "    result = result[::-1]\n",
        "    return result\n",
        "\n",
        "\n",
        "def prime_to_index(primeSize, primes, number):\n",
        "    for index in range(primeSize):\n",
        "        if number == primes[index]:\n",
        "            return index\n",
        "    return -1\n",
        "\n",
        "def add_prime(primeTable, limit, addSize=5):\n",
        "    halfList = [num for num in primeTable if num <= int(limit//2)]\n",
        "    if len(halfList) < 5:\n",
        "      halfList += [0] * (5 - len(halfList))\n",
        "    return sample(halfList, addSize)\n",
        "\n",
        "def add_aim(index, staticFlagX):\n",
        "\n",
        "  #feature = [index-flagN for flagN in staticFlagX] + []\n",
        "  return [index-flagN for flagN in staticFlagX]\n",
        "\n",
        "def add_mod(primeTable25, num):\n",
        "  return [num%index for index in primeTable25]\n",
        "\n",
        "\n",
        "def gcd(a, b):\n",
        "    while b != 0:\n",
        "        a, b = b, a % b\n",
        "    return a\n",
        "\n",
        "\n",
        "def compute_coprimes(n, count=50): #反向搜尋coprime, 預設為100\n",
        "    coprimes = []\n",
        "    num = n\n",
        "    while len(coprimes) < count and num >= 1:\n",
        "        if gcd(num, n) == 1:\n",
        "            coprimes.append(num%100)\n",
        "        num -= 1\n",
        "\n",
        "    if len(coprimes) < count:\n",
        "        coprimes = coprimes + ([0] * (count - len(coprimes)))\n",
        "    # return coprimes[::-1]  # 返回找到的質因數列表，這是反向的\n",
        "    return coprimes"
      ],
      "metadata": {
        "id": "Veno4zyPzi57"
      },
      "execution_count": 11,
      "outputs": []
    },
    {
      "cell_type": "code",
      "execution_count": null,
      "metadata": {
        "colab": {
          "base_uri": "https://localhost:8080/"
        },
        "id": "TdPvfso6zdJ2",
        "outputId": "a3ac0734-8fcd-4189-e715-602f97db37a3"
      },
      "outputs": [
        {
          "output_type": "stream",
          "name": "stdout",
          "text": [
            "---loading data---\n",
            "---loading data done.---\n"
          ]
        }
      ],
      "source": [
        "# shuffle\n",
        "\n",
        "print(\"---loading data---\")\n",
        "# load data\n",
        "trainData = pd.read_csv('/content/Drive/MyDrive/實驗/goldbach/csv/traindata_min_size_1000.csv')\n",
        "trainDataNumbers = trainData['Number'].values\n",
        "trainDataLabel = trainData['Factors'].values\n",
        "print(\"---loading data done.---\")\n",
        "\n",
        "# shuffle training data\n",
        "shuffleIndices = np.random.permutation(len(trainDataNumbers))\n",
        "shuffledNumbers = trainDataNumbers[shuffleIndices]\n",
        "shuffledLabel = trainDataLabel[shuffleIndices]"
      ]
    },
    {
      "cell_type": "code",
      "source": [
        "print (shuffledNumbers[5])\n",
        "print (shuffledLabel [5])"
      ],
      "metadata": {
        "colab": {
          "base_uri": "https://localhost:8080/"
        },
        "id": "T0VWLQPK6F7a",
        "outputId": "1686612b-1c16-4b24-fd50-04844efa1dd0"
      },
      "execution_count": null,
      "outputs": [
        {
          "output_type": "stream",
          "name": "stdout",
          "text": [
            "2110226\n",
            "7596\n"
          ]
        }
      ]
    },
    {
      "cell_type": "code",
      "source": [
        "# loadding prime table\n",
        "primeTable = pd.read_csv(\"/content/Drive/MyDrive/實驗/goldbach/csv/prime_table_5000000.csv\")\n",
        "primeTableNumber = primeTable[\"primes\"].values\n",
        "print (\"---loading primes table---\")"
      ],
      "metadata": {
        "colab": {
          "base_uri": "https://localhost:8080/"
        },
        "id": "k5qpkhdJ0ZlU",
        "outputId": "fabec2cb-e388-48f0-dfba-61f012faf602"
      },
      "execution_count": null,
      "outputs": [
        {
          "output_type": "stream",
          "name": "stdout",
          "text": [
            "---loading primes table---\n"
          ]
        }
      ]
    },
    {
      "cell_type": "markdown",
      "source": [],
      "metadata": {
        "id": "XjDFb9Z-GlrU"
      }
    },
    {
      "cell_type": "code",
      "source": [
        "# collect data\n",
        "# prepare training set\n",
        "mergedTrainNumber = []\n",
        "mergedTrainLabel = []\n",
        "\n",
        "for num in shuffledNumbers:\n",
        "\n",
        "    # Euler's Totient Function Partitions fist 50\n",
        "    feature = []\n",
        "    feature = compute_coprimes(num)\n",
        "    #print (feature)\n",
        "    mergedTrainNumber.append(feature)\n",
        "    print(f\"Euler's Totient Function of {num} calculated.\")\n",
        "\n",
        "for num in shuffledLabel:\n",
        "    mergedTrainLabel.append(num)\n",
        "\n",
        "    print(\"merge number \", num, \" done.\")\n",
        "\n",
        "#print (mergedTrainNumber)"
      ],
      "metadata": {
        "id": "3MZY96_M0KIu"
      },
      "execution_count": null,
      "outputs": []
    },
    {
      "cell_type": "code",
      "source": [
        "mergedArray = np.array(mergedTrainNumber)\n",
        "mergedLabel = np.array(mergedTrainLabel)"
      ],
      "metadata": {
        "id": "R4v5443kK8Lq"
      },
      "execution_count": null,
      "outputs": []
    },
    {
      "cell_type": "code",
      "source": [
        "X_train, X_val, y_train, y_val = train_test_split(mergedArray, mergedLabel, test_size=0.2, random_state=42)\n",
        "print (X_train[0])\n",
        "print (X_train[50])\n",
        "print (X_train[100])"
      ],
      "metadata": {
        "colab": {
          "base_uri": "https://localhost:8080/"
        },
        "id": "jyTwBG1jzoK8",
        "outputId": "1e714fd3-19b3-42e7-b50a-95a455eef114"
      },
      "execution_count": null,
      "outputs": [
        {
          "output_type": "stream",
          "name": "stdout",
          "text": [
            "[71 67 65 61 59 55 53 47 43 41 37 35 31 29 25 23 19 17 13 11  7  5  1 99\n",
            " 95 93 89 87 83 81 77 75 71 69 65 63 59 53 51 47 45 41 39 35 33 29 27 23\n",
            " 21 17 15  9  5  3 99 97 93 91 87 85 81 79 75 73 69 67 63 61 57 55 51 49\n",
            " 45 43 39 37 33 31 27 25 21 15 13  9  7  3  1 97 95 91 89 85 83 79 77 71\n",
            " 67 65 61 59]\n",
            "[79 77 73 71 69 67 63 61 59 57 53 51 49 47 43 41 39 37 33 31 29 27 23 21\n",
            " 19 17 13 11  9  7  3  1 99 97 93 91 89 87 83 81 79 77 73 71 69 67 63 61\n",
            " 59 57 53 51 49 47 43 41 39 37 33 31 29 27 23 21 19 17 13 11  9  7  3  1\n",
            " 99 97 93 91 89 87 83 81 79 77 73 71 69 67 63 61 59 57 53 51 49 47 43 41\n",
            " 39 37 33 31]\n",
            "[91 87 81 79 75 73 69 67 63 61 55 51 49 45 39 37 33 31 27 25 21 19 13  9\n",
            "  7  3 97 95 91 89 85 83 79 77 71 67 65 61 55 53 49 47 43 41 37 35 29 25\n",
            " 23 19 13 11  7  5  1 99 95 93 87 83 81 77 71 69 65 63 59 57 53 51 45 41\n",
            " 39 35 29 27 23 21 17 15 11  9  3 99 97 93 87 85 81 79 75 73 69 67 61 57\n",
            " 55 51 45 43]\n"
          ]
        }
      ]
    },
    {
      "cell_type": "code",
      "source": [
        "\n",
        "\n",
        "# start training\n",
        "# 清空所有\n",
        "keras.clear_session()\n",
        "\n",
        "################################################################\n",
        "\n",
        "# require gpu\n",
        "device = \"/device:GPU:0\"\n",
        "with tf.device(device):\n",
        "    print(f\"--- gpu {device} is loaded. ---\")\n",
        "    model = Sequential()\n",
        "\n",
        "    model.add(Dense(units=100, input_shape=(100,), activation='relu'))\n",
        "    model.add(Dense(units=200, activation='relu'))\n",
        "    model.add(Dense(units=200, activation='relu'))\n",
        "    model.add(Dense(units=200, activation='relu'))\n",
        "    model.add(Dense(units=200, activation='relu'))\n",
        "    model.add(Dense(units=1, activation='linear'))\n",
        "\n",
        "    print(model.summary())\n",
        "\n",
        "    custom_adam_optimizer = Adam(learning_rate=0.001)\n",
        "    model.compile(loss='MSE', optimizer=custom_adam_optimizer,\n",
        "                  metrics=['accuracy'])    # train version 2\n",
        "\n",
        "    # train model\n",
        "    print(\"---starting training---\")\n",
        "    trainHistory = model.fit(X_train, y_train, epochs=200,batch_size=2048, validation_data=(X_val, y_val))\n",
        "    print(\"--------------------------------------------------------\")\n",
        "\n",
        "    # save model\n",
        "    model.save('./csv/goldbach_model_1112_400w.h5')\n",
        "print(\"model saved.\")\n"
      ],
      "metadata": {
        "id": "ge8BVKMTznDr"
      },
      "execution_count": null,
      "outputs": []
    },
    {
      "cell_type": "markdown",
      "source": [
        "## predict"
      ],
      "metadata": {
        "id": "hQJtQBsxISQa"
      }
    },
    {
      "cell_type": "code",
      "source": [
        "from google.colab import drive\n",
        "drive.mount(\"/content/Drive\")"
      ],
      "metadata": {
        "colab": {
          "base_uri": "https://localhost:8080/"
        },
        "id": "_nbn4CLgI-I-",
        "outputId": "12243585-f07a-41a6-ba37-900e2723db66"
      },
      "execution_count": 1,
      "outputs": [
        {
          "output_type": "stream",
          "name": "stdout",
          "text": [
            "Mounted at /content/Drive\n"
          ]
        }
      ]
    },
    {
      "cell_type": "code",
      "source": [
        "# loadding prime table\n",
        "primeTable = pd.read_csv(\"/content/Drive/MyDrive/實驗/goldbach/csv/prime_table_5000000.csv\")\n",
        "primeTableNumber = primeTable[\"primes\"].values\n",
        "print (\"---loading primes table---\")"
      ],
      "metadata": {
        "colab": {
          "base_uri": "https://localhost:8080/"
        },
        "id": "0c8mDF4dJ9YC",
        "outputId": "a3ad2d9a-2c4c-4819-cd7b-00ac28b55784"
      },
      "execution_count": 4,
      "outputs": [
        {
          "output_type": "stream",
          "name": "stdout",
          "text": [
            "---loading primes table---\n"
          ]
        }
      ]
    },
    {
      "cell_type": "code",
      "source": [
        "## load data\n",
        "#predict\n",
        "\n",
        "from tensorflow.keras.models import load_model\n",
        "import csv\n",
        "import pandas as pd\n",
        "import numpy as np\n",
        "\n",
        "# 指定 HDF5 模型文件的路徑\n",
        "modelPath = '/content/Drive/MyDrive/實驗/model_save/goldbach_model_1211_400w_ep5000.h5'\n",
        "\n",
        "# 使用 load_model\n",
        "model = load_model(modelPath)\n",
        "\n",
        "# load test_set and prime data\n",
        "testDataPath = '/content/Drive/MyDrive/實驗/goldbach/csv/test_set.csv'\n",
        "testData = pd.read_csv(testDataPath)\n",
        "testDataNumbers = testData['Number'].values\n",
        "testDataLabel = testData['Factors'].values\n",
        "\n",
        "print(\"---loading test data done.---\")\n"
      ],
      "metadata": {
        "colab": {
          "base_uri": "https://localhost:8080/"
        },
        "id": "LHHJ3UKUI4Kd",
        "outputId": "0e5e4b43-10a4-4c88-a8c3-52177db30afd"
      },
      "execution_count": 5,
      "outputs": [
        {
          "output_type": "stream",
          "name": "stdout",
          "text": [
            "---loading test data done.---\n"
          ]
        }
      ]
    },
    {
      "cell_type": "code",
      "source": [
        "# shuffle training data\n",
        "shuffleIndices = np.random.permutation(len(testDataNumbers))\n",
        "shuffledNumbers = testDataNumbers[shuffleIndices]\n",
        "shuffledLabel = testDataLabel[shuffleIndices]"
      ],
      "metadata": {
        "id": "DdLMugz5KeQJ"
      },
      "execution_count": 6,
      "outputs": []
    },
    {
      "cell_type": "code",
      "source": [
        "# generate 25 prime table\n",
        "primeTable25 = primeTableNumber[:25]\n",
        "print (primeTable25)"
      ],
      "metadata": {
        "colab": {
          "base_uri": "https://localhost:8080/"
        },
        "id": "P016SagF3Ley",
        "outputId": "f2eccb90-ef00-4251-e8c8-05a24e800732"
      },
      "execution_count": 7,
      "outputs": [
        {
          "output_type": "stream",
          "name": "stdout",
          "text": [
            "[ 2  3  5  7 11 13 17 19 23 29 31 37 41 43 47 53 59 61 67 71 73 79 83 89\n",
            " 97]\n"
          ]
        }
      ]
    },
    {
      "cell_type": "code",
      "source": [
        "# collect data\n",
        "# prepare training set\n",
        "mergedTestNumber = []\n",
        "mergedTestLabel = []\n",
        "staticFlagX = [316978, 2652438, 3897236, 3226506, 3571052, 3276150]\n",
        "staticFlagY = [1577, 20090, 15400, 22108, 11879, 29621]\n",
        "\n",
        "for num in shuffledNumbers:\n",
        "\n",
        "   # Euler's Totient Function Partitions fist 50\n",
        "    feature = []\n",
        "    feature = compute_coprimes(num)\n",
        "    #print (feature)\n",
        "    mergedTestNumber.append(feature)\n",
        "    print(f\"Euler's Totient Function of {num} calculated.\")\n",
        "\n",
        "for num in shuffledLabel:\n",
        "    mergedTestLabel.append(num)\n",
        "\n",
        "    print(\"merge number \", num, \" is done.\")\n",
        "\n",
        "#print (mergedTrainNumber)"
      ],
      "metadata": {
        "id": "w0gtoY8mStjm",
        "colab": {
          "base_uri": "https://localhost:8080/"
        },
        "outputId": "3f66adcf-1426-4c66-ab9f-c7becb858dad"
      },
      "execution_count": 13,
      "outputs": [
        {
          "output_type": "stream",
          "name": "stdout",
          "text": [
            "Euler's Totient Function of 4561362 calculated.\n",
            "Euler's Totient Function of 4324986 calculated.\n",
            "Euler's Totient Function of 4653712 calculated.\n",
            "Euler's Totient Function of 4010118 calculated.\n",
            "Euler's Totient Function of 4215008 calculated.\n",
            "Euler's Totient Function of 4306378 calculated.\n",
            "Euler's Totient Function of 4291942 calculated.\n",
            "Euler's Totient Function of 4833296 calculated.\n",
            "Euler's Totient Function of 4170488 calculated.\n",
            "Euler's Totient Function of 4604856 calculated.\n",
            "Euler's Totient Function of 4347996 calculated.\n",
            "Euler's Totient Function of 4634032 calculated.\n",
            "Euler's Totient Function of 4166062 calculated.\n",
            "Euler's Totient Function of 4550968 calculated.\n",
            "Euler's Totient Function of 4704764 calculated.\n",
            "Euler's Totient Function of 4867410 calculated.\n",
            "Euler's Totient Function of 4920400 calculated.\n",
            "Euler's Totient Function of 4948220 calculated.\n",
            "Euler's Totient Function of 4234636 calculated.\n",
            "Euler's Totient Function of 4790492 calculated.\n",
            "Euler's Totient Function of 4158576 calculated.\n",
            "Euler's Totient Function of 4706630 calculated.\n",
            "Euler's Totient Function of 4657756 calculated.\n",
            "Euler's Totient Function of 4270436 calculated.\n",
            "Euler's Totient Function of 4047740 calculated.\n",
            "Euler's Totient Function of 4264218 calculated.\n",
            "Euler's Totient Function of 4665262 calculated.\n",
            "Euler's Totient Function of 4477430 calculated.\n",
            "Euler's Totient Function of 4870030 calculated.\n",
            "Euler's Totient Function of 4622606 calculated.\n",
            "Euler's Totient Function of 4737856 calculated.\n",
            "Euler's Totient Function of 4023648 calculated.\n",
            "Euler's Totient Function of 4037074 calculated.\n",
            "Euler's Totient Function of 4151108 calculated.\n",
            "Euler's Totient Function of 4010462 calculated.\n",
            "Euler's Totient Function of 4951794 calculated.\n",
            "Euler's Totient Function of 4769998 calculated.\n",
            "Euler's Totient Function of 4914148 calculated.\n",
            "Euler's Totient Function of 4282102 calculated.\n",
            "Euler's Totient Function of 4411002 calculated.\n",
            "Euler's Totient Function of 4439012 calculated.\n",
            "Euler's Totient Function of 4788616 calculated.\n",
            "Euler's Totient Function of 4874976 calculated.\n",
            "Euler's Totient Function of 4817322 calculated.\n",
            "Euler's Totient Function of 4263072 calculated.\n",
            "Euler's Totient Function of 4264618 calculated.\n",
            "Euler's Totient Function of 4019078 calculated.\n",
            "Euler's Totient Function of 4922464 calculated.\n",
            "Euler's Totient Function of 4874538 calculated.\n",
            "Euler's Totient Function of 4628068 calculated.\n",
            "merge number  32717  is done.\n",
            "merge number  28364  is done.\n",
            "merge number  18648  is done.\n",
            "merge number  31717  is done.\n",
            "merge number  17037  is done.\n",
            "merge number  14047  is done.\n",
            "merge number  14594  is done.\n",
            "merge number  17861  is done.\n",
            "merge number  16372  is done.\n",
            "merge number  29963  is done.\n",
            "merge number  28296  is done.\n",
            "merge number  16346  is done.\n",
            "merge number  13763  is done.\n",
            "merge number  15886  is done.\n",
            "merge number  15154  is done.\n",
            "merge number  42050  is done.\n",
            "merge number  20936  is done.\n",
            "merge number  22961  is done.\n",
            "merge number  16566  is done.\n",
            "merge number  19071  is done.\n",
            "merge number  27127  is done.\n",
            "merge number  20215  is done.\n",
            "merge number  14997  is done.\n",
            "merge number  14456  is done.\n",
            "merge number  17657  is done.\n",
            "merge number  34817  is done.\n",
            "merge number  18098  is done.\n",
            "merge number  19410  is done.\n",
            "merge number  23276  is done.\n",
            "merge number  16070  is done.\n",
            "merge number  15340  is done.\n",
            "merge number  26490  is done.\n",
            "merge number  13302  is done.\n",
            "merge number  14832  is done.\n",
            "merge number  13108  is done.\n",
            "merge number  34670  is done.\n",
            "merge number  15623  is done.\n",
            "merge number  15673  is done.\n",
            "merge number  15798  is done.\n",
            "merge number  30274  is done.\n",
            "merge number  14357  is done.\n",
            "merge number  18535  is done.\n",
            "merge number  31307  is done.\n",
            "merge number  30918  is done.\n",
            "merge number  31204  is done.\n",
            "merge number  13996  is done.\n",
            "merge number  15871  is done.\n",
            "merge number  15845  is done.\n",
            "merge number  31284  is done.\n",
            "merge number  14977  is done.\n"
          ]
        }
      ]
    },
    {
      "cell_type": "code",
      "source": [
        "mergedArray = np.array(mergedTestNumber)\n",
        "mergedLabel = np.array(mergedTestLabel)"
      ],
      "metadata": {
        "id": "NqG32lBzKND0"
      },
      "execution_count": 14,
      "outputs": []
    },
    {
      "cell_type": "code",
      "source": [
        "evaluation = model.evaluate(mergedArray, mergedLabel)\n",
        "#XNewData = testDataNumbers, testDataLabel\n",
        "print (\"Loss:\", evaluation[0])\n",
        "print (\"Accuracy:\", evaluation[1])\n",
        "print (\"##########################\")\n",
        "predictions = model.predict(mergedArray)"
      ],
      "metadata": {
        "id": "Jn3qRRzIKwVH",
        "colab": {
          "base_uri": "https://localhost:8080/"
        },
        "outputId": "081db3a7-76fb-4b1e-81ca-bff6e33a8d71"
      },
      "execution_count": 15,
      "outputs": [
        {
          "output_type": "stream",
          "name": "stdout",
          "text": [
            "2/2 [==============================] - 0s 12ms/step - loss: 767845824.0000 - accuracy: 0.0000e+00\n",
            "Loss: 767845824.0\n",
            "Accuracy: 0.0\n",
            "##########################\n",
            "2/2 [==============================] - 0s 7ms/step\n"
          ]
        }
      ]
    },
    {
      "cell_type": "code",
      "source": [
        "print (f\"測試五十筆資料\")\n",
        "roundPredictions = np.round(predictions)\n",
        "for index, number in enumerate(testDataNumbers):\n",
        "  print (f\"第{index}筆資料為數字:\\t{number}\\t|正確答案為:{testDataLabel[index]}\\t模型預估為{predictions[index]}, 四捨五入到{roundPredictions[index]}\")\n"
      ],
      "metadata": {
        "colab": {
          "base_uri": "https://localhost:8080/"
        },
        "id": "aBJHTke7LvXm",
        "outputId": "465d23ce-ca2b-4dd9-a42e-207be8467c33"
      },
      "execution_count": 16,
      "outputs": [
        {
          "output_type": "stream",
          "name": "stdout",
          "text": [
            "測試五十筆資料\n",
            "第0筆資料為數字:\t4234636\t|正確答案為:16566\t模型預估為[-15649.003], 四捨五入到[-15649.]\n",
            "第1筆資料為數字:\t4010118\t|正確答案為:31717\t模型預估為[-15484.219], 四捨五入到[-15484.]\n",
            "第2筆資料為數字:\t4291942\t|正確答案為:14594\t模型預估為[22810.996], 四捨五入到[22811.]\n",
            "第3筆資料為數字:\t4151108\t|正確答案為:14832\t模型預估為[18999.504], 四捨五入到[19000.]\n",
            "第4筆資料為數字:\t4914148\t|正確答案為:15673\t模型預估為[18634.645], 四捨五入到[18635.]\n",
            "第5筆資料為數字:\t4634032\t|正確答案為:16346\t模型預估為[7609.2183], 四捨五入到[7609.]\n",
            "第6筆資料為數字:\t4010462\t|正確答案為:13108\t模型預估為[-9486.607], 四捨五入到[-9487.]\n",
            "第7筆資料為數字:\t4665262\t|正確答案為:18098\t模型預估為[4932.988], 四捨五入到[4933.]\n",
            "第8筆資料為數字:\t4874538\t|正確答案為:31284\t模型預估為[5209.1206], 四捨五入到[5209.]\n",
            "第9筆資料為數字:\t4867410\t|正確答案為:42050\t模型預估為[-15743.421], 四捨五入到[-15743.]\n",
            "第10筆資料為數字:\t4769998\t|正確答案為:15623\t模型預估為[-3479.1917], 四捨五入到[-3479.]\n",
            "第11筆資料為數字:\t4550968\t|正確答案為:15886\t模型預估為[6283.0386], 四捨五入到[6283.]\n",
            "第12筆資料為數字:\t4324986\t|正確答案為:28364\t模型預估為[-642.6409], 四捨五入到[-643.]\n",
            "第13筆資料為數字:\t4306378\t|正確答案為:14047\t模型預估為[3748.0037], 四捨五入到[3748.]\n",
            "第14筆資料為數字:\t4657756\t|正確答案為:14997\t模型預估為[4245.937], 四捨五入到[4246.]\n",
            "第15筆資料為數字:\t4948220\t|正確答案為:22961\t模型預估為[-15687.297], 四捨五入到[-15687.]\n",
            "第16筆資料為數字:\t4622606\t|正確答案為:16070\t模型預估為[4779.0034], 四捨五入到[4779.]\n",
            "第17筆資料為數字:\t4037074\t|正確答案為:13302\t模型預估為[14897.412], 四捨五入到[14897.]\n",
            "第18筆資料為數字:\t4264618\t|正確答案為:13996\t模型預估為[6899.7456], 四捨五入到[6900.]\n",
            "第19筆資料為數字:\t4019078\t|正確答案為:15871\t模型預估為[4161.98], 四捨五入到[4162.]\n",
            "第20筆資料為數字:\t4922464\t|正確答案為:15845\t模型預估為[-20503.648], 四捨五入到[-20504.]\n",
            "第21筆資料為數字:\t4561362\t|正確答案為:32717\t模型預估為[-16195.786], 四捨五入到[-16196.]\n",
            "第22筆資料為數字:\t4263072\t|正確答案為:31204\t模型預估為[-7688.2817], 四捨五入到[-7688.]\n",
            "第23筆資料為數字:\t4477430\t|正確答案為:19410\t模型預估為[-2863.51], 四捨五入到[-2864.]\n",
            "第24筆資料為數字:\t4817322\t|正確答案為:30918\t模型預估為[-2229.465], 四捨五入到[-2229.]\n",
            "第25筆資料為數字:\t4870030\t|正確答案為:23276\t模型預估為[18332.371], 四捨五入到[18332.]\n",
            "第26筆資料為數字:\t4282102\t|正確答案為:15798\t模型預估為[-16933.691], 四捨五入到[-16934.]\n",
            "第27筆資料為數字:\t4874976\t|正確答案為:31307\t模型預估為[-16195.786], 四捨五入到[-16196.]\n",
            "第28筆資料為數字:\t4706630\t|正確答案為:20215\t模型預估為[97055.45], 四捨五入到[97055.]\n",
            "第29筆資料為數字:\t4215008\t|正確答案為:17037\t模型預估為[12556.41], 四捨五入到[12556.]\n",
            "第30筆資料為數字:\t4023648\t|正確答案為:26490\t模型預估為[-7688.2427], 四捨五入到[-7688.]\n",
            "第31筆資料為數字:\t4270436\t|正確答案為:14456\t模型預估為[-4666.7153], 四捨五入到[-4667.]\n",
            "第32筆資料為數字:\t4833296\t|正確答案為:17861\t模型預估為[4430.5503], 四捨五入到[4431.]\n",
            "第33筆資料為數字:\t4047740\t|正確答案為:17657\t模型預估為[21111.48], 四捨五入到[21111.]\n",
            "第34筆資料為數字:\t4737856\t|正確答案為:15340\t模型預估為[-642.6409], 四捨五入到[-643.]\n",
            "第35筆資料為數字:\t4653712\t|正確答案為:18648\t模型預估為[-17915.484], 四捨五入到[-17915.]\n",
            "第36筆資料為數字:\t4170488\t|正確答案為:16372\t模型預估為[6786.152], 四捨五入到[6786.]\n",
            "第37筆資料為數字:\t4264218\t|正確答案為:34817\t模型預估為[4262.564], 四捨五入到[4263.]\n",
            "第38筆資料為數字:\t4166062\t|正確答案為:13763\t模型預估為[10145.305], 四捨五入到[10145.]\n",
            "第39筆資料為數字:\t4951794\t|正確答案為:34670\t模型預估為[-5052.8833], 四捨五入到[-5053.]\n",
            "第40筆資料為數字:\t4790492\t|正確答案為:19071\t模型預估為[21308.668], 四捨五入到[21309.]\n",
            "第41筆資料為數字:\t4604856\t|正確答案為:29963\t模型預估為[11642.547], 四捨五入到[11643.]\n",
            "第42筆資料為數字:\t4704764\t|正確答案為:15154\t模型預估為[-20503.648], 四捨五入到[-20504.]\n",
            "第43筆資料為數字:\t4411002\t|正確答案為:30274\t模型預估為[12279.902], 四捨五入到[12280.]\n",
            "第44筆資料為數字:\t4347996\t|正確答案為:28296\t模型預估為[-18873.174], 四捨五入到[-18873.]\n",
            "第45筆資料為數字:\t4439012\t|正確答案為:14357\t模型預估為[-2236.5583], 四捨五入到[-2237.]\n",
            "第46筆資料為數字:\t4628068\t|正確答案為:14977\t模型預估為[4300.1284], 四捨五入到[4300.]\n",
            "第47筆資料為數字:\t4788616\t|正確答案為:18535\t模型預估為[4245.937], 四捨五入到[4246.]\n",
            "第48筆資料為數字:\t4158576\t|正確答案為:27127\t模型預估為[37559.54], 四捨五入到[37560.]\n",
            "第49筆資料為數字:\t4920400\t|正確答案為:20936\t模型預估為[5427.9175], 四捨五入到[5428.]\n"
          ]
        }
      ]
    },
    {
      "cell_type": "code",
      "source": [
        "print (\"\\t正確答案  \"  , \"\\t/\" ,\"  \\t模型預測\")\n",
        "for index, number in enumerate(testDataNumbers):\n",
        "  print (f\"{index}\\t{testDataLabel[index]}  \\t\\t/  \\t{roundPredictions[index]} = {testDataLabel[index]/roundPredictions[index]} \")\n",
        "print (\"###########################################################################\")\n",
        "\n",
        "print (\"\\t正確答案  \"  , \"\\t-\" ,\"  \\t模型預測\")\n",
        "for index, number in enumerate(testDataNumbers):\n",
        "  print (f\"{index}\\t{testDataLabel[index]}  \\t\\t-  \\t{roundPredictions[index]} = {testDataLabel[index]-roundPredictions[index]} \")"
      ],
      "metadata": {
        "colab": {
          "base_uri": "https://localhost:8080/"
        },
        "id": "U88QnsT5L0ol",
        "outputId": "15361208-ac94-4c5e-9fb3-ba62d6a03cd1"
      },
      "execution_count": 17,
      "outputs": [
        {
          "output_type": "stream",
          "name": "stdout",
          "text": [
            "\t正確答案   \t/   \t模型預測\n",
            "0\t16566  \t\t/  \t[-15649.] = [-1.058598] \n",
            "1\t31717  \t\t/  \t[-15484.] = [-2.0483725] \n",
            "2\t14594  \t\t/  \t[22811.] = [0.63977903] \n",
            "3\t14832  \t\t/  \t[19000.] = [0.7806316] \n",
            "4\t15673  \t\t/  \t[18635.] = [0.84105176] \n",
            "5\t16346  \t\t/  \t[7609.] = [2.1482456] \n",
            "6\t13108  \t\t/  \t[-9487.] = [-1.3816803] \n",
            "7\t18098  \t\t/  \t[4933.] = [3.6687615] \n",
            "8\t31284  \t\t/  \t[5209.] = [6.0057592] \n",
            "9\t42050  \t\t/  \t[-15743.] = [-2.6710284] \n",
            "10\t15623  \t\t/  \t[-3479.] = [-4.4906583] \n",
            "11\t15886  \t\t/  \t[6283.] = [2.52841] \n",
            "12\t28364  \t\t/  \t[-643.] = [-44.111977] \n",
            "13\t14047  \t\t/  \t[3748.] = [3.7478654] \n",
            "14\t14997  \t\t/  \t[4246.] = [3.53203] \n",
            "15\t22961  \t\t/  \t[-15687.] = [-1.463696] \n",
            "16\t16070  \t\t/  \t[4779.] = [3.3626282] \n",
            "17\t13302  \t\t/  \t[14897.] = [0.89293146] \n",
            "18\t13996  \t\t/  \t[6900.] = [2.028406] \n",
            "19\t15871  \t\t/  \t[4162.] = [3.8133109] \n",
            "20\t15845  \t\t/  \t[-20504.] = [-0.77277607] \n",
            "21\t32717  \t\t/  \t[-16196.] = [-2.0200667] \n",
            "22\t31204  \t\t/  \t[-7688.] = [-4.058793] \n",
            "23\t19410  \t\t/  \t[-2864.] = [-6.7772346] \n",
            "24\t30918  \t\t/  \t[-2229.] = [-13.870794] \n",
            "25\t23276  \t\t/  \t[18332.] = [1.2696923] \n",
            "26\t15798  \t\t/  \t[-16934.] = [-0.93291605] \n",
            "27\t31307  \t\t/  \t[-16196.] = [-1.9330082] \n",
            "28\t20215  \t\t/  \t[97055.] = [0.20828396] \n",
            "29\t17037  \t\t/  \t[12556.] = [1.3568811] \n",
            "30\t26490  \t\t/  \t[-7688.] = [-3.4456296] \n",
            "31\t14456  \t\t/  \t[-4667.] = [-3.097493] \n",
            "32\t17861  \t\t/  \t[4431.] = [4.0309186] \n",
            "33\t17657  \t\t/  \t[21111.] = [0.8363886] \n",
            "34\t15340  \t\t/  \t[-643.] = [-23.85692] \n",
            "35\t18648  \t\t/  \t[-17915.] = [-1.0409155] \n",
            "36\t16372  \t\t/  \t[6786.] = [2.412614] \n",
            "37\t34817  \t\t/  \t[4263.] = [8.1672535] \n",
            "38\t13763  \t\t/  \t[10145.] = [1.3566289] \n",
            "39\t34670  \t\t/  \t[-5053.] = [-6.8612704] \n",
            "40\t19071  \t\t/  \t[21309.] = [0.89497393] \n",
            "41\t29963  \t\t/  \t[11643.] = [2.5734777] \n",
            "42\t15154  \t\t/  \t[-20504.] = [-0.7390753] \n",
            "43\t30274  \t\t/  \t[12280.] = [2.4653094] \n",
            "44\t28296  \t\t/  \t[-18873.] = [-1.4992847] \n",
            "45\t14357  \t\t/  \t[-2237.] = [-6.4179707] \n",
            "46\t14977  \t\t/  \t[4300.] = [3.4830232] \n",
            "47\t18535  \t\t/  \t[4246.] = [4.365285] \n",
            "48\t27127  \t\t/  \t[37560.] = [0.7222311] \n",
            "49\t20936  \t\t/  \t[5428.] = [3.8570375] \n",
            "###########################################################################\n",
            "\t正確答案   \t-   \t模型預測\n",
            "0\t16566  \t\t-  \t[-15649.] = [32215.] \n",
            "1\t31717  \t\t-  \t[-15484.] = [47201.] \n",
            "2\t14594  \t\t-  \t[22811.] = [-8217.] \n",
            "3\t14832  \t\t-  \t[19000.] = [-4168.] \n",
            "4\t15673  \t\t-  \t[18635.] = [-2962.] \n",
            "5\t16346  \t\t-  \t[7609.] = [8737.] \n",
            "6\t13108  \t\t-  \t[-9487.] = [22595.] \n",
            "7\t18098  \t\t-  \t[4933.] = [13165.] \n",
            "8\t31284  \t\t-  \t[5209.] = [26075.] \n",
            "9\t42050  \t\t-  \t[-15743.] = [57793.] \n",
            "10\t15623  \t\t-  \t[-3479.] = [19102.] \n",
            "11\t15886  \t\t-  \t[6283.] = [9603.] \n",
            "12\t28364  \t\t-  \t[-643.] = [29007.] \n",
            "13\t14047  \t\t-  \t[3748.] = [10299.] \n",
            "14\t14997  \t\t-  \t[4246.] = [10751.] \n",
            "15\t22961  \t\t-  \t[-15687.] = [38648.] \n",
            "16\t16070  \t\t-  \t[4779.] = [11291.] \n",
            "17\t13302  \t\t-  \t[14897.] = [-1595.] \n",
            "18\t13996  \t\t-  \t[6900.] = [7096.] \n",
            "19\t15871  \t\t-  \t[4162.] = [11709.] \n",
            "20\t15845  \t\t-  \t[-20504.] = [36349.] \n",
            "21\t32717  \t\t-  \t[-16196.] = [48913.] \n",
            "22\t31204  \t\t-  \t[-7688.] = [38892.] \n",
            "23\t19410  \t\t-  \t[-2864.] = [22274.] \n",
            "24\t30918  \t\t-  \t[-2229.] = [33147.] \n",
            "25\t23276  \t\t-  \t[18332.] = [4944.] \n",
            "26\t15798  \t\t-  \t[-16934.] = [32732.] \n",
            "27\t31307  \t\t-  \t[-16196.] = [47503.] \n",
            "28\t20215  \t\t-  \t[97055.] = [-76840.] \n",
            "29\t17037  \t\t-  \t[12556.] = [4481.] \n",
            "30\t26490  \t\t-  \t[-7688.] = [34178.] \n",
            "31\t14456  \t\t-  \t[-4667.] = [19123.] \n",
            "32\t17861  \t\t-  \t[4431.] = [13430.] \n",
            "33\t17657  \t\t-  \t[21111.] = [-3454.] \n",
            "34\t15340  \t\t-  \t[-643.] = [15983.] \n",
            "35\t18648  \t\t-  \t[-17915.] = [36563.] \n",
            "36\t16372  \t\t-  \t[6786.] = [9586.] \n",
            "37\t34817  \t\t-  \t[4263.] = [30554.] \n",
            "38\t13763  \t\t-  \t[10145.] = [3618.] \n",
            "39\t34670  \t\t-  \t[-5053.] = [39723.] \n",
            "40\t19071  \t\t-  \t[21309.] = [-2238.] \n",
            "41\t29963  \t\t-  \t[11643.] = [18320.] \n",
            "42\t15154  \t\t-  \t[-20504.] = [35658.] \n",
            "43\t30274  \t\t-  \t[12280.] = [17994.] \n",
            "44\t28296  \t\t-  \t[-18873.] = [47169.] \n",
            "45\t14357  \t\t-  \t[-2237.] = [16594.] \n",
            "46\t14977  \t\t-  \t[4300.] = [10677.] \n",
            "47\t18535  \t\t-  \t[4246.] = [14289.] \n",
            "48\t27127  \t\t-  \t[37560.] = [-10433.] \n",
            "49\t20936  \t\t-  \t[5428.] = [15508.] \n"
          ]
        }
      ]
    },
    {
      "cell_type": "code",
      "source": [
        "import math\n",
        "def calculate_mse(predictions, targets):\n",
        "    \"\"\"\n",
        "    計算均方誤差 (MSE)\n",
        "\n",
        "    參數:\n",
        "    predictions: 預測值的列表或陣列\n",
        "    targets: 實際值的列表或陣列，與預測值對應\n",
        "\n",
        "    返回值:\n",
        "    mse: 均方誤差\n",
        "    \"\"\"\n",
        "    # 確保預測值和實際值的長度相等\n",
        "    if len(predictions) != len(targets):\n",
        "        raise ValueError(\"預測值和實際值的長度不一致\")\n",
        "\n",
        "    # 計算平方誤差\n",
        "    squared_errors = [(p - t) ** 2 for p, t in zip(predictions, targets)]\n",
        "\n",
        "    # 計算均方誤差\n",
        "    mse = sum(squared_errors) / len(predictions)\n",
        "\n",
        "    return mse\n",
        "\n",
        "# 使用 LN\n",
        "mse_result = calculate_mse(roundPredictions, testDataLabel)\n",
        "\n",
        "# 使用 MLP(old)\n",
        "#mse_result = calculate_mse(predictions, testDataPartition)\n",
        "\n",
        "print(\"均方誤差 (MSE):\", mse_result)\n",
        "\n",
        "mean = testData['Factors'].mean()\n",
        "\n",
        "#+N MSE\n",
        "MSE = int(calculate_mse(roundPredictions, testDataLabel))\n",
        "\n",
        "#MLP MSE\n",
        "# MSE = int(calculate_mse(predictions, testDataPartition))\n",
        "\n",
        "RMSE= math.sqrt(MSE)\n",
        "errorRate = RMSE/mean\n",
        "\n",
        "print (f\"MSE : {MSE}\\nRMSE : {RMSE}\\nError Rate : {errorRate}  ->  {round(errorRate,7)*100}%\")"
      ],
      "metadata": {
        "id": "JqxlmzVbuYrJ",
        "colab": {
          "base_uri": "https://localhost:8080/"
        },
        "outputId": "413736e5-76b5-47f5-b382-0d10c890daae"
      },
      "execution_count": 21,
      "outputs": [
        {
          "output_type": "stream",
          "name": "stdout",
          "text": [
            "均方誤差 (MSE): [7.721485e+08]\n",
            "MSE : 772148480\n",
            "RMSE : 27787.55980650334\n",
            "Error Rate : 1.3208572021085823  ->  132.08572%\n"
          ]
        },
        {
          "output_type": "stream",
          "name": "stderr",
          "text": [
            "<ipython-input-21-bc90de9b1501>:36: DeprecationWarning: Conversion of an array with ndim > 0 to a scalar is deprecated, and will error in future. Ensure you extract a single element from your array before performing this operation. (Deprecated NumPy 1.25.)\n",
            "  MSE = int(calculate_mse(roundPredictions, testDataLabel))\n"
          ]
        }
      ]
    },
    {
      "cell_type": "code",
      "source": [],
      "metadata": {
        "id": "AUpNuzrpmlxH"
      },
      "execution_count": null,
      "outputs": []
    }
  ]
}